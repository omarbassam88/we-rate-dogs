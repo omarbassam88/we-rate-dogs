{
 "cells": [
  {
   "cell_type": "markdown",
   "metadata": {},
   "source": [
    "<center><h1><strong>WeRateDogs Data Wrangling</strong></h1></center>"
   ]
  },
  {
   "cell_type": "markdown",
   "metadata": {
    "toc": true
   },
   "source": [
    "<h1>Table of Contents<span class=\"tocSkip\"></span></h1>\n",
    "<div class=\"toc\"><ul class=\"toc-item\"><li><span><a href=\"#WeRateDogs-Data-Wrangling\" data-toc-modified-id=\"WeRateDogs-Data-Wrangling-1\"><strong>WeRateDogs Data Wrangling</strong></a></span></li><li><span><a href=\"#Introduction\" data-toc-modified-id=\"Introduction-2\">Introduction</a></span></li><li><span><a href=\"#1.-Gathering\" data-toc-modified-id=\"1.-Gathering-3\">1. Gathering</a></span><ul class=\"toc-item\"><li><span><a href=\"#1.1-The-WeRateDogs-Twitter-Archive\" data-toc-modified-id=\"1.1-The-WeRateDogs-Twitter-Archive-3.1\">1.1 The WeRateDogs Twitter Archive</a></span></li><li><span><a href=\"#1.2-The-Tweet-image-predictions\" data-toc-modified-id=\"1.2-The-Tweet-image-predictions-3.2\">1.2 The Tweet image predictions</a></span></li><li><span><a href=\"#1.3-Twitter-API\" data-toc-modified-id=\"1.3-Twitter-API-3.3\">1.3 Twitter API</a></span></li><li><span><a href=\"#1.4-Gathering-Output\" data-toc-modified-id=\"1.4-Gathering-Output-3.4\">1.4 Gathering Output</a></span></li></ul></li><li><span><a href=\"#2.-Assessing-the-Data\" data-toc-modified-id=\"2.-Assessing-the-Data-4\">2. Assessing the Data</a></span><ul class=\"toc-item\"><li><span><a href=\"#2.1-Twitter-Archive\" data-toc-modified-id=\"2.1-Twitter-Archive-4.1\">2.1 Twitter Archive</a></span></li><li><span><a href=\"#2.2-Tweet-Image-Predictions\" data-toc-modified-id=\"2.2-Tweet-Image-Predictions-4.2\">2.2 Tweet Image Predictions</a></span></li><li><span><a href=\"#2.3-Twitter-API\" data-toc-modified-id=\"2.3-Twitter-API-4.3\">2.3 Twitter API</a></span></li><li><span><a href=\"#2.4-Assessing-Output\" data-toc-modified-id=\"2.4-Assessing-Output-4.4\">2.4 Assessing Output</a></span></li></ul></li><li><span><a href=\"#3.-Cleaning\" data-toc-modified-id=\"3.-Cleaning-5\">3. Cleaning</a></span><ul class=\"toc-item\"><li><span><a href=\"#3.1-Twitter-Archive\" data-toc-modified-id=\"3.1-Twitter-Archive-5.1\">3.1 Twitter Archive</a></span></li><li><span><a href=\"#3.2-Tweet-Image-Predictions\" data-toc-modified-id=\"3.2-Tweet-Image-Predictions-5.2\">3.2 Tweet Image Predictions</a></span></li><li><span><a href=\"#3.3-Twitter-API\" data-toc-modified-id=\"3.3-Twitter-API-5.3\">3.3 Twitter API</a></span></li><li><span><a href=\"#3.4-Merging-Data\" data-toc-modified-id=\"3.4-Merging-Data-5.4\">3.4 Merging Data</a></span></li><li><span><a href=\"#3.5-Storing-Data\" data-toc-modified-id=\"3.5-Storing-Data-5.5\">3.5 Storing Data</a></span></li></ul></li><li><span><a href=\"#4.-Data-Analysis-and-Visualization\" data-toc-modified-id=\"4.-Data-Analysis-and-Visualization-6\">4. Data Analysis and Visualization</a></span><ul class=\"toc-item\"><li><span><a href=\"#4.1-Analyzing-the-image-predictions-DataFrame\" data-toc-modified-id=\"4.1-Analyzing-the-image-predictions-DataFrame-6.1\">4.1 Analyzing the image predictions DataFrame</a></span></li><li><span><a href=\"#4.2-Analyzing-the-twitter-archive-data-and-the-prediction-level-1\" data-toc-modified-id=\"4.2-Analyzing-the-twitter-archive-data-and-the-prediction-level-1-6.2\">4.2 Analyzing the twitter archive data and the prediction level 1</a></span></li></ul></li></ul></div>"
   ]
  },
  {
   "cell_type": "markdown",
   "metadata": {},
   "source": [
    "# Introduction\n",
    "\n",
    "This project started as an assessment for the **Udacity Data Analysis Professional Track**.\n",
    "\n",
    "The dataset is the tweet archive of Twitter user [@dog_rates](https://twitter.com/dog_rates), also known as \n",
    "[WeRateDogs](https://en.wikipedia.org/wiki/WeRateDogs). WeRateDogs is a Twitter account that rates people's dogs with a humorous comment about the dog. These ratings almost always have a denominator of 10. The numerators, though? Almost always greater than 10. 11/10, 12/10, 13/10, etc. Why? Because [\"they're good dogs Brent.\"](https://knowyourmeme.com/memes/theyre-good-dogs-brent) WeRateDogs has over 4 million followers and has received international media coverage."
   ]
  },
  {
   "cell_type": "markdown",
   "metadata": {},
   "source": [
    "<center><img width=\"50%\" src =\"dog-rates-social.jpg\"/></center>"
   ]
  },
  {
   "cell_type": "markdown",
   "metadata": {},
   "source": [
    "The data wrangling process was achieved using python and the following packages (Libraries):\n",
    "\n",
    "- [NumPy](https://numpy.org/)\n",
    "- [Panadas](https://pandas.pydata.org/)\n",
    "- [Requests](https://requests.readthedocs.io/en/master/)\n",
    "- [Tweepy](https://www.tweepy.org/)\n",
    "- [json](https://docs.python.org/3/library/json.html)\n"
   ]
  },
  {
   "cell_type": "markdown",
   "metadata": {},
   "source": [
    "# 1. Gathering\n",
    "\n",
    "Three sources of data were gathered for this Project:\n",
    "1. Twitter acrhive provided by WeRateDogs\n",
    "2. Image predictions from the neural network data downloaded programatically.\n",
    "3. Information from the Twitter API scraped programatically."
   ]
  },
  {
   "cell_type": "markdown",
   "metadata": {},
   "source": [
    "We begin by importing the required libraries and packages that will help us in our data wranglling and analysis"
   ]
  },
  {
   "cell_type": "code",
   "execution_count": 1,
   "metadata": {
    "hide_input": false
   },
   "outputs": [],
   "source": [
    "#import required libraries\n",
    "import numpy as np\n",
    "import pandas as pd\n",
    "import matplotlib.pyplot as plt\n",
    "import matplotlib.ticker as mtick\n",
    "import matplotlib.dates as mdates\n",
    "import seaborn as sns\n",
    "import os\n",
    "import requests\n",
    "import tweepy\n",
    "import json\n",
    "import re"
   ]
  },
  {
   "cell_type": "markdown",
   "metadata": {},
   "source": [
    "## 1.1 The WeRateDogs Twitter Archive\n",
    "\n",
    "- The 'twitter-archive-enhanced.csv' file was provided by Udacity and downloaded manually.\n",
    "- Then it was easily read into a pandas DataFrame named `df_archive`."
   ]
  },
  {
   "cell_type": "code",
   "execution_count": 2,
   "metadata": {
    "hide_input": false,
    "scrolled": true
   },
   "outputs": [
    {
     "data": {
      "text/html": [
       "<div>\n",
       "<style scoped>\n",
       "    .dataframe tbody tr th:only-of-type {\n",
       "        vertical-align: middle;\n",
       "    }\n",
       "\n",
       "    .dataframe tbody tr th {\n",
       "        vertical-align: top;\n",
       "    }\n",
       "\n",
       "    .dataframe thead th {\n",
       "        text-align: right;\n",
       "    }\n",
       "</style>\n",
       "<table border=\"1\" class=\"dataframe\">\n",
       "  <thead>\n",
       "    <tr style=\"text-align: right;\">\n",
       "      <th></th>\n",
       "      <th>tweet_id</th>\n",
       "      <th>in_reply_to_status_id</th>\n",
       "      <th>in_reply_to_user_id</th>\n",
       "      <th>timestamp</th>\n",
       "      <th>source</th>\n",
       "      <th>text</th>\n",
       "      <th>retweeted_status_id</th>\n",
       "      <th>retweeted_status_user_id</th>\n",
       "      <th>retweeted_status_timestamp</th>\n",
       "      <th>expanded_urls</th>\n",
       "      <th>rating_numerator</th>\n",
       "      <th>rating_denominator</th>\n",
       "      <th>name</th>\n",
       "      <th>doggo</th>\n",
       "      <th>floofer</th>\n",
       "      <th>pupper</th>\n",
       "      <th>puppo</th>\n",
       "    </tr>\n",
       "  </thead>\n",
       "  <tbody>\n",
       "    <tr>\n",
       "      <th>0</th>\n",
       "      <td>892420643555336193</td>\n",
       "      <td>NaN</td>\n",
       "      <td>NaN</td>\n",
       "      <td>2017-08-01 16:23:56 +0000</td>\n",
       "      <td>&lt;a href=\"http://twitter.com/download/iphone\" r...</td>\n",
       "      <td>This is Phineas. He's a mystical boy. Only eve...</td>\n",
       "      <td>NaN</td>\n",
       "      <td>NaN</td>\n",
       "      <td>NaN</td>\n",
       "      <td>https://twitter.com/dog_rates/status/892420643...</td>\n",
       "      <td>13</td>\n",
       "      <td>10</td>\n",
       "      <td>Phineas</td>\n",
       "      <td>None</td>\n",
       "      <td>None</td>\n",
       "      <td>None</td>\n",
       "      <td>None</td>\n",
       "    </tr>\n",
       "    <tr>\n",
       "      <th>1</th>\n",
       "      <td>892177421306343426</td>\n",
       "      <td>NaN</td>\n",
       "      <td>NaN</td>\n",
       "      <td>2017-08-01 00:17:27 +0000</td>\n",
       "      <td>&lt;a href=\"http://twitter.com/download/iphone\" r...</td>\n",
       "      <td>This is Tilly. She's just checking pup on you....</td>\n",
       "      <td>NaN</td>\n",
       "      <td>NaN</td>\n",
       "      <td>NaN</td>\n",
       "      <td>https://twitter.com/dog_rates/status/892177421...</td>\n",
       "      <td>13</td>\n",
       "      <td>10</td>\n",
       "      <td>Tilly</td>\n",
       "      <td>None</td>\n",
       "      <td>None</td>\n",
       "      <td>None</td>\n",
       "      <td>None</td>\n",
       "    </tr>\n",
       "    <tr>\n",
       "      <th>2</th>\n",
       "      <td>891815181378084864</td>\n",
       "      <td>NaN</td>\n",
       "      <td>NaN</td>\n",
       "      <td>2017-07-31 00:18:03 +0000</td>\n",
       "      <td>&lt;a href=\"http://twitter.com/download/iphone\" r...</td>\n",
       "      <td>This is Archie. He is a rare Norwegian Pouncin...</td>\n",
       "      <td>NaN</td>\n",
       "      <td>NaN</td>\n",
       "      <td>NaN</td>\n",
       "      <td>https://twitter.com/dog_rates/status/891815181...</td>\n",
       "      <td>12</td>\n",
       "      <td>10</td>\n",
       "      <td>Archie</td>\n",
       "      <td>None</td>\n",
       "      <td>None</td>\n",
       "      <td>None</td>\n",
       "      <td>None</td>\n",
       "    </tr>\n",
       "  </tbody>\n",
       "</table>\n",
       "</div>"
      ],
      "text/plain": [
       "             tweet_id  in_reply_to_status_id  in_reply_to_user_id  \\\n",
       "0  892420643555336193                    NaN                  NaN   \n",
       "1  892177421306343426                    NaN                  NaN   \n",
       "2  891815181378084864                    NaN                  NaN   \n",
       "\n",
       "                   timestamp  \\\n",
       "0  2017-08-01 16:23:56 +0000   \n",
       "1  2017-08-01 00:17:27 +0000   \n",
       "2  2017-07-31 00:18:03 +0000   \n",
       "\n",
       "                                              source  \\\n",
       "0  <a href=\"http://twitter.com/download/iphone\" r...   \n",
       "1  <a href=\"http://twitter.com/download/iphone\" r...   \n",
       "2  <a href=\"http://twitter.com/download/iphone\" r...   \n",
       "\n",
       "                                                text  retweeted_status_id  \\\n",
       "0  This is Phineas. He's a mystical boy. Only eve...                  NaN   \n",
       "1  This is Tilly. She's just checking pup on you....                  NaN   \n",
       "2  This is Archie. He is a rare Norwegian Pouncin...                  NaN   \n",
       "\n",
       "   retweeted_status_user_id retweeted_status_timestamp  \\\n",
       "0                       NaN                        NaN   \n",
       "1                       NaN                        NaN   \n",
       "2                       NaN                        NaN   \n",
       "\n",
       "                                       expanded_urls  rating_numerator  \\\n",
       "0  https://twitter.com/dog_rates/status/892420643...                13   \n",
       "1  https://twitter.com/dog_rates/status/892177421...                13   \n",
       "2  https://twitter.com/dog_rates/status/891815181...                12   \n",
       "\n",
       "   rating_denominator     name doggo floofer pupper puppo  \n",
       "0                  10  Phineas  None    None   None  None  \n",
       "1                  10    Tilly  None    None   None  None  \n",
       "2                  10   Archie  None    None   None  None  "
      ]
     },
     "execution_count": 2,
     "metadata": {},
     "output_type": "execute_result"
    }
   ],
   "source": [
    "df_archive = pd.read_csv('twitter-archive-enhanced.csv')\n",
    "df_archive.head(3)"
   ]
  },
  {
   "cell_type": "markdown",
   "metadata": {},
   "source": [
    "## 1.2 The Tweet image predictions\n",
    "\n",
    "- The 'image-predictions.tsv' shows the results of a neural network that detects what breed of dog (or other object, animal, etc.) is present in each tweet.   \n",
    "- The file was downloaded programmatically using the Requests python library and then saved to a local file.\n",
    "- The file name was extracted from the url using the split function.\n",
    "- The file was then read into a pandas DataFrame `df_pred` while specifying that it's a tsv by setting the `sep` parameter to `'\\t'`."
   ]
  },
  {
   "cell_type": "code",
   "execution_count": 72,
   "metadata": {},
   "outputs": [
    {
     "name": "stdout",
     "output_type": "stream",
     "text": [
      "File image-predictions.tsv already exists\n"
     ]
    }
   ],
   "source": [
    "pred_url = 'https://d17h27t6h515a5.cloudfront.net/topher/2017/August/599fd2ad_image-predictions/image-predictions.tsv'\n",
    "file_name = pred_url.split('/')[-1]\n",
    "\n",
    "# only download the file if the file doesn't already exist on disk.\n",
    "if os.path.exists(file_name):\n",
    "    print(f\"File {file_name} already exists\")\n",
    "else:\n",
    "    r = requests.get(pred_url)\n",
    "    # write the reponse to a local file\n",
    "    with open('image-predictions.tsv','wb') as file:\n",
    "        file.write(r.content)\n",
    "        print(f\"successfully downloaded {file_name} and written to disc\")"
   ]
  },
  {
   "cell_type": "code",
   "execution_count": 73,
   "metadata": {},
   "outputs": [
    {
     "data": {
      "text/html": [
       "<div>\n",
       "<style scoped>\n",
       "    .dataframe tbody tr th:only-of-type {\n",
       "        vertical-align: middle;\n",
       "    }\n",
       "\n",
       "    .dataframe tbody tr th {\n",
       "        vertical-align: top;\n",
       "    }\n",
       "\n",
       "    .dataframe thead th {\n",
       "        text-align: right;\n",
       "    }\n",
       "</style>\n",
       "<table border=\"1\" class=\"dataframe\">\n",
       "  <thead>\n",
       "    <tr style=\"text-align: right;\">\n",
       "      <th></th>\n",
       "      <th>tweet_id</th>\n",
       "      <th>jpg_url</th>\n",
       "      <th>img_num</th>\n",
       "      <th>p1</th>\n",
       "      <th>p1_conf</th>\n",
       "      <th>p1_dog</th>\n",
       "      <th>p2</th>\n",
       "      <th>p2_conf</th>\n",
       "      <th>p2_dog</th>\n",
       "      <th>p3</th>\n",
       "      <th>p3_conf</th>\n",
       "      <th>p3_dog</th>\n",
       "    </tr>\n",
       "  </thead>\n",
       "  <tbody>\n",
       "    <tr>\n",
       "      <th>651</th>\n",
       "      <td>682003177596559360</td>\n",
       "      <td>https://pbs.twimg.com/media/CXb2RcDUsAEnkJb.jpg</td>\n",
       "      <td>1</td>\n",
       "      <td>triceratops</td>\n",
       "      <td>0.249872</td>\n",
       "      <td>False</td>\n",
       "      <td>chimpanzee</td>\n",
       "      <td>0.060929</td>\n",
       "      <td>False</td>\n",
       "      <td>mask</td>\n",
       "      <td>0.050221</td>\n",
       "      <td>False</td>\n",
       "    </tr>\n",
       "    <tr>\n",
       "      <th>1709</th>\n",
       "      <td>818145370475810820</td>\n",
       "      <td>https://pbs.twimg.com/media/C1qi26rW8AMaj9K.jpg</td>\n",
       "      <td>1</td>\n",
       "      <td>golden_retriever</td>\n",
       "      <td>0.621931</td>\n",
       "      <td>True</td>\n",
       "      <td>Labrador_retriever</td>\n",
       "      <td>0.364997</td>\n",
       "      <td>True</td>\n",
       "      <td>redbone</td>\n",
       "      <td>0.003971</td>\n",
       "      <td>True</td>\n",
       "    </tr>\n",
       "    <tr>\n",
       "      <th>1397</th>\n",
       "      <td>768193404517830656</td>\n",
       "      <td>https://pbs.twimg.com/media/Cqkr0wiW8AAn2Oi.jpg</td>\n",
       "      <td>1</td>\n",
       "      <td>lion</td>\n",
       "      <td>0.396984</td>\n",
       "      <td>False</td>\n",
       "      <td>ram</td>\n",
       "      <td>0.300851</td>\n",
       "      <td>False</td>\n",
       "      <td>cheetah</td>\n",
       "      <td>0.094474</td>\n",
       "      <td>False</td>\n",
       "    </tr>\n",
       "  </tbody>\n",
       "</table>\n",
       "</div>"
      ],
      "text/plain": [
       "                tweet_id                                          jpg_url  \\\n",
       "651   682003177596559360  https://pbs.twimg.com/media/CXb2RcDUsAEnkJb.jpg   \n",
       "1709  818145370475810820  https://pbs.twimg.com/media/C1qi26rW8AMaj9K.jpg   \n",
       "1397  768193404517830656  https://pbs.twimg.com/media/Cqkr0wiW8AAn2Oi.jpg   \n",
       "\n",
       "      img_num                p1   p1_conf  p1_dog                  p2  \\\n",
       "651         1       triceratops  0.249872   False          chimpanzee   \n",
       "1709        1  golden_retriever  0.621931    True  Labrador_retriever   \n",
       "1397        1              lion  0.396984   False                 ram   \n",
       "\n",
       "       p2_conf  p2_dog       p3   p3_conf  p3_dog  \n",
       "651   0.060929   False     mask  0.050221   False  \n",
       "1709  0.364997    True  redbone  0.003971    True  \n",
       "1397  0.300851   False  cheetah  0.094474   False  "
      ]
     },
     "execution_count": 73,
     "metadata": {},
     "output_type": "execute_result"
    }
   ],
   "source": [
    "# Read the image predictions file into a DataFrame\n",
    "df_pred = pd.read_csv('image-predictions.tsv',sep='\\t')\n",
    "df_pred.sample(3)"
   ]
  },
  {
   "cell_type": "markdown",
   "metadata": {},
   "source": [
    "## 1.3 Twitter API \n",
    "\n",
    "- A Twitter Developer account was created and used to qurey more data using the tweet ids from the `df_archive` DataFrame.\n",
    "- The Twitter API was used to query each tweet's JSON data using Python's Tweepy library and stored each tweet's entire set of JSON data as a line in a file called tweet_json.txt file.\n",
    "- The 'tweet._json.txt' file line by line into a pandas DataFrame `df_api` with the following columns:\n",
    "    - tweet ID.\n",
    "    - retweet count. \n",
    "    - favorite count. \n",
    "\n",
    "- Note: Twitter API keys, secrets, and tokens were read from an external file and were not submitted with the project."
   ]
  },
  {
   "cell_type": "code",
   "execution_count": 74,
   "metadata": {},
   "outputs": [
    {
     "name": "stdout",
     "output_type": "stream",
     "text": [
      "File tweet_json.txt already exists\n"
     ]
    }
   ],
   "source": [
    "tweet_ids = df_archive['tweet_id']\n",
    "json_file = 'tweet_json.txt'\n",
    "\n",
    "\n",
    "# only Query the API if the tweet_json.txt file doesn't exist\n",
    "if os.path.exists(json_file):\n",
    "    print(f\"File {json_file} already exists\")\n",
    "else:\n",
    "    # import the keys files where the API keys are stored and it is not submitted with the project\n",
    "    import keys\n",
    "    # Twitter API authorization \n",
    "    auth = tweepy.OAuthHandler(keys.consumer_key, keys.consumer_secret)\n",
    "    auth.set_access_token(keys.access_token, keys.access_secret)\n",
    "\n",
    "    api = tweepy.API(auth)\n",
    "    \n",
    "    count = 0\n",
    "    fails_dict = {}\n",
    "    # Save each tweet's returned JSON as a new line in a .txt file\n",
    "    with open(json_file, 'w') as outfile:\n",
    "        # Loop through each tweet and write its information into a separate line of the .txt file\n",
    "        for tweet_id in tweet_ids:\n",
    "            count += 1\n",
    "            print(str(count) + \": \" + str(tweet_id))\n",
    "            try:\n",
    "                tweet = api.get_status(tweet_id, tweet_mode='extended')\n",
    "                print(\"Success\")\n",
    "                json.dump(tweet._json, outfile)\n",
    "                outfile.write('\\n')\n",
    "            except tweepy.TweepError as e:\n",
    "                print(\"Fail\")\n",
    "                fails_dict[tweet_id] = e\n",
    "                pass\n",
    "    print(f\"File {json_file} successfully written to Disk\")\n",
    "    print(\"Some tweets returned the following errors\")\n",
    "    print(fails_dict)\n",
    "\n"
   ]
  },
  {
   "cell_type": "code",
   "execution_count": 76,
   "metadata": {},
   "outputs": [
    {
     "data": {
      "text/html": [
       "<div>\n",
       "<style scoped>\n",
       "    .dataframe tbody tr th:only-of-type {\n",
       "        vertical-align: middle;\n",
       "    }\n",
       "\n",
       "    .dataframe tbody tr th {\n",
       "        vertical-align: top;\n",
       "    }\n",
       "\n",
       "    .dataframe thead th {\n",
       "        text-align: right;\n",
       "    }\n",
       "</style>\n",
       "<table border=\"1\" class=\"dataframe\">\n",
       "  <thead>\n",
       "    <tr style=\"text-align: right;\">\n",
       "      <th></th>\n",
       "      <th>tweet_id</th>\n",
       "      <th>retweet_count</th>\n",
       "      <th>favorite_count</th>\n",
       "    </tr>\n",
       "  </thead>\n",
       "  <tbody>\n",
       "    <tr>\n",
       "      <th>259</th>\n",
       "      <td>841077006473256960</td>\n",
       "      <td>5124</td>\n",
       "      <td>22292</td>\n",
       "    </tr>\n",
       "    <tr>\n",
       "      <th>603</th>\n",
       "      <td>796116448414461957</td>\n",
       "      <td>2403</td>\n",
       "      <td>9062</td>\n",
       "    </tr>\n",
       "    <tr>\n",
       "      <th>266</th>\n",
       "      <td>840268004936019968</td>\n",
       "      <td>5543</td>\n",
       "      <td>18798</td>\n",
       "    </tr>\n",
       "    <tr>\n",
       "      <th>18</th>\n",
       "      <td>888554962724278272</td>\n",
       "      <td>3059</td>\n",
       "      <td>18093</td>\n",
       "    </tr>\n",
       "    <tr>\n",
       "      <th>868</th>\n",
       "      <td>759557299618865152</td>\n",
       "      <td>1166</td>\n",
       "      <td>4606</td>\n",
       "    </tr>\n",
       "  </tbody>\n",
       "</table>\n",
       "</div>"
      ],
      "text/plain": [
       "               tweet_id retweet_count favorite_count\n",
       "259  841077006473256960          5124          22292\n",
       "603  796116448414461957          2403           9062\n",
       "266  840268004936019968          5543          18798\n",
       "18   888554962724278272          3059          18093\n",
       "868  759557299618865152          1166           4606"
      ]
     },
     "execution_count": 76,
     "metadata": {},
     "output_type": "execute_result"
    }
   ],
   "source": [
    "# read .txt file line by line into a pandas DataFrame\n",
    "\n",
    "labels = ['tweet_id','retweet_count','favorite_count']\n",
    "\n",
    "df_api = pd.DataFrame(columns=labels)\n",
    "\n",
    "with open(json_file) as file:\n",
    "    for line in file:\n",
    "        data = json.loads(line)\n",
    "        df_api = df_api.append({\n",
    "            'tweet_id':data['id'],\n",
    "            'retweet_count':data['retweet_count'],\n",
    "            'favorite_count':data['favorite_count']\n",
    "            },ignore_index=True)\n",
    "        \n",
    "df_api.sample(5)"
   ]
  },
  {
   "cell_type": "markdown",
   "metadata": {},
   "source": [
    "## 1.4 Gathering Output\n",
    " \n",
    "The three files were successfully downloaded, written to a local file and read into the following pandas DataFrames:\n",
    "- `df_archive`:  Data from the WeRateDogs Twitter archive.\n",
    "- `df_pred`:  Data from the image predictions from the neural network.\n",
    "- `df_api`:  Data scraped from the Twitter API.\n"
   ]
  },
  {
   "cell_type": "markdown",
   "metadata": {},
   "source": [
    "# 2. Assessing the Data"
   ]
  },
  {
   "cell_type": "markdown",
   "metadata": {},
   "source": [
    "We start assessing the data to try to find any Quality or tidiness issues. \n",
    "\n",
    "The aim is to asses all three DataFrames with respect to Quality dimensions:\n",
    " - Completeness\n",
    " - Validity\n",
    " - Accuracy\n",
    " - Consistency\n",
    " \n",
    "and the following tidiness rules:\n",
    "- Each variable forms a column.\n",
    "- Each observation forms a row.\n",
    "- Each type of observational unit forms a table."
   ]
  },
  {
   "cell_type": "markdown",
   "metadata": {},
   "source": [
    "## 2.1 Twitter Archive"
   ]
  },
  {
   "cell_type": "markdown",
   "metadata": {},
   "source": [
    "using the `info` method we try to find missing data and look to see if we have non-original tweets (retweets and replies). Also check the is we already have the correct data types for all columns."
   ]
  },
  {
   "cell_type": "code",
   "execution_count": 77,
   "metadata": {
    "scrolled": false
   },
   "outputs": [
    {
     "name": "stdout",
     "output_type": "stream",
     "text": [
      "<class 'pandas.core.frame.DataFrame'>\n",
      "RangeIndex: 2356 entries, 0 to 2355\n",
      "Data columns (total 17 columns):\n",
      " #   Column                      Non-Null Count  Dtype  \n",
      "---  ------                      --------------  -----  \n",
      " 0   tweet_id                    2356 non-null   int64  \n",
      " 1   in_reply_to_status_id       78 non-null     float64\n",
      " 2   in_reply_to_user_id         78 non-null     float64\n",
      " 3   timestamp                   2356 non-null   object \n",
      " 4   source                      2356 non-null   object \n",
      " 5   text                        2356 non-null   object \n",
      " 6   retweeted_status_id         181 non-null    float64\n",
      " 7   retweeted_status_user_id    181 non-null    float64\n",
      " 8   retweeted_status_timestamp  181 non-null    object \n",
      " 9   expanded_urls               2297 non-null   object \n",
      " 10  rating_numerator            2356 non-null   int64  \n",
      " 11  rating_denominator          2356 non-null   int64  \n",
      " 12  name                        2356 non-null   object \n",
      " 13  doggo                       2356 non-null   object \n",
      " 14  floofer                     2356 non-null   object \n",
      " 15  pupper                      2356 non-null   object \n",
      " 16  puppo                       2356 non-null   object \n",
      "dtypes: float64(4), int64(3), object(10)\n",
      "memory usage: 313.0+ KB\n"
     ]
    }
   ],
   "source": [
    "df_archive.info()"
   ]
  },
  {
   "cell_type": "code",
   "execution_count": 8,
   "metadata": {},
   "outputs": [
    {
     "data": {
      "text/html": [
       "<div>\n",
       "<style scoped>\n",
       "    .dataframe tbody tr th:only-of-type {\n",
       "        vertical-align: middle;\n",
       "    }\n",
       "\n",
       "    .dataframe tbody tr th {\n",
       "        vertical-align: top;\n",
       "    }\n",
       "\n",
       "    .dataframe thead th {\n",
       "        text-align: right;\n",
       "    }\n",
       "</style>\n",
       "<table border=\"1\" class=\"dataframe\">\n",
       "  <thead>\n",
       "    <tr style=\"text-align: right;\">\n",
       "      <th></th>\n",
       "      <th>tweet_id</th>\n",
       "      <th>in_reply_to_status_id</th>\n",
       "      <th>in_reply_to_user_id</th>\n",
       "      <th>timestamp</th>\n",
       "      <th>source</th>\n",
       "      <th>text</th>\n",
       "      <th>retweeted_status_id</th>\n",
       "      <th>retweeted_status_user_id</th>\n",
       "      <th>retweeted_status_timestamp</th>\n",
       "      <th>expanded_urls</th>\n",
       "      <th>rating_numerator</th>\n",
       "      <th>rating_denominator</th>\n",
       "      <th>name</th>\n",
       "      <th>doggo</th>\n",
       "      <th>floofer</th>\n",
       "      <th>pupper</th>\n",
       "      <th>puppo</th>\n",
       "    </tr>\n",
       "  </thead>\n",
       "  <tbody>\n",
       "    <tr>\n",
       "      <th>2223</th>\n",
       "      <td>668297328638447616</td>\n",
       "      <td>NaN</td>\n",
       "      <td>NaN</td>\n",
       "      <td>2015-11-22 05:17:54 +0000</td>\n",
       "      <td>&lt;a href=\"http://twitter.com/download/iphone\" r...</td>\n",
       "      <td>2 rare dogs. They waddle (v inefficient). Some...</td>\n",
       "      <td>NaN</td>\n",
       "      <td>NaN</td>\n",
       "      <td>NaN</td>\n",
       "      <td>https://twitter.com/dog_rates/status/668297328...</td>\n",
       "      <td>9</td>\n",
       "      <td>10</td>\n",
       "      <td>None</td>\n",
       "      <td>None</td>\n",
       "      <td>None</td>\n",
       "      <td>None</td>\n",
       "      <td>None</td>\n",
       "    </tr>\n",
       "    <tr>\n",
       "      <th>1550</th>\n",
       "      <td>689154315265683456</td>\n",
       "      <td>NaN</td>\n",
       "      <td>NaN</td>\n",
       "      <td>2016-01-18 18:36:07 +0000</td>\n",
       "      <td>&lt;a href=\"http://twitter.com/download/iphone\" r...</td>\n",
       "      <td>We normally don't rate birds but I feel bad co...</td>\n",
       "      <td>NaN</td>\n",
       "      <td>NaN</td>\n",
       "      <td>NaN</td>\n",
       "      <td>https://twitter.com/dog_rates/status/689154315...</td>\n",
       "      <td>9</td>\n",
       "      <td>10</td>\n",
       "      <td>None</td>\n",
       "      <td>None</td>\n",
       "      <td>None</td>\n",
       "      <td>None</td>\n",
       "      <td>None</td>\n",
       "    </tr>\n",
       "    <tr>\n",
       "      <th>1326</th>\n",
       "      <td>706153300320784384</td>\n",
       "      <td>NaN</td>\n",
       "      <td>NaN</td>\n",
       "      <td>2016-03-05 16:24:01 +0000</td>\n",
       "      <td>&lt;a href=\"http://vine.co\" rel=\"nofollow\"&gt;Vine -...</td>\n",
       "      <td>This is Layla. She's giving you a standing ova...</td>\n",
       "      <td>NaN</td>\n",
       "      <td>NaN</td>\n",
       "      <td>NaN</td>\n",
       "      <td>https://vine.co/v/iXidJXBJ3P9</td>\n",
       "      <td>13</td>\n",
       "      <td>10</td>\n",
       "      <td>Layla</td>\n",
       "      <td>None</td>\n",
       "      <td>None</td>\n",
       "      <td>None</td>\n",
       "      <td>None</td>\n",
       "    </tr>\n",
       "    <tr>\n",
       "      <th>2175</th>\n",
       "      <td>669214165781868544</td>\n",
       "      <td>NaN</td>\n",
       "      <td>NaN</td>\n",
       "      <td>2015-11-24 18:01:05 +0000</td>\n",
       "      <td>&lt;a href=\"http://twitter.com/download/iphone\" r...</td>\n",
       "      <td>This is Jaspers. He is a northeastern Gillette...</td>\n",
       "      <td>NaN</td>\n",
       "      <td>NaN</td>\n",
       "      <td>NaN</td>\n",
       "      <td>https://twitter.com/dog_rates/status/669214165...</td>\n",
       "      <td>10</td>\n",
       "      <td>10</td>\n",
       "      <td>Jaspers</td>\n",
       "      <td>None</td>\n",
       "      <td>None</td>\n",
       "      <td>None</td>\n",
       "      <td>None</td>\n",
       "    </tr>\n",
       "    <tr>\n",
       "      <th>1278</th>\n",
       "      <td>708853462201716736</td>\n",
       "      <td>NaN</td>\n",
       "      <td>NaN</td>\n",
       "      <td>2016-03-13 03:13:29 +0000</td>\n",
       "      <td>&lt;a href=\"http://vine.co\" rel=\"nofollow\"&gt;Vine -...</td>\n",
       "      <td>This is Lucy. She doesn't understand fetch. 8/...</td>\n",
       "      <td>NaN</td>\n",
       "      <td>NaN</td>\n",
       "      <td>NaN</td>\n",
       "      <td>https://vine.co/v/iHl2UDEBZ95</td>\n",
       "      <td>8</td>\n",
       "      <td>10</td>\n",
       "      <td>Lucy</td>\n",
       "      <td>None</td>\n",
       "      <td>None</td>\n",
       "      <td>None</td>\n",
       "      <td>None</td>\n",
       "    </tr>\n",
       "  </tbody>\n",
       "</table>\n",
       "</div>"
      ],
      "text/plain": [
       "                tweet_id  in_reply_to_status_id  in_reply_to_user_id  \\\n",
       "2223  668297328638447616                    NaN                  NaN   \n",
       "1550  689154315265683456                    NaN                  NaN   \n",
       "1326  706153300320784384                    NaN                  NaN   \n",
       "2175  669214165781868544                    NaN                  NaN   \n",
       "1278  708853462201716736                    NaN                  NaN   \n",
       "\n",
       "                      timestamp  \\\n",
       "2223  2015-11-22 05:17:54 +0000   \n",
       "1550  2016-01-18 18:36:07 +0000   \n",
       "1326  2016-03-05 16:24:01 +0000   \n",
       "2175  2015-11-24 18:01:05 +0000   \n",
       "1278  2016-03-13 03:13:29 +0000   \n",
       "\n",
       "                                                 source  \\\n",
       "2223  <a href=\"http://twitter.com/download/iphone\" r...   \n",
       "1550  <a href=\"http://twitter.com/download/iphone\" r...   \n",
       "1326  <a href=\"http://vine.co\" rel=\"nofollow\">Vine -...   \n",
       "2175  <a href=\"http://twitter.com/download/iphone\" r...   \n",
       "1278  <a href=\"http://vine.co\" rel=\"nofollow\">Vine -...   \n",
       "\n",
       "                                                   text  retweeted_status_id  \\\n",
       "2223  2 rare dogs. They waddle (v inefficient). Some...                  NaN   \n",
       "1550  We normally don't rate birds but I feel bad co...                  NaN   \n",
       "1326  This is Layla. She's giving you a standing ova...                  NaN   \n",
       "2175  This is Jaspers. He is a northeastern Gillette...                  NaN   \n",
       "1278  This is Lucy. She doesn't understand fetch. 8/...                  NaN   \n",
       "\n",
       "      retweeted_status_user_id retweeted_status_timestamp  \\\n",
       "2223                       NaN                        NaN   \n",
       "1550                       NaN                        NaN   \n",
       "1326                       NaN                        NaN   \n",
       "2175                       NaN                        NaN   \n",
       "1278                       NaN                        NaN   \n",
       "\n",
       "                                          expanded_urls  rating_numerator  \\\n",
       "2223  https://twitter.com/dog_rates/status/668297328...                 9   \n",
       "1550  https://twitter.com/dog_rates/status/689154315...                 9   \n",
       "1326                      https://vine.co/v/iXidJXBJ3P9                13   \n",
       "2175  https://twitter.com/dog_rates/status/669214165...                10   \n",
       "1278                      https://vine.co/v/iHl2UDEBZ95                 8   \n",
       "\n",
       "      rating_denominator     name doggo floofer pupper puppo  \n",
       "2223                  10     None  None    None   None  None  \n",
       "1550                  10     None  None    None   None  None  \n",
       "1326                  10    Layla  None    None   None  None  \n",
       "2175                  10  Jaspers  None    None   None  None  \n",
       "1278                  10     Lucy  None    None   None  None  "
      ]
     },
     "execution_count": 8,
     "metadata": {},
     "output_type": "execute_result"
    }
   ],
   "source": [
    "df_archive.sample(5)"
   ]
  },
  {
   "cell_type": "code",
   "execution_count": 9,
   "metadata": {
    "scrolled": true
   },
   "outputs": [
    {
     "data": {
      "text/plain": [
       "0"
      ]
     },
     "execution_count": 9,
     "metadata": {},
     "output_type": "execute_result"
    }
   ],
   "source": [
    "# check for duplicated entries\n",
    "sum(df_archive['tweet_id'].duplicated())"
   ]
  },
  {
   "cell_type": "markdown",
   "metadata": {},
   "source": [
    "It si clear that we have 181 tweets that are retweets and 78 tweets that are replies. That means these are not original tweets and will need to be filtered out."
   ]
  },
  {
   "cell_type": "markdown",
   "metadata": {},
   "source": [
    "Now let's check the ratings columns."
   ]
  },
  {
   "cell_type": "code",
   "execution_count": 78,
   "metadata": {},
   "outputs": [
    {
     "data": {
      "text/plain": [
       "Int64Index([10, 11, 50, 80, 20, 2, 16, 40, 70, 15, 90, 110, 120, 130, 150, 170,\n",
       "            7, 0],\n",
       "           dtype='int64')"
      ]
     },
     "execution_count": 78,
     "metadata": {},
     "output_type": "execute_result"
    }
   ],
   "source": [
    "df_archive['rating_denominator'].value_counts().keys()"
   ]
  },
  {
   "cell_type": "code",
   "execution_count": 79,
   "metadata": {},
   "outputs": [
    {
     "data": {
      "text/html": [
       "<div>\n",
       "<style scoped>\n",
       "    .dataframe tbody tr th:only-of-type {\n",
       "        vertical-align: middle;\n",
       "    }\n",
       "\n",
       "    .dataframe tbody tr th {\n",
       "        vertical-align: top;\n",
       "    }\n",
       "\n",
       "    .dataframe thead th {\n",
       "        text-align: right;\n",
       "    }\n",
       "</style>\n",
       "<table border=\"1\" class=\"dataframe\">\n",
       "  <thead>\n",
       "    <tr style=\"text-align: right;\">\n",
       "      <th></th>\n",
       "      <th>tweet_id</th>\n",
       "      <th>in_reply_to_status_id</th>\n",
       "      <th>in_reply_to_user_id</th>\n",
       "      <th>timestamp</th>\n",
       "      <th>source</th>\n",
       "      <th>text</th>\n",
       "      <th>retweeted_status_id</th>\n",
       "      <th>retweeted_status_user_id</th>\n",
       "      <th>retweeted_status_timestamp</th>\n",
       "      <th>expanded_urls</th>\n",
       "      <th>rating_numerator</th>\n",
       "      <th>rating_denominator</th>\n",
       "      <th>name</th>\n",
       "      <th>doggo</th>\n",
       "      <th>floofer</th>\n",
       "      <th>pupper</th>\n",
       "      <th>puppo</th>\n",
       "    </tr>\n",
       "  </thead>\n",
       "  <tbody>\n",
       "    <tr>\n",
       "      <th>1202</th>\n",
       "      <td>716439118184652801</td>\n",
       "      <td>NaN</td>\n",
       "      <td>NaN</td>\n",
       "      <td>2016-04-03 01:36:11 +0000</td>\n",
       "      <td>&lt;a href=\"http://twitter.com/download/iphone\" r...</td>\n",
       "      <td>This is Bluebert. He just saw that both #Final...</td>\n",
       "      <td>NaN</td>\n",
       "      <td>NaN</td>\n",
       "      <td>NaN</td>\n",
       "      <td>https://twitter.com/dog_rates/status/716439118...</td>\n",
       "      <td>50</td>\n",
       "      <td>50</td>\n",
       "      <td>Bluebert</td>\n",
       "      <td>None</td>\n",
       "      <td>None</td>\n",
       "      <td>None</td>\n",
       "      <td>None</td>\n",
       "    </tr>\n",
       "    <tr>\n",
       "      <th>2335</th>\n",
       "      <td>666287406224695296</td>\n",
       "      <td>NaN</td>\n",
       "      <td>NaN</td>\n",
       "      <td>2015-11-16 16:11:11 +0000</td>\n",
       "      <td>&lt;a href=\"http://twitter.com/download/iphone\" r...</td>\n",
       "      <td>This is an Albanian 3 1/2 legged  Episcopalian...</td>\n",
       "      <td>NaN</td>\n",
       "      <td>NaN</td>\n",
       "      <td>NaN</td>\n",
       "      <td>https://twitter.com/dog_rates/status/666287406...</td>\n",
       "      <td>1</td>\n",
       "      <td>2</td>\n",
       "      <td>an</td>\n",
       "      <td>None</td>\n",
       "      <td>None</td>\n",
       "      <td>None</td>\n",
       "      <td>None</td>\n",
       "    </tr>\n",
       "    <tr>\n",
       "      <th>1635</th>\n",
       "      <td>684222868335505415</td>\n",
       "      <td>NaN</td>\n",
       "      <td>NaN</td>\n",
       "      <td>2016-01-05 04:00:18 +0000</td>\n",
       "      <td>&lt;a href=\"http://twitter.com/download/iphone\" r...</td>\n",
       "      <td>Someone help the girl is being mugged. Several...</td>\n",
       "      <td>NaN</td>\n",
       "      <td>NaN</td>\n",
       "      <td>NaN</td>\n",
       "      <td>https://twitter.com/dog_rates/status/684222868...</td>\n",
       "      <td>121</td>\n",
       "      <td>110</td>\n",
       "      <td>None</td>\n",
       "      <td>None</td>\n",
       "      <td>None</td>\n",
       "      <td>None</td>\n",
       "      <td>None</td>\n",
       "    </tr>\n",
       "  </tbody>\n",
       "</table>\n",
       "</div>"
      ],
      "text/plain": [
       "                tweet_id  in_reply_to_status_id  in_reply_to_user_id  \\\n",
       "1202  716439118184652801                    NaN                  NaN   \n",
       "2335  666287406224695296                    NaN                  NaN   \n",
       "1635  684222868335505415                    NaN                  NaN   \n",
       "\n",
       "                      timestamp  \\\n",
       "1202  2016-04-03 01:36:11 +0000   \n",
       "2335  2015-11-16 16:11:11 +0000   \n",
       "1635  2016-01-05 04:00:18 +0000   \n",
       "\n",
       "                                                 source  \\\n",
       "1202  <a href=\"http://twitter.com/download/iphone\" r...   \n",
       "2335  <a href=\"http://twitter.com/download/iphone\" r...   \n",
       "1635  <a href=\"http://twitter.com/download/iphone\" r...   \n",
       "\n",
       "                                                   text  retweeted_status_id  \\\n",
       "1202  This is Bluebert. He just saw that both #Final...                  NaN   \n",
       "2335  This is an Albanian 3 1/2 legged  Episcopalian...                  NaN   \n",
       "1635  Someone help the girl is being mugged. Several...                  NaN   \n",
       "\n",
       "      retweeted_status_user_id retweeted_status_timestamp  \\\n",
       "1202                       NaN                        NaN   \n",
       "2335                       NaN                        NaN   \n",
       "1635                       NaN                        NaN   \n",
       "\n",
       "                                          expanded_urls  rating_numerator  \\\n",
       "1202  https://twitter.com/dog_rates/status/716439118...                50   \n",
       "2335  https://twitter.com/dog_rates/status/666287406...                 1   \n",
       "1635  https://twitter.com/dog_rates/status/684222868...               121   \n",
       "\n",
       "      rating_denominator      name doggo floofer pupper puppo  \n",
       "1202                  50  Bluebert  None    None   None  None  \n",
       "2335                   2        an  None    None   None  None  \n",
       "1635                 110      None  None    None   None  None  "
      ]
     },
     "execution_count": 79,
     "metadata": {},
     "output_type": "execute_result"
    }
   ],
   "source": [
    "df_archive[df_archive['rating_denominator'] != 10].sample(3)"
   ]
  },
  {
   "cell_type": "code",
   "execution_count": 80,
   "metadata": {
    "scrolled": false
   },
   "outputs": [
    {
     "data": {
      "text/plain": [
       "12      558\n",
       "11      464\n",
       "10      461\n",
       "13      351\n",
       "9       158\n",
       "8       102\n",
       "7        55\n",
       "14       54\n",
       "5        37\n",
       "6        32\n",
       "3        19\n",
       "4        17\n",
       "1         9\n",
       "2         9\n",
       "420       2\n",
       "0         2\n",
       "15        2\n",
       "75        2\n",
       "80        1\n",
       "20        1\n",
       "24        1\n",
       "26        1\n",
       "44        1\n",
       "50        1\n",
       "60        1\n",
       "165       1\n",
       "84        1\n",
       "88        1\n",
       "144       1\n",
       "182       1\n",
       "143       1\n",
       "666       1\n",
       "960       1\n",
       "1776      1\n",
       "17        1\n",
       "27        1\n",
       "45        1\n",
       "99        1\n",
       "121       1\n",
       "204       1\n",
       "Name: rating_numerator, dtype: int64"
      ]
     },
     "execution_count": 80,
     "metadata": {},
     "output_type": "execute_result"
    }
   ],
   "source": [
    "df_archive['rating_numerator'].value_counts()"
   ]
  },
  {
   "cell_type": "markdown",
   "metadata": {},
   "source": [
    "The rating denominator was not always equal to 10 and also the rating numerator had some inconsistent values either too small or too large. After examining the data set by filtering the illogical and exploring both their text and their images, it was deduced that the reasons for the issues in these ratings were:\n",
    "- The ratings of pack of dogs is added together making the denominator multiples of 10.\n",
    "- The extraction process assumed that '/' character only appears once in the text and that it always indicates rating which was found not to be true.\n"
   ]
  },
  {
   "cell_type": "code",
   "execution_count": 81,
   "metadata": {},
   "outputs": [
    {
     "data": {
      "text/plain": [
       "None       745\n",
       "a           55\n",
       "Charlie     12\n",
       "Lucy        11\n",
       "Oliver      11\n",
       "          ... \n",
       "Joshwa       1\n",
       "Darby        1\n",
       "Harnold      1\n",
       "Arlen        1\n",
       "Bauer        1\n",
       "Name: name, Length: 957, dtype: int64"
      ]
     },
     "execution_count": 81,
     "metadata": {},
     "output_type": "execute_result"
    }
   ],
   "source": [
    "df_archive['name'].value_counts()"
   ]
  },
  {
   "cell_type": "code",
   "execution_count": 14,
   "metadata": {},
   "outputs": [
    {
     "name": "stdout",
     "output_type": "stream",
     "text": [
      "['a', 'the', 'an', 'very', 'one', 'quite', 'just', 'not', 'actually', 'mad', 'getting', 'officially', 'incredibly', 'O', 'all', 'his', 'life', 'light', 'by', 'old', 'my', 'such', 'unacceptable', 'space', 'infuriating', 'this']\n"
     ]
    }
   ],
   "source": [
    "names = df_archive['name'].value_counts().keys()\n",
    "not_names = []\n",
    "\n",
    "for name in names:\n",
    "    if name.islower() or len(name) < 2:\n",
    "        not_names.append(name)\n",
    "print(not_names)"
   ]
  },
  {
   "cell_type": "markdown",
   "metadata": {},
   "source": [
    "The name column has a lot of missing values that are indicated as \"None\" in a string format.\n",
    "Also, it contained a lot of words that should not be considered names. that probably happened because the extraction process assumed that names only and must come after the words \"this is\" which is not always true. "
   ]
  },
  {
   "cell_type": "code",
   "execution_count": 15,
   "metadata": {},
   "outputs": [
    {
     "data": {
      "text/plain": [
       "doggo  floofer  pupper  puppo\n",
       "None   None     None    None     1976\n",
       "                pupper  None      245\n",
       "doggo  None     None    None       83\n",
       "None   None     None    puppo      29\n",
       "doggo  None     pupper  None       12\n",
       "None   floofer  None    None        9\n",
       "doggo  floofer  None    None        1\n",
       "       None     None    puppo       1\n",
       "dtype: int64"
      ]
     },
     "execution_count": 15,
     "metadata": {},
     "output_type": "execute_result"
    }
   ],
   "source": [
    "df_archive[['doggo','floofer','pupper','puppo']].value_counts()"
   ]
  },
  {
   "cell_type": "markdown",
   "metadata": {},
   "source": [
    "- The dog stages columns ('doggo', 'flooofer', 'pupper', 'puppo') are values and not variables. They all represent different dog stages. They should be one column instead.\n",
    "- Some entries has more than one dog stage:\n",
    "    - 12 entry has both doggo and pupper.\n",
    "    - 1 entry has both doggo and floofer.\n",
    "- Missing values are written as \"None\" in a string format instead on nulls."
   ]
  },
  {
   "cell_type": "code",
   "execution_count": 16,
   "metadata": {
    "scrolled": true
   },
   "outputs": [
    {
     "data": {
      "text/plain": [
       "<a href=\"http://twitter.com/download/iphone\" rel=\"nofollow\">Twitter for iPhone</a>     2221\n",
       "<a href=\"http://vine.co\" rel=\"nofollow\">Vine - Make a Scene</a>                          91\n",
       "<a href=\"http://twitter.com\" rel=\"nofollow\">Twitter Web Client</a>                       33\n",
       "<a href=\"https://about.twitter.com/products/tweetdeck\" rel=\"nofollow\">TweetDeck</a>      11\n",
       "Name: source, dtype: int64"
      ]
     },
     "execution_count": 16,
     "metadata": {},
     "output_type": "execute_result"
    }
   ],
   "source": [
    "df_archive['source'].value_counts()"
   ]
  },
  {
   "cell_type": "markdown",
   "metadata": {},
   "source": [
    "The 'source' column contains the whole HTML 'a' tag while the source is only the inner text of the tag."
   ]
  },
  {
   "cell_type": "markdown",
   "metadata": {},
   "source": [
    "## 2.2 Tweet Image Predictions"
   ]
  },
  {
   "cell_type": "code",
   "execution_count": 82,
   "metadata": {
    "scrolled": true
   },
   "outputs": [
    {
     "data": {
      "text/html": [
       "<div>\n",
       "<style scoped>\n",
       "    .dataframe tbody tr th:only-of-type {\n",
       "        vertical-align: middle;\n",
       "    }\n",
       "\n",
       "    .dataframe tbody tr th {\n",
       "        vertical-align: top;\n",
       "    }\n",
       "\n",
       "    .dataframe thead th {\n",
       "        text-align: right;\n",
       "    }\n",
       "</style>\n",
       "<table border=\"1\" class=\"dataframe\">\n",
       "  <thead>\n",
       "    <tr style=\"text-align: right;\">\n",
       "      <th></th>\n",
       "      <th>tweet_id</th>\n",
       "      <th>jpg_url</th>\n",
       "      <th>img_num</th>\n",
       "      <th>p1</th>\n",
       "      <th>p1_conf</th>\n",
       "      <th>p1_dog</th>\n",
       "      <th>p2</th>\n",
       "      <th>p2_conf</th>\n",
       "      <th>p2_dog</th>\n",
       "      <th>p3</th>\n",
       "      <th>p3_conf</th>\n",
       "      <th>p3_dog</th>\n",
       "    </tr>\n",
       "  </thead>\n",
       "  <tbody>\n",
       "    <tr>\n",
       "      <th>1176</th>\n",
       "      <td>737678689543020544</td>\n",
       "      <td>https://pbs.twimg.com/media/CjzC2oGWYAAyIfG.jpg</td>\n",
       "      <td>1</td>\n",
       "      <td>Pembroke</td>\n",
       "      <td>0.935307</td>\n",
       "      <td>True</td>\n",
       "      <td>Cardigan</td>\n",
       "      <td>0.049874</td>\n",
       "      <td>True</td>\n",
       "      <td>Chihuahua</td>\n",
       "      <td>0.011603</td>\n",
       "      <td>True</td>\n",
       "    </tr>\n",
       "    <tr>\n",
       "      <th>1610</th>\n",
       "      <td>801167903437357056</td>\n",
       "      <td>https://pbs.twimg.com/media/Cx5R8wPVEAALa9r.jpg</td>\n",
       "      <td>1</td>\n",
       "      <td>cocker_spaniel</td>\n",
       "      <td>0.740220</td>\n",
       "      <td>True</td>\n",
       "      <td>Dandie_Dinmont</td>\n",
       "      <td>0.061604</td>\n",
       "      <td>True</td>\n",
       "      <td>English_setter</td>\n",
       "      <td>0.041331</td>\n",
       "      <td>True</td>\n",
       "    </tr>\n",
       "    <tr>\n",
       "      <th>59</th>\n",
       "      <td>667119796878725120</td>\n",
       "      <td>https://pbs.twimg.com/media/CUIV6F7XIAA1tAM.jpg</td>\n",
       "      <td>1</td>\n",
       "      <td>Pembroke</td>\n",
       "      <td>0.741563</td>\n",
       "      <td>True</td>\n",
       "      <td>Chihuahua</td>\n",
       "      <td>0.057866</td>\n",
       "      <td>True</td>\n",
       "      <td>toy_poodle</td>\n",
       "      <td>0.039125</td>\n",
       "      <td>True</td>\n",
       "    </tr>\n",
       "    <tr>\n",
       "      <th>1855</th>\n",
       "      <td>841314665196081154</td>\n",
       "      <td>https://pbs.twimg.com/ext_tw_video_thumb/84131...</td>\n",
       "      <td>1</td>\n",
       "      <td>Afghan_hound</td>\n",
       "      <td>0.903712</td>\n",
       "      <td>True</td>\n",
       "      <td>Saluki</td>\n",
       "      <td>0.035215</td>\n",
       "      <td>True</td>\n",
       "      <td>bloodhound</td>\n",
       "      <td>0.026565</td>\n",
       "      <td>True</td>\n",
       "    </tr>\n",
       "    <tr>\n",
       "      <th>2045</th>\n",
       "      <td>886366144734445568</td>\n",
       "      <td>https://pbs.twimg.com/media/DE0BTnQUwAApKEH.jpg</td>\n",
       "      <td>1</td>\n",
       "      <td>French_bulldog</td>\n",
       "      <td>0.999201</td>\n",
       "      <td>True</td>\n",
       "      <td>Chihuahua</td>\n",
       "      <td>0.000361</td>\n",
       "      <td>True</td>\n",
       "      <td>Boston_bull</td>\n",
       "      <td>0.000076</td>\n",
       "      <td>True</td>\n",
       "    </tr>\n",
       "  </tbody>\n",
       "</table>\n",
       "</div>"
      ],
      "text/plain": [
       "                tweet_id                                            jpg_url  \\\n",
       "1176  737678689543020544    https://pbs.twimg.com/media/CjzC2oGWYAAyIfG.jpg   \n",
       "1610  801167903437357056    https://pbs.twimg.com/media/Cx5R8wPVEAALa9r.jpg   \n",
       "59    667119796878725120    https://pbs.twimg.com/media/CUIV6F7XIAA1tAM.jpg   \n",
       "1855  841314665196081154  https://pbs.twimg.com/ext_tw_video_thumb/84131...   \n",
       "2045  886366144734445568    https://pbs.twimg.com/media/DE0BTnQUwAApKEH.jpg   \n",
       "\n",
       "      img_num              p1   p1_conf  p1_dog              p2   p2_conf  \\\n",
       "1176        1        Pembroke  0.935307    True        Cardigan  0.049874   \n",
       "1610        1  cocker_spaniel  0.740220    True  Dandie_Dinmont  0.061604   \n",
       "59          1        Pembroke  0.741563    True       Chihuahua  0.057866   \n",
       "1855        1    Afghan_hound  0.903712    True          Saluki  0.035215   \n",
       "2045        1  French_bulldog  0.999201    True       Chihuahua  0.000361   \n",
       "\n",
       "      p2_dog              p3   p3_conf  p3_dog  \n",
       "1176    True       Chihuahua  0.011603    True  \n",
       "1610    True  English_setter  0.041331    True  \n",
       "59      True      toy_poodle  0.039125    True  \n",
       "1855    True      bloodhound  0.026565    True  \n",
       "2045    True     Boston_bull  0.000076    True  "
      ]
     },
     "execution_count": 82,
     "metadata": {},
     "output_type": "execute_result"
    }
   ],
   "source": [
    "df_pred.sample(5)"
   ]
  },
  {
   "cell_type": "code",
   "execution_count": 18,
   "metadata": {},
   "outputs": [
    {
     "data": {
      "text/plain": [
       "0"
      ]
     },
     "execution_count": 18,
     "metadata": {},
     "output_type": "execute_result"
    }
   ],
   "source": [
    "sum(df_pred['tweet_id'].duplicated())"
   ]
  },
  {
   "cell_type": "code",
   "execution_count": 83,
   "metadata": {
    "scrolled": false
   },
   "outputs": [
    {
     "name": "stdout",
     "output_type": "stream",
     "text": [
      "<class 'pandas.core.frame.DataFrame'>\n",
      "RangeIndex: 2075 entries, 0 to 2074\n",
      "Data columns (total 12 columns):\n",
      " #   Column    Non-Null Count  Dtype  \n",
      "---  ------    --------------  -----  \n",
      " 0   tweet_id  2075 non-null   int64  \n",
      " 1   jpg_url   2075 non-null   object \n",
      " 2   img_num   2075 non-null   int64  \n",
      " 3   p1        2075 non-null   object \n",
      " 4   p1_conf   2075 non-null   float64\n",
      " 5   p1_dog    2075 non-null   bool   \n",
      " 6   p2        2075 non-null   object \n",
      " 7   p2_conf   2075 non-null   float64\n",
      " 8   p2_dog    2075 non-null   bool   \n",
      " 9   p3        2075 non-null   object \n",
      " 10  p3_conf   2075 non-null   float64\n",
      " 11  p3_dog    2075 non-null   bool   \n",
      "dtypes: bool(3), float64(3), int64(2), object(4)\n",
      "memory usage: 152.1+ KB\n"
     ]
    }
   ],
   "source": [
    "df_pred.info()"
   ]
  },
  {
   "cell_type": "code",
   "execution_count": 20,
   "metadata": {
    "scrolled": true
   },
   "outputs": [
    {
     "data": {
      "text/plain": [
       "1    1780\n",
       "2     198\n",
       "3      66\n",
       "4      31\n",
       "Name: img_num, dtype: int64"
      ]
     },
     "execution_count": 20,
     "metadata": {},
     "output_type": "execute_result"
    }
   ],
   "source": [
    "df_pred['img_num'].value_counts()"
   ]
  },
  {
   "cell_type": "markdown",
   "metadata": {},
   "source": [
    "- prediction levels are separated in different columns while they actually all represent one variable \"prediction_level\" \n",
    "- Even though some tweets have more than one image but no duplicates were found."
   ]
  },
  {
   "cell_type": "markdown",
   "metadata": {},
   "source": [
    "## 2.3 Twitter API"
   ]
  },
  {
   "cell_type": "code",
   "execution_count": 21,
   "metadata": {},
   "outputs": [
    {
     "data": {
      "text/html": [
       "<div>\n",
       "<style scoped>\n",
       "    .dataframe tbody tr th:only-of-type {\n",
       "        vertical-align: middle;\n",
       "    }\n",
       "\n",
       "    .dataframe tbody tr th {\n",
       "        vertical-align: top;\n",
       "    }\n",
       "\n",
       "    .dataframe thead th {\n",
       "        text-align: right;\n",
       "    }\n",
       "</style>\n",
       "<table border=\"1\" class=\"dataframe\">\n",
       "  <thead>\n",
       "    <tr style=\"text-align: right;\">\n",
       "      <th></th>\n",
       "      <th>tweet_id</th>\n",
       "      <th>retweet_count</th>\n",
       "      <th>favorite_count</th>\n",
       "    </tr>\n",
       "  </thead>\n",
       "  <tbody>\n",
       "    <tr>\n",
       "      <th>0</th>\n",
       "      <td>892420643555336193</td>\n",
       "      <td>7461</td>\n",
       "      <td>35352</td>\n",
       "    </tr>\n",
       "    <tr>\n",
       "      <th>1</th>\n",
       "      <td>892177421306343426</td>\n",
       "      <td>5537</td>\n",
       "      <td>30593</td>\n",
       "    </tr>\n",
       "    <tr>\n",
       "      <th>2</th>\n",
       "      <td>891815181378084864</td>\n",
       "      <td>3664</td>\n",
       "      <td>23025</td>\n",
       "    </tr>\n",
       "    <tr>\n",
       "      <th>3</th>\n",
       "      <td>891689557279858688</td>\n",
       "      <td>7637</td>\n",
       "      <td>38647</td>\n",
       "    </tr>\n",
       "    <tr>\n",
       "      <th>4</th>\n",
       "      <td>891327558926688256</td>\n",
       "      <td>8228</td>\n",
       "      <td>36916</td>\n",
       "    </tr>\n",
       "    <tr>\n",
       "      <th>...</th>\n",
       "      <td>...</td>\n",
       "      <td>...</td>\n",
       "      <td>...</td>\n",
       "    </tr>\n",
       "    <tr>\n",
       "      <th>1527</th>\n",
       "      <td>666049248165822465</td>\n",
       "      <td>39</td>\n",
       "      <td>95</td>\n",
       "    </tr>\n",
       "    <tr>\n",
       "      <th>1528</th>\n",
       "      <td>666044226329800704</td>\n",
       "      <td>124</td>\n",
       "      <td>264</td>\n",
       "    </tr>\n",
       "    <tr>\n",
       "      <th>1529</th>\n",
       "      <td>666033412701032449</td>\n",
       "      <td>39</td>\n",
       "      <td>108</td>\n",
       "    </tr>\n",
       "    <tr>\n",
       "      <th>1530</th>\n",
       "      <td>666029285002620928</td>\n",
       "      <td>41</td>\n",
       "      <td>118</td>\n",
       "    </tr>\n",
       "    <tr>\n",
       "      <th>1531</th>\n",
       "      <td>666020888022790149</td>\n",
       "      <td>448</td>\n",
       "      <td>2356</td>\n",
       "    </tr>\n",
       "  </tbody>\n",
       "</table>\n",
       "<p>1532 rows × 3 columns</p>\n",
       "</div>"
      ],
      "text/plain": [
       "                tweet_id retweet_count favorite_count\n",
       "0     892420643555336193          7461          35352\n",
       "1     892177421306343426          5537          30593\n",
       "2     891815181378084864          3664          23025\n",
       "3     891689557279858688          7637          38647\n",
       "4     891327558926688256          8228          36916\n",
       "...                  ...           ...            ...\n",
       "1527  666049248165822465            39             95\n",
       "1528  666044226329800704           124            264\n",
       "1529  666033412701032449            39            108\n",
       "1530  666029285002620928            41            118\n",
       "1531  666020888022790149           448           2356\n",
       "\n",
       "[1532 rows x 3 columns]"
      ]
     },
     "execution_count": 21,
     "metadata": {},
     "output_type": "execute_result"
    }
   ],
   "source": [
    "df_api"
   ]
  },
  {
   "cell_type": "code",
   "execution_count": 22,
   "metadata": {
    "scrolled": true
   },
   "outputs": [
    {
     "name": "stdout",
     "output_type": "stream",
     "text": [
      "<class 'pandas.core.frame.DataFrame'>\n",
      "RangeIndex: 1532 entries, 0 to 1531\n",
      "Data columns (total 3 columns):\n",
      " #   Column          Non-Null Count  Dtype \n",
      "---  ------          --------------  ----- \n",
      " 0   tweet_id        1532 non-null   object\n",
      " 1   retweet_count   1532 non-null   object\n",
      " 2   favorite_count  1532 non-null   object\n",
      "dtypes: object(3)\n",
      "memory usage: 36.0+ KB\n"
     ]
    }
   ],
   "source": [
    "df_api.info()"
   ]
  },
  {
   "cell_type": "markdown",
   "metadata": {},
   "source": [
    "- The 'retweet_count' and 'favorite_count' columns have the wrong datatype. \n",
    "- The index column here is the same as the `df_archive` DataFrame and they should be merged together."
   ]
  },
  {
   "cell_type": "markdown",
   "metadata": {},
   "source": [
    "## 2.4 Assessing Output\n",
    "\n",
    "After the data was assessed both visually and programmatically, The following issues were concluded:\n",
    "\n",
    "### Quality\n",
    "\n",
    "#### Completeness: \n",
    "do we have all of the records that we should? Do we have missing records or not? Are there specific rows, columns, or cells missing?\n",
    "\n",
    "`df_archive`\n",
    "- 'expanded_urls' have missing values. that means they don't have image information.\n",
    "\n",
    "`df_api`\n",
    "- The API query failed to retrieve data for 25 tweets because they are either no longer available or access is denied.\n",
    "\n",
    "\n",
    "#### Validity: \n",
    "we have the records, but they're not valid, i.e., they don't conform to a defined schema. A schema is a defined set of rules for data. These rules can be real-world constraints (e.g. negative height is impossible) and table-specific constraints (e.g. unique key constraints in tables).\n",
    "\n",
    "`df_archive`\n",
    "\n",
    "- The 'is_reply_status_id' and 'retweeted_status_id' columns have non null values showing that 181 entries are retweets and 78 entries are replies. i.e; not original retweets.\n",
    "- Also 'expanded_urls' have missing values which means they don't contain images.\n",
    "\n",
    "#### Accuracy: \n",
    "inaccurate data is wrong data that is valid. It adheres to the defined schema, but it is still incorrect. Example: a patient's weight that is 5 lbs too heavy because the scale was faulty.\n",
    "\n",
    "`df_archive`\n",
    "\n",
    "- the 'name' column has some values that are not actual name. such as:  \n",
    "'a', 'the', 'an', 'very', 'one', 'quite', 'just', 'mad', 'actually', 'getting', 'not', 'infuriating', 'space', 'unacceptable', 'his', 'old', 'O', 'life', 'this', 'incredibly', 'such', 'light', 'officially', 'all', 'by', 'my'.\n",
    "- 12 entries have both lables 'doggo' and 'pupper'\n",
    "- 1 entry have both labels 'doggo' and 'floofer\n",
    "\n",
    "#### Consistency: \n",
    "inconsistent data is both valid and accurate, but there are multiple correct ways of referring to the same thing. Consistency, i.e., a standard format, in columns that represent the same data across tables and/or within tables is desired.\n",
    "\n",
    "`df_archive`\n",
    "- not all 'rating_denominator' values are 10.\n",
    "- The 'rating_numerator' column has some very low or very large values.\n",
    "- 'timestamp' and 'retweeted_status_timestamp' column is has type of srting. should be datetime.\n",
    "- the 'source' column values are the complete 'a' tag. Should be reduced to only be actual source values:  \n",
    "    iPhone, Vine, Web Client and TweetDeck\n",
    "- The 'name' columns missing values are labeled 'None'.\n",
    "\n",
    "`df_api`\n",
    "- the 'tweet_id', 'retweet_count' and 'favorite_count' are of type string. Should be integers.\n",
    "\n",
    "\n",
    "### Tidiness\n",
    "\n",
    "`df_archive`\n",
    "- The dog stages columns ('doggo', 'flooofer', 'pupper', 'puppo') should be one column instead.\n",
    "\n",
    "`df_pred`\n",
    "- Multiple predictions exist in the same row. the doesn't follow the tidiness rule 'every row is an observation'. Each prediction should be its own row instead.\n",
    "\n",
    "`df_api`\n",
    "- The observation row here is the tweet defined by the 'tweet_id' that is the same as in `df_archive`. The two tables should be one table instead. "
   ]
  },
  {
   "cell_type": "markdown",
   "metadata": {},
   "source": [
    "# 3. Cleaning"
   ]
  },
  {
   "cell_type": "markdown",
   "metadata": {},
   "source": [
    "## 3.1 Twitter Archive"
   ]
  },
  {
   "cell_type": "code",
   "execution_count": 84,
   "metadata": {},
   "outputs": [],
   "source": [
    "#Copying the original DataFrame into a new one to be cleaned\n",
    "df_archive_clean = df_archive.copy()"
   ]
  },
  {
   "cell_type": "markdown",
   "metadata": {},
   "source": [
    "#### Define\n",
    "* Convert the 'timestamp' and 'retweeted_status_timestamp' columns from string to datetime using the `pd.to_datetime` function.\n",
    "\n",
    "#### Code"
   ]
  },
  {
   "cell_type": "code",
   "execution_count": 85,
   "metadata": {},
   "outputs": [],
   "source": [
    "df_archive_clean['timestamp'] = pd.to_datetime(df_archive_clean['timestamp'])\n",
    "df_archive_clean['retweeted_status_timestamp'] = pd.to_datetime(df_archive_clean['retweeted_status_timestamp'])"
   ]
  },
  {
   "cell_type": "markdown",
   "metadata": {},
   "source": [
    "#### Test"
   ]
  },
  {
   "cell_type": "code",
   "execution_count": 86,
   "metadata": {
    "scrolled": true
   },
   "outputs": [
    {
     "data": {
      "text/plain": [
       "timestamp                     datetime64[ns, UTC]\n",
       "retweeted_status_timestamp    datetime64[ns, UTC]\n",
       "dtype: object"
      ]
     },
     "execution_count": 86,
     "metadata": {},
     "output_type": "execute_result"
    }
   ],
   "source": [
    "# check that the 'timestamp' and 'retweeted_status_timestamp' columns are changed to datetime\n",
    "df_archive_clean[['timestamp','retweeted_status_timestamp']].dtypes"
   ]
  },
  {
   "cell_type": "markdown",
   "metadata": {},
   "source": [
    "#### Define\n",
    "\n",
    "* Remove all tweets that are not original tweets, i.e; tweets that are retweets or replies. So, the `df_archive_clean` is filtered to only the rows where the columns 'retweeted_status_id' and 'in_reply_to_status_id' are null values.\n",
    "\n",
    "#### Code"
   ]
  },
  {
   "cell_type": "code",
   "execution_count": 87,
   "metadata": {},
   "outputs": [],
   "source": [
    "df_archive_clean = df_archive_clean[df_archive_clean['retweeted_status_id'].isnull()]\n",
    "df_archive_clean = df_archive_clean[df_archive_clean['in_reply_to_status_id'].isnull()]"
   ]
  },
  {
   "cell_type": "markdown",
   "metadata": {},
   "source": [
    "#### Test"
   ]
  },
  {
   "cell_type": "code",
   "execution_count": 88,
   "metadata": {
    "scrolled": false
   },
   "outputs": [
    {
     "name": "stdout",
     "output_type": "stream",
     "text": [
      "<class 'pandas.core.frame.DataFrame'>\n",
      "Int64Index: 2097 entries, 0 to 2355\n",
      "Data columns (total 17 columns):\n",
      " #   Column                      Non-Null Count  Dtype              \n",
      "---  ------                      --------------  -----              \n",
      " 0   tweet_id                    2097 non-null   int64              \n",
      " 1   in_reply_to_status_id       0 non-null      float64            \n",
      " 2   in_reply_to_user_id         0 non-null      float64            \n",
      " 3   timestamp                   2097 non-null   datetime64[ns, UTC]\n",
      " 4   source                      2097 non-null   object             \n",
      " 5   text                        2097 non-null   object             \n",
      " 6   retweeted_status_id         0 non-null      float64            \n",
      " 7   retweeted_status_user_id    0 non-null      float64            \n",
      " 8   retweeted_status_timestamp  0 non-null      datetime64[ns, UTC]\n",
      " 9   expanded_urls               2094 non-null   object             \n",
      " 10  rating_numerator            2097 non-null   int64              \n",
      " 11  rating_denominator          2097 non-null   int64              \n",
      " 12  name                        2097 non-null   object             \n",
      " 13  doggo                       2097 non-null   object             \n",
      " 14  floofer                     2097 non-null   object             \n",
      " 15  pupper                      2097 non-null   object             \n",
      " 16  puppo                       2097 non-null   object             \n",
      "dtypes: datetime64[ns, UTC](2), float64(4), int64(3), object(8)\n",
      "memory usage: 294.9+ KB\n"
     ]
    }
   ],
   "source": [
    "df_archive_clean.info()"
   ]
  },
  {
   "cell_type": "markdown",
   "metadata": {},
   "source": [
    "#### Define\n",
    "\n",
    "- Remove the rows with empty 'expanded_urls'. These are the tweets that don't have image information.\n",
    "\n",
    "#### Code"
   ]
  },
  {
   "cell_type": "code",
   "execution_count": 89,
   "metadata": {},
   "outputs": [],
   "source": [
    "df_archive_clean = df_archive_clean[df_archive_clean['expanded_urls'].notna()]"
   ]
  },
  {
   "cell_type": "markdown",
   "metadata": {},
   "source": [
    "#### Test"
   ]
  },
  {
   "cell_type": "code",
   "execution_count": 90,
   "metadata": {
    "scrolled": true
   },
   "outputs": [
    {
     "data": {
      "text/plain": [
       "0"
      ]
     },
     "execution_count": 90,
     "metadata": {},
     "output_type": "execute_result"
    }
   ],
   "source": [
    "sum(df_archive_clean['expanded_urls'].isnull())"
   ]
  },
  {
   "cell_type": "markdown",
   "metadata": {},
   "source": [
    "#### Define\n",
    "\n",
    "- Remove the columns 'in_reply_to_status_id', 'in_reply_to_user_id', 'retweeted_status_id', 'retweeted_status_user_id', 'retweeted_status_timestamp' as they are no longer relevant\n",
    "\n",
    "#### Code"
   ]
  },
  {
   "cell_type": "code",
   "execution_count": 91,
   "metadata": {},
   "outputs": [],
   "source": [
    "cols = ['in_reply_to_status_id', 'in_reply_to_user_id', 'retweeted_status_id', 'retweeted_status_user_id', 'retweeted_status_timestamp',]\n",
    "\n",
    "df_archive_clean.drop(cols, axis=1, inplace=True)"
   ]
  },
  {
   "cell_type": "markdown",
   "metadata": {},
   "source": [
    "#### Test"
   ]
  },
  {
   "cell_type": "code",
   "execution_count": 92,
   "metadata": {},
   "outputs": [
    {
     "data": {
      "text/plain": [
       "Index(['tweet_id', 'timestamp', 'source', 'text', 'expanded_urls',\n",
       "       'rating_numerator', 'rating_denominator', 'name', 'doggo', 'floofer',\n",
       "       'pupper', 'puppo'],\n",
       "      dtype='object')"
      ]
     },
     "execution_count": 92,
     "metadata": {},
     "output_type": "execute_result"
    }
   ],
   "source": [
    "df_archive_clean.columns"
   ]
  },
  {
   "cell_type": "markdown",
   "metadata": {},
   "source": [
    "#### Define\n",
    "\n",
    "* Combine the dog stages columns ('doggo', 'flooofer', 'pupper', 'puppo') should be one column 'dog_stage' instead. This was done by applying a custom function `dog_stage` to the whole DataFrame that returns the interpreted dog_stage and convert the 'None' string to a null value\n",
    "* for cases where 'doggo' and other value exist. 'doggo' will be chosen as 'doggo' is the older dog and dogs can only grow up. So, 'doggo' will definitely be the more valid value.\n",
    "\n",
    "#### Code"
   ]
  },
  {
   "cell_type": "code",
   "execution_count": 94,
   "metadata": {},
   "outputs": [],
   "source": [
    "def dog_stage(row):\n",
    "    \"\"\"\n",
    "    Returns the dog stage based on the values of other columns\n",
    "    \"\"\"\n",
    "    stages = ['doggo','floofer','pupper','puppo']\n",
    "    for stage in stages:\n",
    "        if row[stage].lower().strip() == stage:\n",
    "            return stage\n",
    "    return np.NaN\n",
    "\n",
    "df_archive_clean['dog_stage'] = df_archive_clean.apply(lambda x: dog_stage(x), axis=1)"
   ]
  },
  {
   "cell_type": "markdown",
   "metadata": {},
   "source": [
    "#### Test"
   ]
  },
  {
   "cell_type": "code",
   "execution_count": 95,
   "metadata": {
    "scrolled": true
   },
   "outputs": [
    {
     "data": {
      "text/plain": [
       "NaN        1759\n",
       "pupper      220\n",
       "doggo        83\n",
       "puppo        23\n",
       "floofer       9\n",
       "Name: dog_stage, dtype: int64"
      ]
     },
     "execution_count": 95,
     "metadata": {},
     "output_type": "execute_result"
    }
   ],
   "source": [
    "df_archive_clean['dog_stage'].value_counts(dropna=False)"
   ]
  },
  {
   "cell_type": "markdown",
   "metadata": {},
   "source": [
    "#### Define\n",
    "\n",
    "* Remove the  columns ('doggo', 'floofer', 'pupper', 'puppo') as they are no longer relevant and now combined into one column `dog_stage`\n",
    "\n",
    "#### Code"
   ]
  },
  {
   "cell_type": "code",
   "execution_count": 96,
   "metadata": {},
   "outputs": [],
   "source": [
    "cols = ['doggo', 'floofer', 'pupper', 'puppo']\n",
    "\n",
    "df_archive_clean.drop(cols, axis=1, inplace=True)"
   ]
  },
  {
   "cell_type": "markdown",
   "metadata": {},
   "source": [
    "#### Test"
   ]
  },
  {
   "cell_type": "code",
   "execution_count": 97,
   "metadata": {},
   "outputs": [
    {
     "data": {
      "text/plain": [
       "Index(['tweet_id', 'timestamp', 'source', 'text', 'expanded_urls',\n",
       "       'rating_numerator', 'rating_denominator', 'name', 'dog_stage'],\n",
       "      dtype='object')"
      ]
     },
     "execution_count": 97,
     "metadata": {},
     "output_type": "execute_result"
    }
   ],
   "source": [
    "df_archive_clean.columns"
   ]
  },
  {
   "cell_type": "markdown",
   "metadata": {},
   "source": [
    "#### Define\n",
    "\n",
    "- Fixing the 'rating_numerator' and 'rating_denominator' columns by addressing the possible error causes:\n",
    "    - for the pack of dogs, the rating denominator is usually a multiple of 10. if that's the case, a factor is calculated to return the rating back to the base of 10.\n",
    "    - for the errors in extractions of data when the text contains more than one '/' character. The text is searched using regex for a valid rating with a denominator of 10 and then the rating numerator and denominator are extracted as a result.\n",
    "    - if there's only one '/' character in the text, a base rating is assumed of 10/10.\n",
    "    - for the decimal point ratings, the integer value before the decimal point is extracted and considered as the valid rating numerator.\n",
    "    - only two tweets were left with exceptional high scores. They were not changes as they were valid ratings. One for a real dog and another for the famous artist \"Snoop Dog\". \n",
    "\n",
    "#### Code"
   ]
  },
  {
   "cell_type": "code",
   "execution_count": 36,
   "metadata": {},
   "outputs": [
    {
     "data": {
      "text/html": [
       "<div>\n",
       "<style scoped>\n",
       "    .dataframe tbody tr th:only-of-type {\n",
       "        vertical-align: middle;\n",
       "    }\n",
       "\n",
       "    .dataframe tbody tr th {\n",
       "        vertical-align: top;\n",
       "    }\n",
       "\n",
       "    .dataframe thead th {\n",
       "        text-align: right;\n",
       "    }\n",
       "</style>\n",
       "<table border=\"1\" class=\"dataframe\">\n",
       "  <thead>\n",
       "    <tr style=\"text-align: right;\">\n",
       "      <th></th>\n",
       "      <th>tweet_id</th>\n",
       "      <th>text</th>\n",
       "      <th>rating_numerator</th>\n",
       "      <th>rating_denominator</th>\n",
       "    </tr>\n",
       "  </thead>\n",
       "  <tbody>\n",
       "    <tr>\n",
       "      <th>979</th>\n",
       "      <td>749981277374128128</td>\n",
       "      <td>This is Atticus. He's quite simply America af....</td>\n",
       "      <td>1776</td>\n",
       "      <td>10</td>\n",
       "    </tr>\n",
       "    <tr>\n",
       "      <th>2074</th>\n",
       "      <td>670842764863651840</td>\n",
       "      <td>After so many requests... here you go.\\n\\nGood...</td>\n",
       "      <td>420</td>\n",
       "      <td>10</td>\n",
       "    </tr>\n",
       "  </tbody>\n",
       "</table>\n",
       "</div>"
      ],
      "text/plain": [
       "                tweet_id                                               text  \\\n",
       "979   749981277374128128  This is Atticus. He's quite simply America af....   \n",
       "2074  670842764863651840  After so many requests... here you go.\\n\\nGood...   \n",
       "\n",
       "      rating_numerator  rating_denominator  \n",
       "979               1776                  10  \n",
       "2074               420                  10  "
      ]
     },
     "execution_count": 36,
     "metadata": {},
     "output_type": "execute_result"
    }
   ],
   "source": [
    "def fix_rating(row):\n",
    "    if row['rating_denominator'] != 10:\n",
    "        if row['rating_denominator'] % 10 ==0:\n",
    "            num = row['rating_denominator']/10\n",
    "            row['rating_numerator']=int(row['rating_numerator']/num)\n",
    "            row['rating_denominator'] = 10\n",
    "        else:\n",
    "            prog = re.compile('../..')\n",
    "            results = re.findall(prog, row['text'])\n",
    "            for result in results:\n",
    "                if result[-2:] == '10':\n",
    "                    row['rating_numerator']= int(result[:2])\n",
    "                    row['rating_denominator'] = 10\n",
    "                    results.remove(result)\n",
    "            if len(results):\n",
    "                row['rating_numerator']= 10\n",
    "                row['rating_denominator'] = 10\n",
    "                \n",
    "    else:\n",
    "        prog = re.compile('\\d*\\.\\d*/10')\n",
    "        results = re.findall(prog, row['text'])\n",
    "        for result in results:\n",
    "            if result[-2:] == '10':\n",
    "                try:\n",
    "                    row['rating_numerator'] = int(result.split('.')[0].strip())\n",
    "                except:\n",
    "                    row['rating_numerator'] = 10\n",
    "        \n",
    "    \n",
    "    return row\n",
    "\n",
    "    \n",
    "df_archive_clean = df_archive_clean.apply(lambda x: fix_rating(x), axis=1)\n",
    "\n",
    "df_archive_clean[['tweet_id','text','rating_numerator','rating_denominator']].query('rating_numerator > 20 or  rating_denominator !=10')"
   ]
  },
  {
   "cell_type": "markdown",
   "metadata": {},
   "source": [
    "#### Test"
   ]
  },
  {
   "cell_type": "code",
   "execution_count": 98,
   "metadata": {
    "scrolled": true
   },
   "outputs": [
    {
     "data": {
      "text/plain": [
       "10     2077\n",
       "50        3\n",
       "11        2\n",
       "80        2\n",
       "7         1\n",
       "170       1\n",
       "150       1\n",
       "120       1\n",
       "110       1\n",
       "90        1\n",
       "70        1\n",
       "40        1\n",
       "20        1\n",
       "2         1\n",
       "Name: rating_denominator, dtype: int64"
      ]
     },
     "execution_count": 98,
     "metadata": {},
     "output_type": "execute_result"
    }
   ],
   "source": [
    "df_archive_clean['rating_denominator'].value_counts()"
   ]
  },
  {
   "cell_type": "code",
   "execution_count": 99,
   "metadata": {
    "scrolled": true
   },
   "outputs": [
    {
     "data": {
      "text/plain": [
       "12      485\n",
       "10      434\n",
       "11      413\n",
       "13      287\n",
       "9       153\n",
       "8        98\n",
       "7        52\n",
       "14       38\n",
       "5        34\n",
       "6        32\n",
       "3        19\n",
       "4        16\n",
       "2         9\n",
       "1         5\n",
       "26        1\n",
       "44        1\n",
       "165       1\n",
       "24        1\n",
       "60        1\n",
       "50        1\n",
       "144       1\n",
       "80        1\n",
       "84        1\n",
       "88        1\n",
       "121       1\n",
       "204       1\n",
       "420       1\n",
       "1776      1\n",
       "27        1\n",
       "45        1\n",
       "75        1\n",
       "99        1\n",
       "0         1\n",
       "Name: rating_numerator, dtype: int64"
      ]
     },
     "execution_count": 99,
     "metadata": {},
     "output_type": "execute_result"
    }
   ],
   "source": [
    "df_archive_clean['rating_numerator'].value_counts()"
   ]
  },
  {
   "cell_type": "markdown",
   "metadata": {},
   "source": [
    "#### Define\n",
    "\n",
    "- The 'name' column is fixed by applying a custom function `fix_name` that tries to find other possible names in the tweet's text. If no possible name was found in the text the name value is set to null.\n",
    "\n",
    "#### Code"
   ]
  },
  {
   "cell_type": "code",
   "execution_count": 100,
   "metadata": {},
   "outputs": [],
   "source": [
    "not_names = ['a', 'the', 'an', 'very', 'one', 'quite', 'just', 'mad', 'actually', 'getting', 'not', \n",
    "                 'infuriating', 'space', 'unacceptable', 'his', 'old', 'O', 'life', 'this', 'incredibly', \n",
    "                 'such', 'light', 'officially', 'all', 'by', 'my']  \n",
    "\n",
    "def fix_name(row):\n",
    "    \"\"\"\n",
    "    Returns the row withthe corrected name if found and Null if no name was found\n",
    "    \"\"\"\n",
    "    if row['name'] in not_names or row['name'] == 'None':\n",
    "        try:\n",
    "            pattern = re.compile(r'(?:name(?:d)?)\\s{1}(?:is\\s)?([A-Za-z]+)')\n",
    "            new_name = re.findall(pattern, row['text'])[0]\n",
    "            row['name'] = new_name \n",
    "\n",
    "        except IndexError:\n",
    "            row['name'] = np.NaN\n",
    "    return row\n",
    "\n",
    "\n",
    "df_archive_clean = df_archive_clean.apply(lambda x: fix_name(x), axis=1)"
   ]
  },
  {
   "cell_type": "markdown",
   "metadata": {},
   "source": [
    "#### Test"
   ]
  },
  {
   "cell_type": "code",
   "execution_count": 101,
   "metadata": {},
   "outputs": [
    {
     "data": {
      "text/html": [
       "<div>\n",
       "<style scoped>\n",
       "    .dataframe tbody tr th:only-of-type {\n",
       "        vertical-align: middle;\n",
       "    }\n",
       "\n",
       "    .dataframe tbody tr th {\n",
       "        vertical-align: top;\n",
       "    }\n",
       "\n",
       "    .dataframe thead th {\n",
       "        text-align: right;\n",
       "    }\n",
       "</style>\n",
       "<table border=\"1\" class=\"dataframe\">\n",
       "  <thead>\n",
       "    <tr style=\"text-align: right;\">\n",
       "      <th></th>\n",
       "      <th>tweet_id</th>\n",
       "      <th>text</th>\n",
       "      <th>name</th>\n",
       "    </tr>\n",
       "  </thead>\n",
       "  <tbody>\n",
       "  </tbody>\n",
       "</table>\n",
       "</div>"
      ],
      "text/plain": [
       "Empty DataFrame\n",
       "Columns: [tweet_id, text, name]\n",
       "Index: []"
      ]
     },
     "execution_count": 101,
     "metadata": {},
     "output_type": "execute_result"
    }
   ],
   "source": [
    "df_archive_clean[['tweet_id','text','name']].query('name in @not_names')"
   ]
  },
  {
   "cell_type": "code",
   "execution_count": 102,
   "metadata": {
    "scrolled": true
   },
   "outputs": [
    {
     "data": {
      "text/plain": [
       "Index([       nan,  'Charlie',     'Lucy',   'Oliver',   'Cooper',    'Penny',\n",
       "         'Tucker',  'Winston',     'Lola',    'Sadie',\n",
       "       ...\n",
       "          'Goose',    'Charl',    'Bilbo',    'Rorie', 'Chadrick',   'Horace',\n",
       "            'Kip',    'Rizzo',   'Rupert',    'Major'],\n",
       "      dtype='object', length=955)"
      ]
     },
     "execution_count": 102,
     "metadata": {},
     "output_type": "execute_result"
    }
   ],
   "source": [
    "df_archive_clean['name'].value_counts(dropna=False).keys()"
   ]
  },
  {
   "cell_type": "markdown",
   "metadata": {},
   "source": [
    "#### Define\n",
    "\n",
    "- The tweet's source is extracted from the 'source' column by extracting the inner text of the html 'a' tag using regex. \n",
    "\n",
    "#### Code"
   ]
  },
  {
   "cell_type": "code",
   "execution_count": 103,
   "metadata": {},
   "outputs": [],
   "source": [
    "def fix_source(row):\n",
    "    \"\"\"\n",
    "    Returns the extracted string from the html tag\n",
    "    \"\"\"\n",
    "    pattern = re.compile(r'(?:(?!>).)*?(?=(?:<)|$)')\n",
    "    source = re.findall(pattern, row['source'])[1]\n",
    "    if source:\n",
    "        return source\n",
    "    else:\n",
    "        return row['source']\n",
    "    \n",
    "    \n",
    "df_archive_clean['source'] = df_archive_clean.apply(lambda x: fix_source(x), axis=1)"
   ]
  },
  {
   "cell_type": "markdown",
   "metadata": {},
   "source": [
    "#### Test"
   ]
  },
  {
   "cell_type": "code",
   "execution_count": 104,
   "metadata": {
    "scrolled": true
   },
   "outputs": [
    {
     "data": {
      "text/plain": [
       "Twitter for iPhone     1962\n",
       "Vine - Make a Scene      91\n",
       "Twitter Web Client       30\n",
       "TweetDeck                11\n",
       "Name: source, dtype: int64"
      ]
     },
     "execution_count": 104,
     "metadata": {},
     "output_type": "execute_result"
    }
   ],
   "source": [
    "df_archive_clean['source'].value_counts()"
   ]
  },
  {
   "cell_type": "code",
   "execution_count": 105,
   "metadata": {},
   "outputs": [
    {
     "data": {
      "text/html": [
       "<div>\n",
       "<style scoped>\n",
       "    .dataframe tbody tr th:only-of-type {\n",
       "        vertical-align: middle;\n",
       "    }\n",
       "\n",
       "    .dataframe tbody tr th {\n",
       "        vertical-align: top;\n",
       "    }\n",
       "\n",
       "    .dataframe thead th {\n",
       "        text-align: right;\n",
       "    }\n",
       "</style>\n",
       "<table border=\"1\" class=\"dataframe\">\n",
       "  <thead>\n",
       "    <tr style=\"text-align: right;\">\n",
       "      <th></th>\n",
       "      <th>tweet_id</th>\n",
       "      <th>timestamp</th>\n",
       "      <th>source</th>\n",
       "      <th>text</th>\n",
       "      <th>expanded_urls</th>\n",
       "      <th>rating_numerator</th>\n",
       "      <th>rating_denominator</th>\n",
       "      <th>name</th>\n",
       "      <th>dog_stage</th>\n",
       "    </tr>\n",
       "  </thead>\n",
       "  <tbody>\n",
       "    <tr>\n",
       "      <th>2089</th>\n",
       "      <td>670789397210615808</td>\n",
       "      <td>2015-11-29 02:20:29+00:00</td>\n",
       "      <td>Twitter for iPhone</td>\n",
       "      <td>Two obedient dogs here. Left one has extra leg...</td>\n",
       "      <td>https://twitter.com/dog_rates/status/670789397...</td>\n",
       "      <td>9</td>\n",
       "      <td>10</td>\n",
       "      <td>NaN</td>\n",
       "      <td>NaN</td>\n",
       "    </tr>\n",
       "    <tr>\n",
       "      <th>318</th>\n",
       "      <td>834574053763584002</td>\n",
       "      <td>2017-02-23 01:22:14+00:00</td>\n",
       "      <td>Twitter for iPhone</td>\n",
       "      <td>Here's a doggo fully pupared for a shower. H*c...</td>\n",
       "      <td>https://twitter.com/dog_rates/status/834574053...</td>\n",
       "      <td>13</td>\n",
       "      <td>10</td>\n",
       "      <td>NaN</td>\n",
       "      <td>doggo</td>\n",
       "    </tr>\n",
       "    <tr>\n",
       "      <th>1710</th>\n",
       "      <td>680583894916304897</td>\n",
       "      <td>2015-12-26 03:00:19+00:00</td>\n",
       "      <td>Twitter for iPhone</td>\n",
       "      <td>This is Penny. Her tennis ball slowly rolled d...</td>\n",
       "      <td>https://twitter.com/dog_rates/status/680583894...</td>\n",
       "      <td>8</td>\n",
       "      <td>10</td>\n",
       "      <td>Penny</td>\n",
       "      <td>NaN</td>\n",
       "    </tr>\n",
       "    <tr>\n",
       "      <th>1832</th>\n",
       "      <td>676191832485810177</td>\n",
       "      <td>2015-12-14 00:07:50+00:00</td>\n",
       "      <td>Twitter for iPhone</td>\n",
       "      <td>These two pups just met and have instantly bon...</td>\n",
       "      <td>https://twitter.com/dog_rates/status/676191832...</td>\n",
       "      <td>10</td>\n",
       "      <td>10</td>\n",
       "      <td>NaN</td>\n",
       "      <td>NaN</td>\n",
       "    </tr>\n",
       "    <tr>\n",
       "      <th>2346</th>\n",
       "      <td>666058600524156928</td>\n",
       "      <td>2015-11-16 01:01:59+00:00</td>\n",
       "      <td>Twitter for iPhone</td>\n",
       "      <td>Here is the Rand Paul of retrievers folks! He'...</td>\n",
       "      <td>https://twitter.com/dog_rates/status/666058600...</td>\n",
       "      <td>8</td>\n",
       "      <td>10</td>\n",
       "      <td>NaN</td>\n",
       "      <td>NaN</td>\n",
       "    </tr>\n",
       "  </tbody>\n",
       "</table>\n",
       "</div>"
      ],
      "text/plain": [
       "                tweet_id                 timestamp              source  \\\n",
       "2089  670789397210615808 2015-11-29 02:20:29+00:00  Twitter for iPhone   \n",
       "318   834574053763584002 2017-02-23 01:22:14+00:00  Twitter for iPhone   \n",
       "1710  680583894916304897 2015-12-26 03:00:19+00:00  Twitter for iPhone   \n",
       "1832  676191832485810177 2015-12-14 00:07:50+00:00  Twitter for iPhone   \n",
       "2346  666058600524156928 2015-11-16 01:01:59+00:00  Twitter for iPhone   \n",
       "\n",
       "                                                   text  \\\n",
       "2089  Two obedient dogs here. Left one has extra leg...   \n",
       "318   Here's a doggo fully pupared for a shower. H*c...   \n",
       "1710  This is Penny. Her tennis ball slowly rolled d...   \n",
       "1832  These two pups just met and have instantly bon...   \n",
       "2346  Here is the Rand Paul of retrievers folks! He'...   \n",
       "\n",
       "                                          expanded_urls  rating_numerator  \\\n",
       "2089  https://twitter.com/dog_rates/status/670789397...                 9   \n",
       "318   https://twitter.com/dog_rates/status/834574053...                13   \n",
       "1710  https://twitter.com/dog_rates/status/680583894...                 8   \n",
       "1832  https://twitter.com/dog_rates/status/676191832...                10   \n",
       "2346  https://twitter.com/dog_rates/status/666058600...                 8   \n",
       "\n",
       "      rating_denominator   name dog_stage  \n",
       "2089                  10    NaN       NaN  \n",
       "318                   10    NaN     doggo  \n",
       "1710                  10  Penny       NaN  \n",
       "1832                  10    NaN       NaN  \n",
       "2346                  10    NaN       NaN  "
      ]
     },
     "execution_count": 105,
     "metadata": {},
     "output_type": "execute_result"
    }
   ],
   "source": [
    "df_archive_clean.sample(5)"
   ]
  },
  {
   "cell_type": "markdown",
   "metadata": {},
   "source": [
    "## 3.2 Tweet Image Predictions"
   ]
  },
  {
   "cell_type": "code",
   "execution_count": 106,
   "metadata": {},
   "outputs": [],
   "source": [
    "# copy into a new DataFrame to be cleaned\n",
    "df_pred_clean = df_pred.copy()"
   ]
  },
  {
   "cell_type": "markdown",
   "metadata": {},
   "source": [
    "#### Define\n",
    "\n",
    "* Convert the dataframe shape such that each row represents a prediction using the panas `wide_to_long` function.\n",
    "\n",
    "#### Code"
   ]
  },
  {
   "cell_type": "code",
   "execution_count": 107,
   "metadata": {},
   "outputs": [],
   "source": [
    "# Renaming the dataset columns\n",
    "cols = ['tweet_id', 'jpg_url', 'img_num', \n",
    "       'prediction_1', 'confidence_1', 'breed_1',\n",
    "       'prediction_2', 'confidence_2', 'breed_2',\n",
    "       'prediction_3', 'confidence_3', 'breed_3']\n",
    "\n",
    "df_pred_clean.columns = cols\n",
    "\n",
    "df_pred_clean = pd.wide_to_long(df_pred_clean, stubnames=['prediction', 'confidence', 'breed'], \n",
    "    i=['tweet_id', 'jpg_url', 'img_num'], j='prediction_level', sep=\"_\").reset_index()"
   ]
  },
  {
   "cell_type": "markdown",
   "metadata": {},
   "source": [
    "#### Test"
   ]
  },
  {
   "cell_type": "code",
   "execution_count": 108,
   "metadata": {},
   "outputs": [
    {
     "data": {
      "text/html": [
       "<div>\n",
       "<style scoped>\n",
       "    .dataframe tbody tr th:only-of-type {\n",
       "        vertical-align: middle;\n",
       "    }\n",
       "\n",
       "    .dataframe tbody tr th {\n",
       "        vertical-align: top;\n",
       "    }\n",
       "\n",
       "    .dataframe thead th {\n",
       "        text-align: right;\n",
       "    }\n",
       "</style>\n",
       "<table border=\"1\" class=\"dataframe\">\n",
       "  <thead>\n",
       "    <tr style=\"text-align: right;\">\n",
       "      <th></th>\n",
       "      <th>tweet_id</th>\n",
       "      <th>jpg_url</th>\n",
       "      <th>img_num</th>\n",
       "      <th>prediction_level</th>\n",
       "      <th>prediction</th>\n",
       "      <th>confidence</th>\n",
       "      <th>breed</th>\n",
       "    </tr>\n",
       "  </thead>\n",
       "  <tbody>\n",
       "    <tr>\n",
       "      <th>1395</th>\n",
       "      <td>675006312288268288</td>\n",
       "      <td>https://pbs.twimg.com/media/CV4aqCwWsAIi3OP.jpg</td>\n",
       "      <td>1</td>\n",
       "      <td>1</td>\n",
       "      <td>boxer</td>\n",
       "      <td>0.654697</td>\n",
       "      <td>True</td>\n",
       "    </tr>\n",
       "    <tr>\n",
       "      <th>552</th>\n",
       "      <td>669354382627049472</td>\n",
       "      <td>https://pbs.twimg.com/media/CUoGQjdXAAAkaz2.jpg</td>\n",
       "      <td>1</td>\n",
       "      <td>1</td>\n",
       "      <td>Chihuahua</td>\n",
       "      <td>0.973990</td>\n",
       "      <td>True</td>\n",
       "    </tr>\n",
       "    <tr>\n",
       "      <th>5225</th>\n",
       "      <td>822610361945911296</td>\n",
       "      <td>https://pbs.twimg.com/media/C2p_wQyXEAELtvS.jpg</td>\n",
       "      <td>1</td>\n",
       "      <td>3</td>\n",
       "      <td>Norwich_terrier</td>\n",
       "      <td>0.059644</td>\n",
       "      <td>True</td>\n",
       "    </tr>\n",
       "    <tr>\n",
       "      <th>2538</th>\n",
       "      <td>695314793360662529</td>\n",
       "      <td>https://pbs.twimg.com/media/CaZBErSWEAEdXk_.jpg</td>\n",
       "      <td>2</td>\n",
       "      <td>1</td>\n",
       "      <td>Maltese_dog</td>\n",
       "      <td>0.678547</td>\n",
       "      <td>True</td>\n",
       "    </tr>\n",
       "    <tr>\n",
       "      <th>3780</th>\n",
       "      <td>748705597323898880</td>\n",
       "      <td>https://pbs.twimg.com/ext_tw_video_thumb/74870...</td>\n",
       "      <td>1</td>\n",
       "      <td>1</td>\n",
       "      <td>tiger_shark</td>\n",
       "      <td>0.548497</td>\n",
       "      <td>False</td>\n",
       "    </tr>\n",
       "  </tbody>\n",
       "</table>\n",
       "</div>"
      ],
      "text/plain": [
       "                tweet_id                                            jpg_url  \\\n",
       "1395  675006312288268288    https://pbs.twimg.com/media/CV4aqCwWsAIi3OP.jpg   \n",
       "552   669354382627049472    https://pbs.twimg.com/media/CUoGQjdXAAAkaz2.jpg   \n",
       "5225  822610361945911296    https://pbs.twimg.com/media/C2p_wQyXEAELtvS.jpg   \n",
       "2538  695314793360662529    https://pbs.twimg.com/media/CaZBErSWEAEdXk_.jpg   \n",
       "3780  748705597323898880  https://pbs.twimg.com/ext_tw_video_thumb/74870...   \n",
       "\n",
       "      img_num  prediction_level       prediction  confidence  breed  \n",
       "1395        1                 1            boxer    0.654697   True  \n",
       "552         1                 1        Chihuahua    0.973990   True  \n",
       "5225        1                 3  Norwich_terrier    0.059644   True  \n",
       "2538        2                 1      Maltese_dog    0.678547   True  \n",
       "3780        1                 1      tiger_shark    0.548497  False  "
      ]
     },
     "execution_count": 108,
     "metadata": {},
     "output_type": "execute_result"
    }
   ],
   "source": [
    "df_pred_clean.sample(5)"
   ]
  },
  {
   "cell_type": "markdown",
   "metadata": {},
   "source": [
    "## 3.3 Twitter API"
   ]
  },
  {
   "cell_type": "code",
   "execution_count": 109,
   "metadata": {},
   "outputs": [],
   "source": [
    "# copy into a new DataFrame to be cleaned\n",
    "df_api_clean = df_api.copy()"
   ]
  },
  {
   "cell_type": "markdown",
   "metadata": {},
   "source": [
    "#### Define\n",
    "\n",
    "* Convert the 'tweet_id', 'retweet_count' and 'favorite_count' columns to integer instead of string.\n",
    "\n",
    "#### Code"
   ]
  },
  {
   "cell_type": "code",
   "execution_count": 110,
   "metadata": {},
   "outputs": [],
   "source": [
    "df_api_clean['tweet_id'] = df_api_clean['tweet_id'].astype(int)\n",
    "df_api_clean['retweet_count'] = df_api_clean['retweet_count'].astype(int)\n",
    "df_api_clean['favorite_count'] = df_api_clean['favorite_count'].astype(int)"
   ]
  },
  {
   "cell_type": "markdown",
   "metadata": {},
   "source": [
    "#### Test"
   ]
  },
  {
   "cell_type": "code",
   "execution_count": 111,
   "metadata": {},
   "outputs": [
    {
     "data": {
      "text/plain": [
       "tweet_id          int64\n",
       "retweet_count     int64\n",
       "favorite_count    int64\n",
       "dtype: object"
      ]
     },
     "execution_count": 111,
     "metadata": {},
     "output_type": "execute_result"
    }
   ],
   "source": [
    "df_api_clean.dtypes"
   ]
  },
  {
   "cell_type": "markdown",
   "metadata": {},
   "source": [
    "## 3.4 Merging Data"
   ]
  },
  {
   "cell_type": "markdown",
   "metadata": {},
   "source": [
    "#### Define\n",
    "\n",
    "* Merge the `df_archive_clean` and the `df_api_clean` based on the 'tweet_id' column.\n",
    "\n",
    "#### Code"
   ]
  },
  {
   "cell_type": "code",
   "execution_count": 112,
   "metadata": {},
   "outputs": [],
   "source": [
    "df_merged = pd.merge(df_archive_clean, df_api_clean, on='tweet_id')"
   ]
  },
  {
   "cell_type": "markdown",
   "metadata": {},
   "source": [
    "#### Test"
   ]
  },
  {
   "cell_type": "code",
   "execution_count": 113,
   "metadata": {},
   "outputs": [
    {
     "data": {
      "text/html": [
       "<div>\n",
       "<style scoped>\n",
       "    .dataframe tbody tr th:only-of-type {\n",
       "        vertical-align: middle;\n",
       "    }\n",
       "\n",
       "    .dataframe tbody tr th {\n",
       "        vertical-align: top;\n",
       "    }\n",
       "\n",
       "    .dataframe thead th {\n",
       "        text-align: right;\n",
       "    }\n",
       "</style>\n",
       "<table border=\"1\" class=\"dataframe\">\n",
       "  <thead>\n",
       "    <tr style=\"text-align: right;\">\n",
       "      <th></th>\n",
       "      <th>tweet_id</th>\n",
       "      <th>timestamp</th>\n",
       "      <th>source</th>\n",
       "      <th>text</th>\n",
       "      <th>expanded_urls</th>\n",
       "      <th>rating_numerator</th>\n",
       "      <th>rating_denominator</th>\n",
       "      <th>name</th>\n",
       "      <th>dog_stage</th>\n",
       "      <th>retweet_count</th>\n",
       "      <th>favorite_count</th>\n",
       "    </tr>\n",
       "  </thead>\n",
       "  <tbody>\n",
       "    <tr>\n",
       "      <th>413</th>\n",
       "      <td>807621403335917568</td>\n",
       "      <td>2016-12-10 16:22:02+00:00</td>\n",
       "      <td>Twitter for iPhone</td>\n",
       "      <td>This is Ollie Vue. He was a 3 legged pupper on...</td>\n",
       "      <td>https://twitter.com/dog_rates/status/807621403...</td>\n",
       "      <td>14</td>\n",
       "      <td>10</td>\n",
       "      <td>Ollie</td>\n",
       "      <td>pupper</td>\n",
       "      <td>3588</td>\n",
       "      <td>14524</td>\n",
       "    </tr>\n",
       "    <tr>\n",
       "      <th>1227</th>\n",
       "      <td>667773195014021121</td>\n",
       "      <td>2015-11-20 18:35:10+00:00</td>\n",
       "      <td>Twitter Web Client</td>\n",
       "      <td>This is a rare Hungarian Pinot named Jessiga. ...</td>\n",
       "      <td>https://twitter.com/dog_rates/status/667773195...</td>\n",
       "      <td>8</td>\n",
       "      <td>10</td>\n",
       "      <td>Jessiga</td>\n",
       "      <td>NaN</td>\n",
       "      <td>48</td>\n",
       "      <td>216</td>\n",
       "    </tr>\n",
       "    <tr>\n",
       "      <th>695</th>\n",
       "      <td>680889648562991104</td>\n",
       "      <td>2015-12-26 23:15:17+00:00</td>\n",
       "      <td>Twitter for iPhone</td>\n",
       "      <td>This is Cheesy. It's her birthday. She's patie...</td>\n",
       "      <td>https://twitter.com/dog_rates/status/680889648...</td>\n",
       "      <td>9</td>\n",
       "      <td>10</td>\n",
       "      <td>Cheesy</td>\n",
       "      <td>NaN</td>\n",
       "      <td>354</td>\n",
       "      <td>1707</td>\n",
       "    </tr>\n",
       "  </tbody>\n",
       "</table>\n",
       "</div>"
      ],
      "text/plain": [
       "                tweet_id                 timestamp              source  \\\n",
       "413   807621403335917568 2016-12-10 16:22:02+00:00  Twitter for iPhone   \n",
       "1227  667773195014021121 2015-11-20 18:35:10+00:00  Twitter Web Client   \n",
       "695   680889648562991104 2015-12-26 23:15:17+00:00  Twitter for iPhone   \n",
       "\n",
       "                                                   text  \\\n",
       "413   This is Ollie Vue. He was a 3 legged pupper on...   \n",
       "1227  This is a rare Hungarian Pinot named Jessiga. ...   \n",
       "695   This is Cheesy. It's her birthday. She's patie...   \n",
       "\n",
       "                                          expanded_urls  rating_numerator  \\\n",
       "413   https://twitter.com/dog_rates/status/807621403...                14   \n",
       "1227  https://twitter.com/dog_rates/status/667773195...                 8   \n",
       "695   https://twitter.com/dog_rates/status/680889648...                 9   \n",
       "\n",
       "      rating_denominator     name dog_stage  retweet_count  favorite_count  \n",
       "413                   10    Ollie    pupper           3588           14524  \n",
       "1227                  10  Jessiga       NaN             48             216  \n",
       "695                   10   Cheesy       NaN            354            1707  "
      ]
     },
     "execution_count": 113,
     "metadata": {},
     "output_type": "execute_result"
    }
   ],
   "source": [
    "df_merged.sample(3)"
   ]
  },
  {
   "cell_type": "markdown",
   "metadata": {},
   "source": [
    "## 3.5 Storing Data"
   ]
  },
  {
   "cell_type": "markdown",
   "metadata": {},
   "source": [
    "export the df_merged file to a new file 'twitter_archive_clean.csv'"
   ]
  },
  {
   "cell_type": "code",
   "execution_count": 114,
   "metadata": {},
   "outputs": [],
   "source": [
    "df_merged.to_csv('twitter_archive_master.csv',index=False)"
   ]
  },
  {
   "cell_type": "markdown",
   "metadata": {},
   "source": [
    "export the cleaned image predictions DataFrame to 'image_predictions_clean.csv' "
   ]
  },
  {
   "cell_type": "code",
   "execution_count": 115,
   "metadata": {},
   "outputs": [],
   "source": [
    "df_pred_clean.to_csv('image_predictions_clean.csv',index=False)"
   ]
  },
  {
   "cell_type": "markdown",
   "metadata": {},
   "source": [
    "# 4. Data Analysis and Visualization"
   ]
  },
  {
   "cell_type": "markdown",
   "metadata": {},
   "source": [
    "First step was to import cleaned data from 'twitter_archive_master.csv' and 'image_predictions_clean.csv' files to pandas DataFrame"
   ]
  },
  {
   "cell_type": "code",
   "execution_count": 116,
   "metadata": {},
   "outputs": [
    {
     "data": {
      "text/html": [
       "<div>\n",
       "<style scoped>\n",
       "    .dataframe tbody tr th:only-of-type {\n",
       "        vertical-align: middle;\n",
       "    }\n",
       "\n",
       "    .dataframe tbody tr th {\n",
       "        vertical-align: top;\n",
       "    }\n",
       "\n",
       "    .dataframe thead th {\n",
       "        text-align: right;\n",
       "    }\n",
       "</style>\n",
       "<table border=\"1\" class=\"dataframe\">\n",
       "  <thead>\n",
       "    <tr style=\"text-align: right;\">\n",
       "      <th></th>\n",
       "      <th>tweet_id</th>\n",
       "      <th>timestamp</th>\n",
       "      <th>source</th>\n",
       "      <th>text</th>\n",
       "      <th>expanded_urls</th>\n",
       "      <th>rating_numerator</th>\n",
       "      <th>rating_denominator</th>\n",
       "      <th>name</th>\n",
       "      <th>dog_stage</th>\n",
       "      <th>retweet_count</th>\n",
       "      <th>favorite_count</th>\n",
       "    </tr>\n",
       "  </thead>\n",
       "  <tbody>\n",
       "    <tr>\n",
       "      <th>810</th>\n",
       "      <td>676575501977128964</td>\n",
       "      <td>2015-12-15 01:32:24+00:00</td>\n",
       "      <td>Twitter for iPhone</td>\n",
       "      <td>This pupper is very passionate about Christmas...</td>\n",
       "      <td>https://twitter.com/dog_rates/status/676575501...</td>\n",
       "      <td>8</td>\n",
       "      <td>10</td>\n",
       "      <td>NaN</td>\n",
       "      <td>pupper</td>\n",
       "      <td>1062</td>\n",
       "      <td>2461</td>\n",
       "    </tr>\n",
       "  </tbody>\n",
       "</table>\n",
       "</div>"
      ],
      "text/plain": [
       "               tweet_id                  timestamp              source  \\\n",
       "810  676575501977128964  2015-12-15 01:32:24+00:00  Twitter for iPhone   \n",
       "\n",
       "                                                  text  \\\n",
       "810  This pupper is very passionate about Christmas...   \n",
       "\n",
       "                                         expanded_urls  rating_numerator  \\\n",
       "810  https://twitter.com/dog_rates/status/676575501...                 8   \n",
       "\n",
       "     rating_denominator name dog_stage  retweet_count  favorite_count  \n",
       "810                  10  NaN    pupper           1062            2461  "
      ]
     },
     "execution_count": 116,
     "metadata": {},
     "output_type": "execute_result"
    }
   ],
   "source": [
    "df_master = pd.read_csv('twitter_archive_master.csv')\n",
    "df_master.sample(1)"
   ]
  },
  {
   "cell_type": "code",
   "execution_count": 117,
   "metadata": {},
   "outputs": [
    {
     "data": {
      "text/html": [
       "<div>\n",
       "<style scoped>\n",
       "    .dataframe tbody tr th:only-of-type {\n",
       "        vertical-align: middle;\n",
       "    }\n",
       "\n",
       "    .dataframe tbody tr th {\n",
       "        vertical-align: top;\n",
       "    }\n",
       "\n",
       "    .dataframe thead th {\n",
       "        text-align: right;\n",
       "    }\n",
       "</style>\n",
       "<table border=\"1\" class=\"dataframe\">\n",
       "  <thead>\n",
       "    <tr style=\"text-align: right;\">\n",
       "      <th></th>\n",
       "      <th>tweet_id</th>\n",
       "      <th>jpg_url</th>\n",
       "      <th>img_num</th>\n",
       "      <th>prediction_level</th>\n",
       "      <th>prediction</th>\n",
       "      <th>confidence</th>\n",
       "      <th>breed</th>\n",
       "    </tr>\n",
       "  </thead>\n",
       "  <tbody>\n",
       "    <tr>\n",
       "      <th>3041</th>\n",
       "      <td>709556954897764353</td>\n",
       "      <td>https://pbs.twimg.com/media/CdjaSFCWAAAJZh3.jpg</td>\n",
       "      <td>2</td>\n",
       "      <td>3</td>\n",
       "      <td>Labrador_retriever</td>\n",
       "      <td>0.087051</td>\n",
       "      <td>True</td>\n",
       "    </tr>\n",
       "    <tr>\n",
       "      <th>3699</th>\n",
       "      <td>746131877086527488</td>\n",
       "      <td>https://pbs.twimg.com/media/ClrK-rGWAAENcAa.jpg</td>\n",
       "      <td>1</td>\n",
       "      <td>1</td>\n",
       "      <td>chow</td>\n",
       "      <td>0.575637</td>\n",
       "      <td>True</td>\n",
       "    </tr>\n",
       "    <tr>\n",
       "      <th>312</th>\n",
       "      <td>667832474953625600</td>\n",
       "      <td>https://pbs.twimg.com/media/CUSeGFNW4AAyyHC.jpg</td>\n",
       "      <td>1</td>\n",
       "      <td>1</td>\n",
       "      <td>miniature_pinscher</td>\n",
       "      <td>0.214200</td>\n",
       "      <td>True</td>\n",
       "    </tr>\n",
       "  </tbody>\n",
       "</table>\n",
       "</div>"
      ],
      "text/plain": [
       "                tweet_id                                          jpg_url  \\\n",
       "3041  709556954897764353  https://pbs.twimg.com/media/CdjaSFCWAAAJZh3.jpg   \n",
       "3699  746131877086527488  https://pbs.twimg.com/media/ClrK-rGWAAENcAa.jpg   \n",
       "312   667832474953625600  https://pbs.twimg.com/media/CUSeGFNW4AAyyHC.jpg   \n",
       "\n",
       "      img_num  prediction_level          prediction  confidence  breed  \n",
       "3041        2                 3  Labrador_retriever    0.087051   True  \n",
       "3699        1                 1                chow    0.575637   True  \n",
       "312         1                 1  miniature_pinscher    0.214200   True  "
      ]
     },
     "execution_count": 117,
     "metadata": {},
     "output_type": "execute_result"
    }
   ],
   "source": [
    "df_img = pd.read_csv('image_predictions_clean.csv')\n",
    "df_img.sample(3)"
   ]
  },
  {
   "cell_type": "markdown",
   "metadata": {},
   "source": [
    "## 4.1 Analyzing the image predictions DataFrame"
   ]
  },
  {
   "cell_type": "markdown",
   "metadata": {},
   "source": [
    "We start by analyzing the image DataFrame trying to answer the following Questions:\n",
    "    \n",
    "    1. Which prediction level is more reliable?\n",
    "    2. How much of the predicted data were actual breed of dogs compared to other objects?"
   ]
  },
  {
   "cell_type": "markdown",
   "metadata": {},
   "source": [
    "We start by comparing the confidence levels in along the 3 prediction levels using a bar graph of the mean confidence level and a box plot per prediction level. Also, checking whether the average confidence is different if the prediction is a breed of dogs or not."
   ]
  },
  {
   "cell_type": "code",
   "execution_count": 118,
   "metadata": {
    "scrolled": false
   },
   "outputs": [
    {
     "data": {
      "image/png": "[encoded data removed]",
      "text/plain": [
       "<Figure size 360x360 with 1 Axes>"
      ]
     },
     "metadata": {},
     "output_type": "display_data"
    }
   ],
   "source": [
    "sns.color_palette(\"muted\")\n",
    "sns.set_theme(style=\"whitegrid\",font_scale=1.5)\n",
    "\n",
    "ax = sns.catplot(x='prediction_level',y='confidence',data=df_img,hue=\"breed\" ,kind=\"bar\",legend=False)\n",
    "plt.title('Average Confidence\\n per prediction level')\n",
    "\n",
    "for axis in ax.axes.flat:\n",
    "    axis.yaxis.set_major_formatter(mtick.PercentFormatter(1))\n",
    "\n",
    "L=plt.legend()\n",
    "L.get_texts()[0].set_text('Other Objects')\n",
    "L.get_texts()[1].set_text('Dogs')\n",
    "plt.show()"
   ]
  },
  {
   "cell_type": "code",
   "execution_count": 58,
   "metadata": {
    "scrolled": false
   },
   "outputs": [
    {
     "data": {
      "image/png": "[encoded data removed]",
      "text/plain": [
       "<Figure size 576x576 with 1 Axes>"
      ]
     },
     "metadata": {},
     "output_type": "display_data"
    }
   ],
   "source": [
    "plt.figure(figsize=(8,8))\n",
    "\n",
    "ax = sns.boxplot(x='prediction_level',y='confidence',hue='breed',palette=\"muted\",data=df_img)\n",
    "plt.title(\"Confidence spread\\nper prediction level\")\n",
    "ax.yaxis.set_major_formatter(mtick.PercentFormatter(1.0))\n",
    "L=plt.legend()\n",
    "L.get_texts()[0].set_text('Other Objects')\n",
    "L.get_texts()[1].set_text('Dogs')\n",
    "\n",
    "plt.show()"
   ]
  },
  {
   "cell_type": "markdown",
   "metadata": {},
   "source": [
    "Comparing the prediction levels capabilities of differentiating between breed of dogs and other objects.\n",
    "Does prediction levels accuracy of differentiating between dogs and other objects."
   ]
  },
  {
   "cell_type": "code",
   "execution_count": 119,
   "metadata": {},
   "outputs": [
    {
     "data": {
      "image/png": "[encoded data removed]",
      "text/plain": [
       "<Figure size 576x432 with 1 Axes>"
      ]
     },
     "metadata": {},
     "output_type": "display_data"
    }
   ],
   "source": [
    "dogs = df_img[df_img['breed']==True].groupby('prediction_level')['breed'].value_counts()\n",
    "not_dogs = df_img[df_img['breed']==False].groupby('prediction_level')['breed'].value_counts()\n",
    "\n",
    "data = pd.merge(dogs,not_dogs,on='prediction_level')\n",
    "\n",
    "data.plot(kind='bar',figsize=(8,6))\n",
    "plt.legend(labels=['Other Objects','Dogs'],title='prediction type', bbox_to_anchor=(1.05, 1), loc='upper left')\n",
    "plt.show()"
   ]
  },
  {
   "cell_type": "code",
   "execution_count": 60,
   "metadata": {
    "scrolled": false
   },
   "outputs": [
    {
     "data": {
      "image/png": "[encoded data removed]",
      "text/plain": [
       "<Figure size 576x576 with 1 Axes>"
      ]
     },
     "metadata": {},
     "output_type": "display_data"
    }
   ],
   "source": [
    "x = df_img.breed.value_counts()\n",
    "\n",
    "explode = (0,0.1)\n",
    "plt.figure(figsize=(8,8))\n",
    "\n",
    "plt.pie(x, labels=['Dogs','Other Objects'], autopct='%.2f %%', explode=explode, shadow=True)\n",
    "\n",
    "plt.legend(labels=['Dogs','Other Objects'],title='prediction type', bbox_to_anchor=(1.05, 1), loc='upper left')\n",
    "\n",
    "plt.show()\n"
   ]
  },
  {
   "cell_type": "code",
   "execution_count": 120,
   "metadata": {
    "scrolled": false
   },
   "outputs": [
    {
     "data": {
      "image/png": "[encoded data removed]",
      "text/plain": [
       "<Figure size 720x720 with 1 Axes>"
      ]
     },
     "metadata": {},
     "output_type": "display_data"
    }
   ],
   "source": [
    "# top ten predicted breeds of dogs\n",
    "data = df_img['prediction'].value_counts()[:20]\n",
    "\n",
    "fig, ax = plt.subplots(figsize=(10,10))\n",
    "ax.barh(data.keys(),data.values)\n",
    "ax.invert_yaxis()\n",
    "plt.title(\"Most predicted dogs\")\n",
    "plt.show()\n"
   ]
  },
  {
   "cell_type": "markdown",
   "metadata": {},
   "source": [
    "### Conclusion"
   ]
  },
  {
   "cell_type": "markdown",
   "metadata": {},
   "source": [
    "From the above analysis and visualization, it is clear that prediction level 1 can be considered the most reliable prediction level.\n",
    "\n",
    "Hence, it's time to merge the data from the clean twitter archive with the prediction level 1 data."
   ]
  },
  {
   "cell_type": "code",
   "execution_count": 121,
   "metadata": {},
   "outputs": [
    {
     "data": {
      "text/html": [
       "<div>\n",
       "<style scoped>\n",
       "    .dataframe tbody tr th:only-of-type {\n",
       "        vertical-align: middle;\n",
       "    }\n",
       "\n",
       "    .dataframe tbody tr th {\n",
       "        vertical-align: top;\n",
       "    }\n",
       "\n",
       "    .dataframe thead th {\n",
       "        text-align: right;\n",
       "    }\n",
       "</style>\n",
       "<table border=\"1\" class=\"dataframe\">\n",
       "  <thead>\n",
       "    <tr style=\"text-align: right;\">\n",
       "      <th></th>\n",
       "      <th>tweet_id</th>\n",
       "      <th>timestamp</th>\n",
       "      <th>rating_numerator</th>\n",
       "      <th>dog_stage</th>\n",
       "      <th>retweet_count</th>\n",
       "      <th>favorite_count</th>\n",
       "      <th>prediction</th>\n",
       "      <th>breed</th>\n",
       "    </tr>\n",
       "  </thead>\n",
       "  <tbody>\n",
       "    <tr>\n",
       "      <th>638</th>\n",
       "      <td>760290219849637889</td>\n",
       "      <td>2016-08-02 01:44:48+00:00</td>\n",
       "      <td>13</td>\n",
       "      <td>NaN</td>\n",
       "      <td>11231</td>\n",
       "      <td>26347</td>\n",
       "      <td>Old_English_sheepdog</td>\n",
       "      <td>True</td>\n",
       "    </tr>\n",
       "    <tr>\n",
       "      <th>454</th>\n",
       "      <td>793256262322548741</td>\n",
       "      <td>2016-11-01 01:00:05+00:00</td>\n",
       "      <td>12</td>\n",
       "      <td>NaN</td>\n",
       "      <td>8283</td>\n",
       "      <td>19919</td>\n",
       "      <td>basset</td>\n",
       "      <td>True</td>\n",
       "    </tr>\n",
       "    <tr>\n",
       "      <th>934</th>\n",
       "      <td>672256522047614977</td>\n",
       "      <td>2015-12-03 03:30:19+00:00</td>\n",
       "      <td>8</td>\n",
       "      <td>NaN</td>\n",
       "      <td>1421</td>\n",
       "      <td>2651</td>\n",
       "      <td>ostrich</td>\n",
       "      <td>False</td>\n",
       "    </tr>\n",
       "  </tbody>\n",
       "</table>\n",
       "</div>"
      ],
      "text/plain": [
       "               tweet_id                  timestamp  rating_numerator  \\\n",
       "638  760290219849637889  2016-08-02 01:44:48+00:00                13   \n",
       "454  793256262322548741  2016-11-01 01:00:05+00:00                12   \n",
       "934  672256522047614977  2015-12-03 03:30:19+00:00                 8   \n",
       "\n",
       "    dog_stage  retweet_count  favorite_count            prediction  breed  \n",
       "638       NaN          11231           26347  Old_English_sheepdog   True  \n",
       "454       NaN           8283           19919                basset   True  \n",
       "934       NaN           1421            2651               ostrich  False  "
      ]
     },
     "execution_count": 121,
     "metadata": {},
     "output_type": "execute_result"
    }
   ],
   "source": [
    "# merge the prediction level 1 with the twitter archive data\n",
    "right = df_img[df_img['prediction_level']==1][['tweet_id','prediction','breed']]\n",
    "\n",
    "left = df_master[['tweet_id','timestamp','rating_numerator','dog_stage','retweet_count','favorite_count']]\n",
    "\n",
    "df_merged = pd.merge(left,right,on='tweet_id')\n",
    "df_merged.sample(3)"
   ]
  },
  {
   "cell_type": "markdown",
   "metadata": {},
   "source": [
    "## 4.2 Analyzing the twitter archive data and the prediction level 1"
   ]
  },
  {
   "cell_type": "markdown",
   "metadata": {},
   "source": [
    "After merging the twitter archive with the prediction level 1 data as it was found to be the most reliable prediction, \n",
    "we try to answer the following questions:\n",
    "    \n",
    "    1. What's the most common rating that WeRateDogs gives?\n",
    "    2. How does the WeRateDogs rating correlate with the interaction of the account(rating vs. retweets and fovorites)?\n",
    "    3. How the social insteraction with the account progressed over time (retweets' and favorites' counts)?\n",
    "    4. Which dog breeds are the most likable (most retweeted and most favorite)?\n",
    "    5. How are the dog stages ratings compared?\n",
    "    6. What's the interaction level for each dog stage?"
   ]
  },
  {
   "cell_type": "code",
   "execution_count": 122,
   "metadata": {},
   "outputs": [
    {
     "data": {
      "image/png": "[encoded data removed]",
      "text/plain": [
       "<Figure size 864x288 with 1 Axes>"
      ]
     },
     "metadata": {},
     "output_type": "display_data"
    }
   ],
   "source": [
    "plt.figure(figsize=(12,4))\n",
    "\n",
    "sns.boxplot(x=df_merged['rating_numerator'])\n",
    "\n",
    "plt.axis(xmin=5,xmax=15)\n",
    "\n",
    "plt.show()"
   ]
  },
  {
   "cell_type": "markdown",
   "metadata": {},
   "source": [
    "Now we compare the different dog stages. We first create a pie chart to show how our data is distributed along different dog stages."
   ]
  },
  {
   "cell_type": "code",
   "execution_count": 123,
   "metadata": {},
   "outputs": [
    {
     "data": {
      "image/png": "[encoded data removed]",
      "text/plain": [
       "<Figure size 576x576 with 1 Axes>"
      ]
     },
     "metadata": {},
     "output_type": "display_data"
    }
   ],
   "source": [
    "data = df_merged['dog_stage'].value_counts()\n",
    "\n",
    "labels = data.keys()\n",
    "\n",
    "plt.figure(figsize=(8,8))\n",
    "\n",
    "plt.pie(data,labels=labels, autopct='%.2f %%')\n",
    "\n",
    "plt.legend(title='Dog stage', bbox_to_anchor=(1.05, 1), loc='upper left')\n",
    "plt.title('Dog Stage')\n",
    "plt.show()"
   ]
  },
  {
   "cell_type": "markdown",
   "metadata": {},
   "source": [
    "We compare the dog stages popularity by comparing the average retweets and favorites of each stage. "
   ]
  },
  {
   "cell_type": "code",
   "execution_count": 124,
   "metadata": {
    "scrolled": true
   },
   "outputs": [
    {
     "data": {
      "image/png": "[encoded data removed]",
      "text/plain": [
       "<Figure size 576x432 with 1 Axes>"
      ]
     },
     "metadata": {},
     "output_type": "display_data"
    }
   ],
   "source": [
    "data = df_merged.groupby('dog_stage').mean()[['retweet_count','favorite_count']]\n",
    "\n",
    "\n",
    "data.plot(kind='bar',figsize=(8,6))\n",
    "\n",
    "plt.title('Dog stages average popularity')\n",
    "\n",
    "plt.legend(labels=['retweet','favorite'],title='', bbox_to_anchor=(1.05, 1), loc='upper left')\n",
    "\n",
    "plt.show()"
   ]
  },
  {
   "cell_type": "markdown",
   "metadata": {},
   "source": [
    "we compare the dog stages ratings by plotting the average rating given by WeRateDogs for each stage."
   ]
  },
  {
   "cell_type": "code",
   "execution_count": 125,
   "metadata": {},
   "outputs": [
    {
     "data": {
      "image/png": "[encoded data removed]",
      "text/plain": [
       "<Figure size 576x432 with 1 Axes>"
      ]
     },
     "metadata": {},
     "output_type": "display_data"
    }
   ],
   "source": [
    "data = df_merged.groupby('dog_stage').mean()[['rating_numerator']]\n",
    "\n",
    "data.plot(kind='bar',figsize=(8,6),legend=False)\n",
    "\n",
    "plt.title('Dog stages average rating')\n",
    "\n",
    "plt.show()"
   ]
  },
  {
   "cell_type": "markdown",
   "metadata": {},
   "source": [
    "Comparing Favorite dogs with the account ratings to find the most rating the followers agree with."
   ]
  },
  {
   "cell_type": "code",
   "execution_count": 126,
   "metadata": {
    "scrolled": false
   },
   "outputs": [
    {
     "data": {
      "image/png": "[encoded data removed]",
      "text/plain": [
       "<Figure size 1080x576 with 1 Axes>"
      ]
     },
     "metadata": {},
     "output_type": "display_data"
    }
   ],
   "source": [
    "top_dogs = df_merged[df_merged['favorite_count'] > 20000]\n",
    "\n",
    "data = top_dogs.groupby('rating_numerator').sum()[['retweet_count','favorite_count']]\n",
    "\n",
    "data.plot(kind='bar',figsize=(15,8))\n",
    "\n",
    "plt.show()"
   ]
  },
  {
   "cell_type": "markdown",
   "metadata": {},
   "source": [
    "We analyze the account performance over time by plotting the retweet counts and the favorites counts  among months. As there was a big gap between the second half of 2015 and the first half of 2016, only a continuous portion of the data was taken into consideration for better visualization."
   ]
  },
  {
   "cell_type": "code",
   "execution_count": 127,
   "metadata": {
    "scrolled": false
   },
   "outputs": [
    {
     "data": {
      "image/png": "[encoded data removed]",
      "text/plain": [
       "<Figure size 720x720 with 1 Axes>"
      ]
     },
     "metadata": {},
     "output_type": "display_data"
    }
   ],
   "source": [
    "df_merged['timestamp'] = pd.to_datetime(df_merged['timestamp'])\n",
    "\n",
    "data = df_merged.groupby([(df_merged['timestamp'].dt.year),(df_merged['timestamp'].dt.month)]).sum()\n",
    "\n",
    "data[['retweet_count','favorite_count']][2:-1].plot(kind='line',figsize=(10,10))\n",
    "\n",
    "plt.legend(labels=['retweets','favorites'],title='total count', bbox_to_anchor=(1.05, 1), loc='upper left')\n",
    "\n",
    "\n",
    "plt.show()"
   ]
  },
  {
   "cell_type": "markdown",
   "metadata": {},
   "source": [
    "We find the top rated breed of dogs by calculating the mean rating given by WeRateDogs for each breed."
   ]
  },
  {
   "cell_type": "code",
   "execution_count": 128,
   "metadata": {
    "scrolled": false
   },
   "outputs": [
    {
     "data": {
      "image/png": "[encoded data removed]",
      "text/plain": [
       "<Figure size 720x720 with 1 Axes>"
      ]
     },
     "metadata": {},
     "output_type": "display_data"
    }
   ],
   "source": [
    "# top rated breeds of dogs\n",
    "only_dogs = df_merged[df_merged['breed']==True]\n",
    "rating = only_dogs.groupby('prediction').mean().sort_values(by='rating_numerator',ascending=False)\n",
    "\n",
    "data = rating['rating_numerator'][:10]\n",
    "fig, ax = plt.subplots(figsize=(10,10))\n",
    "ax.barh(data.keys(),data.values)\n",
    "ax.invert_yaxis()\n",
    "plt.title('Top Rated breeds')\n",
    "plt.show()\n"
   ]
  },
  {
   "cell_type": "markdown",
   "metadata": {},
   "source": [
    "We find the most retweeted breed of dogs by calculating the mean retweet count for each breed."
   ]
  },
  {
   "cell_type": "code",
   "execution_count": 129,
   "metadata": {
    "scrolled": false
   },
   "outputs": [
    {
     "data": {
      "image/png": "[encoded data removed]",
      "text/plain": [
       "<Figure size 720x720 with 1 Axes>"
      ]
     },
     "metadata": {},
     "output_type": "display_data"
    }
   ],
   "source": [
    "# top retweeted breeds of dogs\n",
    "only_dogs = df_merged[df_merged['breed']==True]\n",
    "rating = only_dogs.groupby('prediction').mean().sort_values(by='retweet_count',ascending=False)\n",
    "\n",
    "data = rating['retweet_count'][:10]\n",
    "fig, ax = plt.subplots(figsize=(10,10))\n",
    "ax.barh(data.keys(),data.values)\n",
    "ax.invert_yaxis()\n",
    "plt.title('Most retweeted breeds')\n",
    "plt.show()"
   ]
  },
  {
   "cell_type": "markdown",
   "metadata": {},
   "source": [
    "We find the Most favorited breed of dogs by calculating the mean facorite count for each breed."
   ]
  },
  {
   "cell_type": "code",
   "execution_count": 130,
   "metadata": {},
   "outputs": [
    {
     "data": {
      "image/png": "[encoded data removed]",
      "text/plain": [
       "<Figure size 720x720 with 1 Axes>"
      ]
     },
     "metadata": {},
     "output_type": "display_data"
    }
   ],
   "source": [
    "# top favorite breeds of dogs\n",
    "only_dogs = df_merged[df_merged['breed']==True]\n",
    "rating = only_dogs.groupby('prediction').mean().sort_values(by='favorite_count',ascending=False)\n",
    "\n",
    "data = rating['favorite_count'][:10]\n",
    "fig, ax = plt.subplots(figsize=(10,10))\n",
    "ax.barh(data.keys(),data.values)\n",
    "ax.invert_yaxis()\n",
    "plt.title('Most favorited breeds')\n",
    "plt.show()"
   ]
  },
  {
   "cell_type": "markdown",
   "metadata": {},
   "source": [
    "### Conclusion\n",
    "\n",
    "From the above visualizations and analysis, we can now try to answer the questions we posed earlier:\n",
    "    \n",
    "    1. What's the most common rating that WeRateDogs gives?\n",
    "        The most common rating given by WeRateDogs is 12\n",
    "    2. How does the WeRateDogs rating correlate with the interaction of the account(rating vs. retweets and fovorites)?\n",
    "        rating of 13 which is higher than the usual rating the account gives (12) gets the most retweets and favorites.\n",
    "    3. How the social interaction with the account progressed over time (retweets' and favorites' counts)?\n",
    "        The interaction has progressed over time. The retweet rate look somewhat stable. However the favorite count had a very high slope.\n",
    "    4. Which dog breeds are the most likable (most retweeted and most favorite)?\n",
    "        - most retweeted: standard poodle\n",
    "        - most favorite: Saluki\n",
    "    5. How are the dog stages ratings compared?\n",
    "        There's no big difference between the average ratings of different dog stages\n",
    "    6. What's the interaction level for each dog stage?\n",
    "        puppo seems to by the most favorited stage. then comes doggo and floofer. however, pupper seems to be the least popular."
   ]
  }
 ],
 "metadata": {
  "hide_input": false,
  "kernelspec": {
   "display_name": "Python 3",
   "language": "python",
   "name": "python3"
  },
  "language_info": {
   "codemirror_mode": {
    "name": "ipython",
    "version": 3
   },
   "file_extension": ".py",
   "mimetype": "text/x-python",
   "name": "python",
   "nbconvert_exporter": "python",
   "pygments_lexer": "ipython3",
   "version": "3.8.5"
  },
  "toc": {
   "base_numbering": 1,
   "nav_menu": {},
   "number_sections": false,
   "sideBar": true,
   "skip_h1_title": false,
   "title_cell": "Table of Contents",
   "title_sidebar": "Contents",
   "toc_cell": true,
   "toc_position": {},
   "toc_section_display": true,
   "toc_window_display": true
  }
 },
 "nbformat": 4,
 "nbformat_minor": 2
}
