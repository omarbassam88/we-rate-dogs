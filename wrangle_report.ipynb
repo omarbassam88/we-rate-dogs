{
 "cells": [
  {
   "cell_type": "markdown",
   "metadata": {},
   "source": [
    "<center><h1><strong>WeRateDogs Data Wrangling</strong></h1></center>"
   ]
  },
  {
   "cell_type": "markdown",
   "metadata": {
    "toc": true
   },
   "source": [
    "<h1>Table of Contents<span class=\"tocSkip\"></span></h1>\n",
    "<div class=\"toc\"><ul class=\"toc-item\"><li><span><a href=\"#WeRateDogs-Data-Wrangling\" data-toc-modified-id=\"WeRateDogs-Data-Wrangling-1\"><strong>WeRateDogs Data Wrangling</strong></a></span></li><li><span><a href=\"#Introduction\" data-toc-modified-id=\"Introduction-2\">Introduction</a></span></li><li><span><a href=\"#1.-Gathering\" data-toc-modified-id=\"1.-Gathering-3\">1. Gathering</a></span><ul class=\"toc-item\"><li><span><a href=\"#1.1-The-WeRateDogs-Twitter-Archive\" data-toc-modified-id=\"1.1-The-WeRateDogs-Twitter-Archive-3.1\">1.1 The WeRateDogs Twitter Archive</a></span></li><li><span><a href=\"#1.2-The-Tweet-image-predictions\" data-toc-modified-id=\"1.2-The-Tweet-image-predictions-3.2\">1.2 The Tweet image predictions</a></span></li><li><span><a href=\"#1.3-Twitter-API\" data-toc-modified-id=\"1.3-Twitter-API-3.3\">1.3 Twitter API</a></span></li><li><span><a href=\"#1.4-Gathering-Output\" data-toc-modified-id=\"1.4-Gathering-Output-3.4\">1.4 Gathering Output</a></span></li></ul></li><li><span><a href=\"#2.-Assessing-the-Data\" data-toc-modified-id=\"2.-Assessing-the-Data-4\">2. Assessing the Data</a></span><ul class=\"toc-item\"><li><span><a href=\"#2.1-Twitter-Archive\" data-toc-modified-id=\"2.1-Twitter-Archive-4.1\">2.1 Twitter Archive</a></span></li><li><span><a href=\"#2.2-Tweet-Image-Predictions\" data-toc-modified-id=\"2.2-Tweet-Image-Predictions-4.2\">2.2 Tweet Image Predictions</a></span></li><li><span><a href=\"#2.3-Twitter-API\" data-toc-modified-id=\"2.3-Twitter-API-4.3\">2.3 Twitter API</a></span></li><li><span><a href=\"#2.4-Assessing-Output\" data-toc-modified-id=\"2.4-Assessing-Output-4.4\">2.4 Assessing Output</a></span></li></ul></li><li><span><a href=\"#3.-Cleaning\" data-toc-modified-id=\"3.-Cleaning-5\">3. Cleaning</a></span><ul class=\"toc-item\"><li><span><a href=\"#3.1-Twitter-Archive\" data-toc-modified-id=\"3.1-Twitter-Archive-5.1\">3.1 Twitter Archive</a></span></li><li><span><a href=\"#3.2-Tweet-Image-Predictions\" data-toc-modified-id=\"3.2-Tweet-Image-Predictions-5.2\">3.2 Tweet Image Predictions</a></span></li><li><span><a href=\"#3.3-Twitter-API\" data-toc-modified-id=\"3.3-Twitter-API-5.3\">3.3 Twitter API</a></span></li><li><span><a href=\"#3.4-Merging-Data\" data-toc-modified-id=\"3.4-Merging-Data-5.4\">3.4 Merging Data</a></span></li><li><span><a href=\"#3.5-Storing-Data\" data-toc-modified-id=\"3.5-Storing-Data-5.5\">3.5 Storing Data</a></span></li></ul></li></ul></div>"
   ]
  },
  {
   "cell_type": "markdown",
   "metadata": {},
   "source": [
    "# Introduction\n",
    "\n",
    "This project started as an assessment for the **Udacity Data Analysis Professional Track**.\n",
    "\n",
    "The dataset is the tweet archive of Twitter user [@dog_rates](https://twitter.com/dog_rates), also known as \n",
    "[WeRateDogs](https://en.wikipedia.org/wiki/WeRateDogs). WeRateDogs is a Twitter account that rates people's dogs with a humorous comment about the dog. These ratings almost always have a denominator of 10. The numerators, though? Almost always greater than 10. 11/10, 12/10, 13/10, etc. Why? Because [\"they're good dogs Brent.\"](https://knowyourmeme.com/memes/theyre-good-dogs-brent) WeRateDogs has over 4 million followers and has received international media coverage."
   ]
  },
  {
   "cell_type": "markdown",
   "metadata": {},
   "source": [
    "<center><img width=\"50%\" src =\"dog-rates-social.jpg\"/></center>"
   ]
  },
  {
   "cell_type": "markdown",
   "metadata": {},
   "source": [
    "The data wrangling process was achieved using python and the following python packages and libraries:\n",
    "\n",
    "- [NumPy](https://numpy.org/)\n",
    "- [Panadas](https://pandas.pydata.org/)\n",
    "- [Requests](https://requests.readthedocs.io/en/master/)\n",
    "- [Tweepy](https://www.tweepy.org/)\n",
    "- [json](https://docs.python.org/3/library/json.html)\n",
    "- [re](https://docs.python.org/3/library/re.html)"
   ]
  },
  {
   "cell_type": "markdown",
   "metadata": {},
   "source": [
    "# 1. Gathering\n",
    "\n",
    "Three sources of data were gathered for this Project:\n",
    "1. Twitter archive provided by WeRateDogs\n",
    "2. Image predictions from the neural network data downloaded programmatically.\n",
    "3. Information from the Twitter API scraped programmatically."
   ]
  },
  {
   "cell_type": "markdown",
   "metadata": {},
   "source": [
    "We begin by importing the required libraries and packages that will help us in our data wrangling and analysis"
   ]
  },
  {
   "cell_type": "code",
   "execution_count": 1,
   "metadata": {
    "hide_input": false,
    "tags": [
     "hide-input"
    ]
   },
   "outputs": [],
   "source": [
    "#import required libraries\n",
    "import numpy as np\n",
    "import pandas as pd\n",
    "import matplotlib.pyplot as plt\n",
    "import os\n",
    "import requests\n",
    "import tweepy\n",
    "import json\n",
    "import re"
   ]
  },
  {
   "cell_type": "markdown",
   "metadata": {},
   "source": [
    "## 1.1 The WeRateDogs Twitter Archive\n",
    "\n",
    "- The 'twitter-archive-enhanced.csv' file was provided by Udacity and downloaded manually.\n",
    "- Then it was easily read into a pandas DataFrame named `df_archive`."
   ]
  },
  {
   "cell_type": "code",
   "execution_count": 2,
   "metadata": {
    "scrolled": true
   },
   "outputs": [
    {
     "data": {
      "text/html": [
       "<div>\n",
       "<style scoped>\n",
       "    .dataframe tbody tr th:only-of-type {\n",
       "        vertical-align: middle;\n",
       "    }\n",
       "\n",
       "    .dataframe tbody tr th {\n",
       "        vertical-align: top;\n",
       "    }\n",
       "\n",
       "    .dataframe thead th {\n",
       "        text-align: right;\n",
       "    }\n",
       "</style>\n",
       "<table border=\"1\" class=\"dataframe\">\n",
       "  <thead>\n",
       "    <tr style=\"text-align: right;\">\n",
       "      <th></th>\n",
       "      <th>tweet_id</th>\n",
       "      <th>in_reply_to_status_id</th>\n",
       "      <th>in_reply_to_user_id</th>\n",
       "      <th>timestamp</th>\n",
       "      <th>source</th>\n",
       "      <th>text</th>\n",
       "      <th>retweeted_status_id</th>\n",
       "      <th>retweeted_status_user_id</th>\n",
       "      <th>retweeted_status_timestamp</th>\n",
       "      <th>expanded_urls</th>\n",
       "      <th>rating_numerator</th>\n",
       "      <th>rating_denominator</th>\n",
       "      <th>name</th>\n",
       "      <th>doggo</th>\n",
       "      <th>floofer</th>\n",
       "      <th>pupper</th>\n",
       "      <th>puppo</th>\n",
       "    </tr>\n",
       "  </thead>\n",
       "  <tbody>\n",
       "    <tr>\n",
       "      <th>0</th>\n",
       "      <td>892420643555336193</td>\n",
       "      <td>NaN</td>\n",
       "      <td>NaN</td>\n",
       "      <td>2017-08-01 16:23:56 +0000</td>\n",
       "      <td>&lt;a href=\"http://twitter.com/download/iphone\" r...</td>\n",
       "      <td>This is Phineas. He's a mystical boy. Only eve...</td>\n",
       "      <td>NaN</td>\n",
       "      <td>NaN</td>\n",
       "      <td>NaN</td>\n",
       "      <td>https://twitter.com/dog_rates/status/892420643...</td>\n",
       "      <td>13</td>\n",
       "      <td>10</td>\n",
       "      <td>Phineas</td>\n",
       "      <td>None</td>\n",
       "      <td>None</td>\n",
       "      <td>None</td>\n",
       "      <td>None</td>\n",
       "    </tr>\n",
       "    <tr>\n",
       "      <th>1</th>\n",
       "      <td>892177421306343426</td>\n",
       "      <td>NaN</td>\n",
       "      <td>NaN</td>\n",
       "      <td>2017-08-01 00:17:27 +0000</td>\n",
       "      <td>&lt;a href=\"http://twitter.com/download/iphone\" r...</td>\n",
       "      <td>This is Tilly. She's just checking pup on you....</td>\n",
       "      <td>NaN</td>\n",
       "      <td>NaN</td>\n",
       "      <td>NaN</td>\n",
       "      <td>https://twitter.com/dog_rates/status/892177421...</td>\n",
       "      <td>13</td>\n",
       "      <td>10</td>\n",
       "      <td>Tilly</td>\n",
       "      <td>None</td>\n",
       "      <td>None</td>\n",
       "      <td>None</td>\n",
       "      <td>None</td>\n",
       "    </tr>\n",
       "    <tr>\n",
       "      <th>2</th>\n",
       "      <td>891815181378084864</td>\n",
       "      <td>NaN</td>\n",
       "      <td>NaN</td>\n",
       "      <td>2017-07-31 00:18:03 +0000</td>\n",
       "      <td>&lt;a href=\"http://twitter.com/download/iphone\" r...</td>\n",
       "      <td>This is Archie. He is a rare Norwegian Pouncin...</td>\n",
       "      <td>NaN</td>\n",
       "      <td>NaN</td>\n",
       "      <td>NaN</td>\n",
       "      <td>https://twitter.com/dog_rates/status/891815181...</td>\n",
       "      <td>12</td>\n",
       "      <td>10</td>\n",
       "      <td>Archie</td>\n",
       "      <td>None</td>\n",
       "      <td>None</td>\n",
       "      <td>None</td>\n",
       "      <td>None</td>\n",
       "    </tr>\n",
       "  </tbody>\n",
       "</table>\n",
       "</div>"
      ],
      "text/plain": [
       "             tweet_id  in_reply_to_status_id  in_reply_to_user_id  \\\n",
       "0  892420643555336193                    NaN                  NaN   \n",
       "1  892177421306343426                    NaN                  NaN   \n",
       "2  891815181378084864                    NaN                  NaN   \n",
       "\n",
       "                   timestamp  \\\n",
       "0  2017-08-01 16:23:56 +0000   \n",
       "1  2017-08-01 00:17:27 +0000   \n",
       "2  2017-07-31 00:18:03 +0000   \n",
       "\n",
       "                                              source  \\\n",
       "0  <a href=\"http://twitter.com/download/iphone\" r...   \n",
       "1  <a href=\"http://twitter.com/download/iphone\" r...   \n",
       "2  <a href=\"http://twitter.com/download/iphone\" r...   \n",
       "\n",
       "                                                text  retweeted_status_id  \\\n",
       "0  This is Phineas. He's a mystical boy. Only eve...                  NaN   \n",
       "1  This is Tilly. She's just checking pup on you....                  NaN   \n",
       "2  This is Archie. He is a rare Norwegian Pouncin...                  NaN   \n",
       "\n",
       "   retweeted_status_user_id retweeted_status_timestamp  \\\n",
       "0                       NaN                        NaN   \n",
       "1                       NaN                        NaN   \n",
       "2                       NaN                        NaN   \n",
       "\n",
       "                                       expanded_urls  rating_numerator  \\\n",
       "0  https://twitter.com/dog_rates/status/892420643...                13   \n",
       "1  https://twitter.com/dog_rates/status/892177421...                13   \n",
       "2  https://twitter.com/dog_rates/status/891815181...                12   \n",
       "\n",
       "   rating_denominator     name doggo floofer pupper puppo  \n",
       "0                  10  Phineas  None    None   None  None  \n",
       "1                  10    Tilly  None    None   None  None  \n",
       "2                  10   Archie  None    None   None  None  "
      ]
     },
     "execution_count": 2,
     "metadata": {},
     "output_type": "execute_result"
    }
   ],
   "source": [
    "df_archive = pd.read_csv('twitter-archive-enhanced.csv')\n",
    "df_archive.head(3)"
   ]
  },
  {
   "cell_type": "markdown",
   "metadata": {},
   "source": [
    "## 1.2 The Tweet image predictions\n",
    "\n",
    "- The 'image-predictions.tsv' shows the results of a neural network that detects what breed of dog (or other object, animal, etc.) is present in each tweet.   \n",
    "- The file was downloaded programmatically using the Requests python library and then saved to a local file.\n",
    "- The file name was extracted from the url using the split function.\n",
    "- The file was then read into a pandas DataFrame `df_pred` while specifying that it's a tsv by setting the `sep` parameter to `'\\t'`."
   ]
  },
  {
   "cell_type": "code",
   "execution_count": 3,
   "metadata": {},
   "outputs": [
    {
     "name": "stdout",
     "output_type": "stream",
     "text": [
      "File image-predictions.tsv already exists\n"
     ]
    }
   ],
   "source": [
    "# Download image predictions file if it doesn't exist\n",
    "pred_url = 'https://d17h27t6h515a5.cloudfront.net/topher/2017/August/599fd2ad_image-predictions/image-predictions.tsv'\n",
    "file_name = pred_url.split('/')[-1]\n",
    "\n",
    "# only download the file if the file doesn't already exist on disk.\n",
    "if os.path.exists(file_name):\n",
    "    print(f\"File {file_name} already exists\")\n",
    "else:\n",
    "    r = requests.get(pred_url)\n",
    "    # write the reponse to a local file\n",
    "    with open('image-predictions.tsv','wb') as file:\n",
    "        file.write(r.content)\n",
    "        print(f\"successfully downloaded {file_name} and written to disc\")"
   ]
  },
  {
   "cell_type": "code",
   "execution_count": 4,
   "metadata": {
    "hide_input": true,
    "scrolled": true
   },
   "outputs": [
    {
     "data": {
      "text/html": [
       "<div>\n",
       "<style scoped>\n",
       "    .dataframe tbody tr th:only-of-type {\n",
       "        vertical-align: middle;\n",
       "    }\n",
       "\n",
       "    .dataframe tbody tr th {\n",
       "        vertical-align: top;\n",
       "    }\n",
       "\n",
       "    .dataframe thead th {\n",
       "        text-align: right;\n",
       "    }\n",
       "</style>\n",
       "<table border=\"1\" class=\"dataframe\">\n",
       "  <thead>\n",
       "    <tr style=\"text-align: right;\">\n",
       "      <th></th>\n",
       "      <th>tweet_id</th>\n",
       "      <th>jpg_url</th>\n",
       "      <th>img_num</th>\n",
       "      <th>p1</th>\n",
       "      <th>p1_conf</th>\n",
       "      <th>p1_dog</th>\n",
       "      <th>p2</th>\n",
       "      <th>p2_conf</th>\n",
       "      <th>p2_dog</th>\n",
       "      <th>p3</th>\n",
       "      <th>p3_conf</th>\n",
       "      <th>p3_dog</th>\n",
       "    </tr>\n",
       "  </thead>\n",
       "  <tbody>\n",
       "    <tr>\n",
       "      <th>663</th>\n",
       "      <td>682662431982772225</td>\n",
       "      <td>https://pbs.twimg.com/media/CXlN1-EWMAQdwXK.jpg</td>\n",
       "      <td>1</td>\n",
       "      <td>beagle</td>\n",
       "      <td>0.413824</td>\n",
       "      <td>True</td>\n",
       "      <td>Cardigan</td>\n",
       "      <td>0.263553</td>\n",
       "      <td>True</td>\n",
       "      <td>basset</td>\n",
       "      <td>0.167618</td>\n",
       "      <td>True</td>\n",
       "    </tr>\n",
       "    <tr>\n",
       "      <th>894</th>\n",
       "      <td>699434518667751424</td>\n",
       "      <td>https://pbs.twimg.com/media/CbTj--1XEAIZjc_.jpg</td>\n",
       "      <td>1</td>\n",
       "      <td>golden_retriever</td>\n",
       "      <td>0.836572</td>\n",
       "      <td>True</td>\n",
       "      <td>kuvasz</td>\n",
       "      <td>0.105946</td>\n",
       "      <td>True</td>\n",
       "      <td>Labrador_retriever</td>\n",
       "      <td>0.025144</td>\n",
       "      <td>True</td>\n",
       "    </tr>\n",
       "    <tr>\n",
       "      <th>710</th>\n",
       "      <td>685307451701334016</td>\n",
       "      <td>https://pbs.twimg.com/media/CYKzfTTWMAEeTN7.jpg</td>\n",
       "      <td>1</td>\n",
       "      <td>Pomeranian</td>\n",
       "      <td>0.963176</td>\n",
       "      <td>True</td>\n",
       "      <td>Shetland_sheepdog</td>\n",
       "      <td>0.019468</td>\n",
       "      <td>True</td>\n",
       "      <td>keeshond</td>\n",
       "      <td>0.008605</td>\n",
       "      <td>True</td>\n",
       "    </tr>\n",
       "  </tbody>\n",
       "</table>\n",
       "</div>"
      ],
      "text/plain": [
       "               tweet_id                                          jpg_url  \\\n",
       "663  682662431982772225  https://pbs.twimg.com/media/CXlN1-EWMAQdwXK.jpg   \n",
       "894  699434518667751424  https://pbs.twimg.com/media/CbTj--1XEAIZjc_.jpg   \n",
       "710  685307451701334016  https://pbs.twimg.com/media/CYKzfTTWMAEeTN7.jpg   \n",
       "\n",
       "     img_num                p1   p1_conf  p1_dog                 p2   p2_conf  \\\n",
       "663        1            beagle  0.413824    True           Cardigan  0.263553   \n",
       "894        1  golden_retriever  0.836572    True             kuvasz  0.105946   \n",
       "710        1        Pomeranian  0.963176    True  Shetland_sheepdog  0.019468   \n",
       "\n",
       "     p2_dog                  p3   p3_conf  p3_dog  \n",
       "663    True              basset  0.167618    True  \n",
       "894    True  Labrador_retriever  0.025144    True  \n",
       "710    True            keeshond  0.008605    True  "
      ]
     },
     "execution_count": 4,
     "metadata": {},
     "output_type": "execute_result"
    }
   ],
   "source": [
    "# Read the image predictions file into a DataFrame\n",
    "df_pred = pd.read_csv('image-predictions.tsv',sep='\\t')\n",
    "df_pred.sample(3)"
   ]
  },
  {
   "cell_type": "markdown",
   "metadata": {},
   "source": [
    "## 1.3 Twitter API \n",
    "\n",
    "- A Twitter Developer account was created and used to query more data using the tweet ids from the `df_archive` DataFrame.\n",
    "- The Twitter API was used to query each tweet's JSON data using Python's Tweepy library and stored each tweet's entire set of JSON data as a line in a file called tweet_json.txt file.\n",
    "- The 'tweet._json.txt' file line by line into a pandas DataFrame `df_api` with the following columns:\n",
    "    - tweet ID.\n",
    "    - retweet count. \n",
    "    - favorite count. \n",
    "\n",
    "- Note: Twitter API keys, secrets, and tokens were read from an external file and were not submitted with the project."
   ]
  },
  {
   "cell_type": "code",
   "execution_count": 5,
   "metadata": {},
   "outputs": [
    {
     "name": "stdout",
     "output_type": "stream",
     "text": [
      "File tweet_json.txt already exists\n"
     ]
    }
   ],
   "source": [
    "tweet_ids = df_archive['tweet_id']\n",
    "json_file = 'tweet_json.txt'\n",
    "\n",
    "\n",
    "# only Query the API if the tweet_json.txt file doesn't exist\n",
    "if os.path.exists(json_file):\n",
    "    print(f\"File {json_file} already exists\")\n",
    "else:\n",
    "    # import the keys files where the API keys are stored and it is not submitted with the project\n",
    "    import keys\n",
    "    # Twitter API authorization \n",
    "    auth = tweepy.OAuthHandler(keys.consumer_key, keys.consumer_secret)\n",
    "    auth.set_access_token(keys.access_token, keys.access_secret)\n",
    "\n",
    "    api = tweepy.API(auth)\n",
    "    \n",
    "    count = 0\n",
    "    fails_dict = {}\n",
    "    # Save each tweet's returned JSON as a new line in a .txt file\n",
    "    with open(json_file, 'w') as outfile:\n",
    "        # Loop through each tweet and write its information into a separate line of the .txt file\n",
    "        for tweet_id in tweet_ids:\n",
    "            count += 1\n",
    "            print(str(count) + \": \" + str(tweet_id))\n",
    "            try:\n",
    "                tweet = api.get_status(tweet_id, tweet_mode='extended')\n",
    "                print(\"Success\")\n",
    "                json.dump(tweet._json, outfile)\n",
    "                outfile.write('\\n')\n",
    "            except tweepy.TweepError as e:\n",
    "                print(\"Fail\")\n",
    "                fails_dict[tweet_id] = e\n",
    "                pass\n",
    "    print(f\"File {json_file} successfully written to Disk\")\n",
    "    print(\"Some tweets returned the following errors\")\n",
    "    print(fails_dict)\n",
    "\n"
   ]
  },
  {
   "cell_type": "code",
   "execution_count": 6,
   "metadata": {
    "hide_input": false,
    "scrolled": true
   },
   "outputs": [
    {
     "data": {
      "text/html": [
       "<div>\n",
       "<style scoped>\n",
       "    .dataframe tbody tr th:only-of-type {\n",
       "        vertical-align: middle;\n",
       "    }\n",
       "\n",
       "    .dataframe tbody tr th {\n",
       "        vertical-align: top;\n",
       "    }\n",
       "\n",
       "    .dataframe thead th {\n",
       "        text-align: right;\n",
       "    }\n",
       "</style>\n",
       "<table border=\"1\" class=\"dataframe\">\n",
       "  <thead>\n",
       "    <tr style=\"text-align: right;\">\n",
       "      <th></th>\n",
       "      <th>tweet_id</th>\n",
       "      <th>retweet_count</th>\n",
       "      <th>favorite_count</th>\n",
       "    </tr>\n",
       "  </thead>\n",
       "  <tbody>\n",
       "    <tr>\n",
       "      <th>465</th>\n",
       "      <td>815639385530101762</td>\n",
       "      <td>1633</td>\n",
       "      <td>8164</td>\n",
       "    </tr>\n",
       "    <tr>\n",
       "      <th>1314</th>\n",
       "      <td>670040295598354432</td>\n",
       "      <td>104</td>\n",
       "      <td>706</td>\n",
       "    </tr>\n",
       "    <tr>\n",
       "      <th>1371</th>\n",
       "      <td>668872652652679168</td>\n",
       "      <td>279</td>\n",
       "      <td>493</td>\n",
       "    </tr>\n",
       "    <tr>\n",
       "      <th>717</th>\n",
       "      <td>781163403222056960</td>\n",
       "      <td>2720</td>\n",
       "      <td>9727</td>\n",
       "    </tr>\n",
       "    <tr>\n",
       "      <th>691</th>\n",
       "      <td>785170936622350336</td>\n",
       "      <td>4774</td>\n",
       "      <td>11947</td>\n",
       "    </tr>\n",
       "  </tbody>\n",
       "</table>\n",
       "</div>"
      ],
      "text/plain": [
       "                tweet_id retweet_count favorite_count\n",
       "465   815639385530101762          1633           8164\n",
       "1314  670040295598354432           104            706\n",
       "1371  668872652652679168           279            493\n",
       "717   781163403222056960          2720           9727\n",
       "691   785170936622350336          4774          11947"
      ]
     },
     "execution_count": 6,
     "metadata": {},
     "output_type": "execute_result"
    }
   ],
   "source": [
    "# read .txt file line by line into a pandas DataFrame\n",
    "\n",
    "labels = ['tweet_id','retweet_count','favorite_count']\n",
    "\n",
    "df_api = pd.DataFrame(columns=labels)\n",
    "\n",
    "with open(json_file) as file:\n",
    "    for line in file:\n",
    "        data = json.loads(line)\n",
    "        df_api = df_api.append({\n",
    "            'tweet_id':data['id'],\n",
    "            'retweet_count':data['retweet_count'],\n",
    "            'favorite_count':data['favorite_count']\n",
    "            },ignore_index=True)\n",
    "        \n",
    "df_api.sample(5)"
   ]
  },
  {
   "cell_type": "markdown",
   "metadata": {},
   "source": [
    "## 1.4 Gathering Output\n",
    " \n",
    "The three files were successfully downloaded, written to a local file and read into the following pandas DataFrames:\n",
    "- `df_archive`:  Data from the WeRateDogs Twitter archive.\n",
    "- `df_pred`:  Data from the image predictions from the neural network.\n",
    "- `df_api`:  Data scraped from the Twitter API.\n"
   ]
  },
  {
   "cell_type": "markdown",
   "metadata": {},
   "source": [
    "# 2. Assessing the Data"
   ]
  },
  {
   "cell_type": "markdown",
   "metadata": {},
   "source": [
    "We start assessing the data to try to find any Quality or tidiness issues. \n",
    "\n",
    "The aim is to asses all three DataFrames with respect to Quality dimensions:\n",
    " - Completeness\n",
    " - Validity\n",
    " - Accuracy\n",
    " - Consistency\n",
    " \n",
    "and the following tidiness rules:\n",
    "- Each variable forms a column.\n",
    "- Each observation forms a row.\n",
    "- Each type of observational unit forms a table."
   ]
  },
  {
   "cell_type": "markdown",
   "metadata": {},
   "source": [
    "## 2.1 Twitter Archive"
   ]
  },
  {
   "cell_type": "markdown",
   "metadata": {},
   "source": [
    "Using the `info` method we try to find missing data and look to see if we have non-original tweets (retweets and replies). Also check the is we already have the correct data types for all columns."
   ]
  },
  {
   "cell_type": "code",
   "execution_count": 7,
   "metadata": {
    "scrolled": false
   },
   "outputs": [
    {
     "name": "stdout",
     "output_type": "stream",
     "text": [
      "<class 'pandas.core.frame.DataFrame'>\n",
      "RangeIndex: 2356 entries, 0 to 2355\n",
      "Data columns (total 17 columns):\n",
      " #   Column                      Non-Null Count  Dtype  \n",
      "---  ------                      --------------  -----  \n",
      " 0   tweet_id                    2356 non-null   int64  \n",
      " 1   in_reply_to_status_id       78 non-null     float64\n",
      " 2   in_reply_to_user_id         78 non-null     float64\n",
      " 3   timestamp                   2356 non-null   object \n",
      " 4   source                      2356 non-null   object \n",
      " 5   text                        2356 non-null   object \n",
      " 6   retweeted_status_id         181 non-null    float64\n",
      " 7   retweeted_status_user_id    181 non-null    float64\n",
      " 8   retweeted_status_timestamp  181 non-null    object \n",
      " 9   expanded_urls               2297 non-null   object \n",
      " 10  rating_numerator            2356 non-null   int64  \n",
      " 11  rating_denominator          2356 non-null   int64  \n",
      " 12  name                        2356 non-null   object \n",
      " 13  doggo                       2356 non-null   object \n",
      " 14  floofer                     2356 non-null   object \n",
      " 15  pupper                      2356 non-null   object \n",
      " 16  puppo                       2356 non-null   object \n",
      "dtypes: float64(4), int64(3), object(10)\n",
      "memory usage: 313.0+ KB\n"
     ]
    }
   ],
   "source": [
    "df_archive.info()"
   ]
  },
  {
   "cell_type": "code",
   "execution_count": 8,
   "metadata": {},
   "outputs": [
    {
     "data": {
      "text/html": [
       "<div>\n",
       "<style scoped>\n",
       "    .dataframe tbody tr th:only-of-type {\n",
       "        vertical-align: middle;\n",
       "    }\n",
       "\n",
       "    .dataframe tbody tr th {\n",
       "        vertical-align: top;\n",
       "    }\n",
       "\n",
       "    .dataframe thead th {\n",
       "        text-align: right;\n",
       "    }\n",
       "</style>\n",
       "<table border=\"1\" class=\"dataframe\">\n",
       "  <thead>\n",
       "    <tr style=\"text-align: right;\">\n",
       "      <th></th>\n",
       "      <th>tweet_id</th>\n",
       "      <th>in_reply_to_status_id</th>\n",
       "      <th>in_reply_to_user_id</th>\n",
       "      <th>timestamp</th>\n",
       "      <th>source</th>\n",
       "      <th>text</th>\n",
       "      <th>retweeted_status_id</th>\n",
       "      <th>retweeted_status_user_id</th>\n",
       "      <th>retweeted_status_timestamp</th>\n",
       "      <th>expanded_urls</th>\n",
       "      <th>rating_numerator</th>\n",
       "      <th>rating_denominator</th>\n",
       "      <th>name</th>\n",
       "      <th>doggo</th>\n",
       "      <th>floofer</th>\n",
       "      <th>pupper</th>\n",
       "      <th>puppo</th>\n",
       "    </tr>\n",
       "  </thead>\n",
       "  <tbody>\n",
       "    <tr>\n",
       "      <th>2327</th>\n",
       "      <td>666407126856765440</td>\n",
       "      <td>NaN</td>\n",
       "      <td>NaN</td>\n",
       "      <td>2015-11-17 00:06:54 +0000</td>\n",
       "      <td>&lt;a href=\"http://twitter.com/download/iphone\" r...</td>\n",
       "      <td>This is a southern Vesuvius bumblegruff. Can d...</td>\n",
       "      <td>NaN</td>\n",
       "      <td>NaN</td>\n",
       "      <td>NaN</td>\n",
       "      <td>https://twitter.com/dog_rates/status/666407126...</td>\n",
       "      <td>7</td>\n",
       "      <td>10</td>\n",
       "      <td>a</td>\n",
       "      <td>None</td>\n",
       "      <td>None</td>\n",
       "      <td>None</td>\n",
       "      <td>None</td>\n",
       "    </tr>\n",
       "    <tr>\n",
       "      <th>940</th>\n",
       "      <td>753026973505581056</td>\n",
       "      <td>NaN</td>\n",
       "      <td>NaN</td>\n",
       "      <td>2016-07-13 00:43:15 +0000</td>\n",
       "      <td>&lt;a href=\"http://twitter.com/download/iphone\" r...</td>\n",
       "      <td>Say hello to Tayzie. She's a Barbadian Bugaboo...</td>\n",
       "      <td>NaN</td>\n",
       "      <td>NaN</td>\n",
       "      <td>NaN</td>\n",
       "      <td>https://twitter.com/dog_rates/status/753026973...</td>\n",
       "      <td>10</td>\n",
       "      <td>10</td>\n",
       "      <td>Tayzie</td>\n",
       "      <td>None</td>\n",
       "      <td>None</td>\n",
       "      <td>None</td>\n",
       "      <td>None</td>\n",
       "    </tr>\n",
       "    <tr>\n",
       "      <th>1377</th>\n",
       "      <td>701601587219795968</td>\n",
       "      <td>NaN</td>\n",
       "      <td>NaN</td>\n",
       "      <td>2016-02-22 02:57:08 +0000</td>\n",
       "      <td>&lt;a href=\"http://twitter.com/download/iphone\" r...</td>\n",
       "      <td>This is Coopson. He's a Blingin Schnitzel. Bui...</td>\n",
       "      <td>NaN</td>\n",
       "      <td>NaN</td>\n",
       "      <td>NaN</td>\n",
       "      <td>https://twitter.com/dog_rates/status/701601587...</td>\n",
       "      <td>10</td>\n",
       "      <td>10</td>\n",
       "      <td>Coopson</td>\n",
       "      <td>None</td>\n",
       "      <td>None</td>\n",
       "      <td>None</td>\n",
       "      <td>None</td>\n",
       "    </tr>\n",
       "    <tr>\n",
       "      <th>2131</th>\n",
       "      <td>670086499208155136</td>\n",
       "      <td>NaN</td>\n",
       "      <td>NaN</td>\n",
       "      <td>2015-11-27 03:47:25 +0000</td>\n",
       "      <td>&lt;a href=\"http://twitter.com/download/iphone\" r...</td>\n",
       "      <td>\"Hi yes this is dog. I can't help with that s-...</td>\n",
       "      <td>NaN</td>\n",
       "      <td>NaN</td>\n",
       "      <td>NaN</td>\n",
       "      <td>https://twitter.com/dog_rates/status/670086499...</td>\n",
       "      <td>10</td>\n",
       "      <td>10</td>\n",
       "      <td>None</td>\n",
       "      <td>None</td>\n",
       "      <td>None</td>\n",
       "      <td>None</td>\n",
       "      <td>None</td>\n",
       "    </tr>\n",
       "    <tr>\n",
       "      <th>475</th>\n",
       "      <td>816062466425819140</td>\n",
       "      <td>NaN</td>\n",
       "      <td>NaN</td>\n",
       "      <td>2017-01-02 23:23:48 +0000</td>\n",
       "      <td>&lt;a href=\"http://twitter.com/download/iphone\" r...</td>\n",
       "      <td>RT @dog_rates: Meet Jack. He's one of the rare...</td>\n",
       "      <td>8.159907e+17</td>\n",
       "      <td>4.196984e+09</td>\n",
       "      <td>2017-01-02 18:38:42 +0000</td>\n",
       "      <td>https://www.gofundme.com/surgeryforjacktheminp...</td>\n",
       "      <td>11</td>\n",
       "      <td>10</td>\n",
       "      <td>Jack</td>\n",
       "      <td>None</td>\n",
       "      <td>None</td>\n",
       "      <td>None</td>\n",
       "      <td>None</td>\n",
       "    </tr>\n",
       "  </tbody>\n",
       "</table>\n",
       "</div>"
      ],
      "text/plain": [
       "                tweet_id  in_reply_to_status_id  in_reply_to_user_id  \\\n",
       "2327  666407126856765440                    NaN                  NaN   \n",
       "940   753026973505581056                    NaN                  NaN   \n",
       "1377  701601587219795968                    NaN                  NaN   \n",
       "2131  670086499208155136                    NaN                  NaN   \n",
       "475   816062466425819140                    NaN                  NaN   \n",
       "\n",
       "                      timestamp  \\\n",
       "2327  2015-11-17 00:06:54 +0000   \n",
       "940   2016-07-13 00:43:15 +0000   \n",
       "1377  2016-02-22 02:57:08 +0000   \n",
       "2131  2015-11-27 03:47:25 +0000   \n",
       "475   2017-01-02 23:23:48 +0000   \n",
       "\n",
       "                                                 source  \\\n",
       "2327  <a href=\"http://twitter.com/download/iphone\" r...   \n",
       "940   <a href=\"http://twitter.com/download/iphone\" r...   \n",
       "1377  <a href=\"http://twitter.com/download/iphone\" r...   \n",
       "2131  <a href=\"http://twitter.com/download/iphone\" r...   \n",
       "475   <a href=\"http://twitter.com/download/iphone\" r...   \n",
       "\n",
       "                                                   text  retweeted_status_id  \\\n",
       "2327  This is a southern Vesuvius bumblegruff. Can d...                  NaN   \n",
       "940   Say hello to Tayzie. She's a Barbadian Bugaboo...                  NaN   \n",
       "1377  This is Coopson. He's a Blingin Schnitzel. Bui...                  NaN   \n",
       "2131  \"Hi yes this is dog. I can't help with that s-...                  NaN   \n",
       "475   RT @dog_rates: Meet Jack. He's one of the rare...         8.159907e+17   \n",
       "\n",
       "      retweeted_status_user_id retweeted_status_timestamp  \\\n",
       "2327                       NaN                        NaN   \n",
       "940                        NaN                        NaN   \n",
       "1377                       NaN                        NaN   \n",
       "2131                       NaN                        NaN   \n",
       "475               4.196984e+09  2017-01-02 18:38:42 +0000   \n",
       "\n",
       "                                          expanded_urls  rating_numerator  \\\n",
       "2327  https://twitter.com/dog_rates/status/666407126...                 7   \n",
       "940   https://twitter.com/dog_rates/status/753026973...                10   \n",
       "1377  https://twitter.com/dog_rates/status/701601587...                10   \n",
       "2131  https://twitter.com/dog_rates/status/670086499...                10   \n",
       "475   https://www.gofundme.com/surgeryforjacktheminp...                11   \n",
       "\n",
       "      rating_denominator     name doggo floofer pupper puppo  \n",
       "2327                  10        a  None    None   None  None  \n",
       "940                   10   Tayzie  None    None   None  None  \n",
       "1377                  10  Coopson  None    None   None  None  \n",
       "2131                  10     None  None    None   None  None  \n",
       "475                   10     Jack  None    None   None  None  "
      ]
     },
     "execution_count": 8,
     "metadata": {},
     "output_type": "execute_result"
    }
   ],
   "source": [
    "df_archive.sample(5)"
   ]
  },
  {
   "cell_type": "code",
   "execution_count": 9,
   "metadata": {},
   "outputs": [
    {
     "data": {
      "text/plain": [
       "0"
      ]
     },
     "execution_count": 9,
     "metadata": {},
     "output_type": "execute_result"
    }
   ],
   "source": [
    "# check for duplicated entries\n",
    "sum(df_archive['tweet_id'].duplicated())"
   ]
  },
  {
   "cell_type": "markdown",
   "metadata": {},
   "source": [
    "It si clear that we have 181 tweets that are retweets and 78 tweets that are replies. That means these are not original tweets and will need to be filtered out."
   ]
  },
  {
   "cell_type": "markdown",
   "metadata": {},
   "source": [
    "Next, we start exploring the ratings data."
   ]
  },
  {
   "cell_type": "code",
   "execution_count": 10,
   "metadata": {
    "hide_input": false
   },
   "outputs": [
    {
     "data": {
      "text/plain": [
       "Int64Index([10, 11, 50, 80, 20, 2, 16, 40, 70, 15, 90, 110, 120, 130, 150, 170,\n",
       "            7, 0],\n",
       "           dtype='int64')"
      ]
     },
     "execution_count": 10,
     "metadata": {},
     "output_type": "execute_result"
    }
   ],
   "source": [
    "df_archive['rating_denominator'].value_counts().keys()"
   ]
  },
  {
   "cell_type": "code",
   "execution_count": 11,
   "metadata": {
    "hide_input": true,
    "scrolled": false
   },
   "outputs": [
    {
     "data": {
      "text/html": [
       "<div>\n",
       "<style scoped>\n",
       "    .dataframe tbody tr th:only-of-type {\n",
       "        vertical-align: middle;\n",
       "    }\n",
       "\n",
       "    .dataframe tbody tr th {\n",
       "        vertical-align: top;\n",
       "    }\n",
       "\n",
       "    .dataframe thead th {\n",
       "        text-align: right;\n",
       "    }\n",
       "</style>\n",
       "<table border=\"1\" class=\"dataframe\">\n",
       "  <thead>\n",
       "    <tr style=\"text-align: right;\">\n",
       "      <th></th>\n",
       "      <th>tweet_id</th>\n",
       "      <th>in_reply_to_status_id</th>\n",
       "      <th>in_reply_to_user_id</th>\n",
       "      <th>timestamp</th>\n",
       "      <th>source</th>\n",
       "      <th>text</th>\n",
       "      <th>retweeted_status_id</th>\n",
       "      <th>retweeted_status_user_id</th>\n",
       "      <th>retweeted_status_timestamp</th>\n",
       "      <th>expanded_urls</th>\n",
       "      <th>rating_numerator</th>\n",
       "      <th>rating_denominator</th>\n",
       "      <th>name</th>\n",
       "      <th>doggo</th>\n",
       "      <th>floofer</th>\n",
       "      <th>pupper</th>\n",
       "      <th>puppo</th>\n",
       "    </tr>\n",
       "  </thead>\n",
       "  <tbody>\n",
       "    <tr>\n",
       "      <th>1663</th>\n",
       "      <td>682808988178739200</td>\n",
       "      <td>6.827884e+17</td>\n",
       "      <td>4.196984e+09</td>\n",
       "      <td>2016-01-01 06:22:03 +0000</td>\n",
       "      <td>&lt;a href=\"http://twitter.com/download/iphone\" r...</td>\n",
       "      <td>I'm aware that I could've said 20/16, but here...</td>\n",
       "      <td>NaN</td>\n",
       "      <td>NaN</td>\n",
       "      <td>NaN</td>\n",
       "      <td>NaN</td>\n",
       "      <td>20</td>\n",
       "      <td>16</td>\n",
       "      <td>None</td>\n",
       "      <td>None</td>\n",
       "      <td>None</td>\n",
       "      <td>None</td>\n",
       "      <td>None</td>\n",
       "    </tr>\n",
       "    <tr>\n",
       "      <th>1254</th>\n",
       "      <td>710658690886586372</td>\n",
       "      <td>NaN</td>\n",
       "      <td>NaN</td>\n",
       "      <td>2016-03-18 02:46:49 +0000</td>\n",
       "      <td>&lt;a href=\"http://twitter.com/download/iphone\" r...</td>\n",
       "      <td>Here's a brigade of puppers. All look very pre...</td>\n",
       "      <td>NaN</td>\n",
       "      <td>NaN</td>\n",
       "      <td>NaN</td>\n",
       "      <td>https://twitter.com/dog_rates/status/710658690...</td>\n",
       "      <td>80</td>\n",
       "      <td>80</td>\n",
       "      <td>None</td>\n",
       "      <td>None</td>\n",
       "      <td>None</td>\n",
       "      <td>None</td>\n",
       "      <td>None</td>\n",
       "    </tr>\n",
       "    <tr>\n",
       "      <th>1598</th>\n",
       "      <td>686035780142297088</td>\n",
       "      <td>6.860340e+17</td>\n",
       "      <td>4.196984e+09</td>\n",
       "      <td>2016-01-10 04:04:10 +0000</td>\n",
       "      <td>&lt;a href=\"http://twitter.com/download/iphone\" r...</td>\n",
       "      <td>Yes I do realize a rating of 4/20 would've bee...</td>\n",
       "      <td>NaN</td>\n",
       "      <td>NaN</td>\n",
       "      <td>NaN</td>\n",
       "      <td>NaN</td>\n",
       "      <td>4</td>\n",
       "      <td>20</td>\n",
       "      <td>None</td>\n",
       "      <td>None</td>\n",
       "      <td>None</td>\n",
       "      <td>None</td>\n",
       "      <td>None</td>\n",
       "    </tr>\n",
       "  </tbody>\n",
       "</table>\n",
       "</div>"
      ],
      "text/plain": [
       "                tweet_id  in_reply_to_status_id  in_reply_to_user_id  \\\n",
       "1663  682808988178739200           6.827884e+17         4.196984e+09   \n",
       "1254  710658690886586372                    NaN                  NaN   \n",
       "1598  686035780142297088           6.860340e+17         4.196984e+09   \n",
       "\n",
       "                      timestamp  \\\n",
       "1663  2016-01-01 06:22:03 +0000   \n",
       "1254  2016-03-18 02:46:49 +0000   \n",
       "1598  2016-01-10 04:04:10 +0000   \n",
       "\n",
       "                                                 source  \\\n",
       "1663  <a href=\"http://twitter.com/download/iphone\" r...   \n",
       "1254  <a href=\"http://twitter.com/download/iphone\" r...   \n",
       "1598  <a href=\"http://twitter.com/download/iphone\" r...   \n",
       "\n",
       "                                                   text  retweeted_status_id  \\\n",
       "1663  I'm aware that I could've said 20/16, but here...                  NaN   \n",
       "1254  Here's a brigade of puppers. All look very pre...                  NaN   \n",
       "1598  Yes I do realize a rating of 4/20 would've bee...                  NaN   \n",
       "\n",
       "      retweeted_status_user_id retweeted_status_timestamp  \\\n",
       "1663                       NaN                        NaN   \n",
       "1254                       NaN                        NaN   \n",
       "1598                       NaN                        NaN   \n",
       "\n",
       "                                          expanded_urls  rating_numerator  \\\n",
       "1663                                                NaN                20   \n",
       "1254  https://twitter.com/dog_rates/status/710658690...                80   \n",
       "1598                                                NaN                 4   \n",
       "\n",
       "      rating_denominator  name doggo floofer pupper puppo  \n",
       "1663                  16  None  None    None   None  None  \n",
       "1254                  80  None  None    None   None  None  \n",
       "1598                  20  None  None    None   None  None  "
      ]
     },
     "execution_count": 11,
     "metadata": {},
     "output_type": "execute_result"
    }
   ],
   "source": [
    "df_archive[df_archive['rating_denominator'] != 10].sample(3)"
   ]
  },
  {
   "cell_type": "code",
   "execution_count": 12,
   "metadata": {
    "collapsed": true,
    "hide_input": false
   },
   "outputs": [
    {
     "data": {
      "text/plain": [
       "12      558\n",
       "11      464\n",
       "10      461\n",
       "13      351\n",
       "9       158\n",
       "8       102\n",
       "7        55\n",
       "14       54\n",
       "5        37\n",
       "6        32\n",
       "3        19\n",
       "4        17\n",
       "1         9\n",
       "2         9\n",
       "420       2\n",
       "0         2\n",
       "15        2\n",
       "75        2\n",
       "80        1\n",
       "20        1\n",
       "24        1\n",
       "26        1\n",
       "44        1\n",
       "50        1\n",
       "60        1\n",
       "165       1\n",
       "84        1\n",
       "88        1\n",
       "144       1\n",
       "182       1\n",
       "143       1\n",
       "666       1\n",
       "960       1\n",
       "1776      1\n",
       "17        1\n",
       "27        1\n",
       "45        1\n",
       "99        1\n",
       "121       1\n",
       "204       1\n",
       "Name: rating_numerator, dtype: int64"
      ]
     },
     "execution_count": 12,
     "metadata": {},
     "output_type": "execute_result"
    }
   ],
   "source": [
    "df_archive['rating_numerator'].value_counts()"
   ]
  },
  {
   "cell_type": "markdown",
   "metadata": {},
   "source": [
    "The rating denominator was not always equal to 10 and also the rating numerator had some inconsistent values either too small or too large. After examining the data set by filtering the illogical and exploring both their text and their images, it was deduced that the reasons for the issues in these ratings were:\n",
    "- The ratings of pack of dogs is added together making the denominator multiples of 10.\n",
    "- The extraction process assumed that '/' character only appears once in the text and that it always indicates rating which was found not to be true.\n"
   ]
  },
  {
   "cell_type": "markdown",
   "metadata": {},
   "source": [
    "Next we begin exploring the 'name' column as it was noticed from the visual assessment that it contained some words that are not considered to be actual names. "
   ]
  },
  {
   "cell_type": "code",
   "execution_count": 13,
   "metadata": {
    "collapsed": true,
    "hide_input": false
   },
   "outputs": [
    {
     "data": {
      "text/plain": [
       "None           745\n",
       "a               55\n",
       "Charlie         12\n",
       "Cooper          11\n",
       "Oliver          11\n",
       "              ... \n",
       "Gunner           1\n",
       "Sully            1\n",
       "Rodney           1\n",
       "Brownie          1\n",
       "Shakespeare      1\n",
       "Name: name, Length: 957, dtype: int64"
      ]
     },
     "execution_count": 13,
     "metadata": {},
     "output_type": "execute_result"
    }
   ],
   "source": [
    "df_archive['name'].value_counts()"
   ]
  },
  {
   "cell_type": "code",
   "execution_count": 14,
   "metadata": {
    "hide_input": false,
    "scrolled": false
   },
   "outputs": [
    {
     "name": "stdout",
     "output_type": "stream",
     "text": [
      "['a', 'the', 'an', 'very', 'one', 'just', 'quite', 'actually', 'getting', 'mad', 'not', 'unacceptable', 'incredibly', 'all', 'this', 'my', 'infuriating', 'light', 'life', 'old', 'such', 'space', 'by', 'his', 'O', 'officially']\n"
     ]
    }
   ],
   "source": [
    "names = df_archive['name'].value_counts().keys()\n",
    "not_names = []\n",
    "\n",
    "for name in names:\n",
    "    if name.islower() or len(name) < 2:\n",
    "        not_names.append(name)\n",
    "print(not_names)"
   ]
  },
  {
   "cell_type": "markdown",
   "metadata": {},
   "source": [
    "The name column has a lot of missing values that are indicated as \"None\" in a string format.\n",
    "Also, it contained a lot of words that should not be considered names. that probably happened because the extraction process assumed that names only and must come after the words \"this is\" which is not always true. "
   ]
  },
  {
   "cell_type": "markdown",
   "metadata": {},
   "source": [
    "According to the *Dogtionary*, doggo, floofer, pupper and puppo are all dog stages. We have to explore these columns together to get better insight about the data."
   ]
  },
  {
   "cell_type": "code",
   "execution_count": 15,
   "metadata": {
    "hide_input": false,
    "scrolled": false
   },
   "outputs": [
    {
     "data": {
      "text/plain": [
       "doggo  floofer  pupper  puppo\n",
       "None   None     None    None     1976\n",
       "                pupper  None      245\n",
       "doggo  None     None    None       83\n",
       "None   None     None    puppo      29\n",
       "doggo  None     pupper  None       12\n",
       "None   floofer  None    None        9\n",
       "doggo  floofer  None    None        1\n",
       "       None     None    puppo       1\n",
       "dtype: int64"
      ]
     },
     "execution_count": 15,
     "metadata": {},
     "output_type": "execute_result"
    }
   ],
   "source": [
    "df_archive[['doggo','floofer','pupper','puppo']].value_counts()"
   ]
  },
  {
   "cell_type": "markdown",
   "metadata": {},
   "source": [
    "- The dog stages columns ('doggo', 'flooofer', 'pupper', 'puppo') are values and not variables. They all represent different dog stages. They should be one column instead.\n",
    "- Some entries has more than one dog stage:\n",
    "    - 12 entry has both doggo and pupper.\n",
    "    - 1 entry has both doggo and floofer.\n",
    "- Missing values are written as \"None\" in a string format instead on nulls."
   ]
  },
  {
   "cell_type": "code",
   "execution_count": 16,
   "metadata": {
    "hide_input": true,
    "scrolled": true
   },
   "outputs": [
    {
     "data": {
      "text/plain": [
       "<a href=\"http://twitter.com/download/iphone\" rel=\"nofollow\">Twitter for iPhone</a>     2221\n",
       "<a href=\"http://vine.co\" rel=\"nofollow\">Vine - Make a Scene</a>                          91\n",
       "<a href=\"http://twitter.com\" rel=\"nofollow\">Twitter Web Client</a>                       33\n",
       "<a href=\"https://about.twitter.com/products/tweetdeck\" rel=\"nofollow\">TweetDeck</a>      11\n",
       "Name: source, dtype: int64"
      ]
     },
     "execution_count": 16,
     "metadata": {},
     "output_type": "execute_result"
    }
   ],
   "source": [
    "df_archive['source'].value_counts()"
   ]
  },
  {
   "cell_type": "markdown",
   "metadata": {},
   "source": [
    "The 'source' column contains the whole HTML 'a' tag while the source is only the inner text of the tag."
   ]
  },
  {
   "cell_type": "markdown",
   "metadata": {},
   "source": [
    "## 2.2 Tweet Image Predictions"
   ]
  },
  {
   "cell_type": "code",
   "execution_count": 17,
   "metadata": {
    "hide_input": true,
    "scrolled": false
   },
   "outputs": [
    {
     "data": {
      "text/html": [
       "<div>\n",
       "<style scoped>\n",
       "    .dataframe tbody tr th:only-of-type {\n",
       "        vertical-align: middle;\n",
       "    }\n",
       "\n",
       "    .dataframe tbody tr th {\n",
       "        vertical-align: top;\n",
       "    }\n",
       "\n",
       "    .dataframe thead th {\n",
       "        text-align: right;\n",
       "    }\n",
       "</style>\n",
       "<table border=\"1\" class=\"dataframe\">\n",
       "  <thead>\n",
       "    <tr style=\"text-align: right;\">\n",
       "      <th></th>\n",
       "      <th>tweet_id</th>\n",
       "      <th>jpg_url</th>\n",
       "      <th>img_num</th>\n",
       "      <th>p1</th>\n",
       "      <th>p1_conf</th>\n",
       "      <th>p1_dog</th>\n",
       "      <th>p2</th>\n",
       "      <th>p2_conf</th>\n",
       "      <th>p2_dog</th>\n",
       "      <th>p3</th>\n",
       "      <th>p3_conf</th>\n",
       "      <th>p3_dog</th>\n",
       "    </tr>\n",
       "  </thead>\n",
       "  <tbody>\n",
       "    <tr>\n",
       "      <th>874</th>\n",
       "      <td>698178924120031232</td>\n",
       "      <td>https://pbs.twimg.com/media/CbBuBhbWwAEGH29.jpg</td>\n",
       "      <td>1</td>\n",
       "      <td>Chesapeake_Bay_retriever</td>\n",
       "      <td>0.351868</td>\n",
       "      <td>True</td>\n",
       "      <td>malinois</td>\n",
       "      <td>0.207753</td>\n",
       "      <td>True</td>\n",
       "      <td>Labrador_retriever</td>\n",
       "      <td>0.154606</td>\n",
       "      <td>True</td>\n",
       "    </tr>\n",
       "    <tr>\n",
       "      <th>1665</th>\n",
       "      <td>812503143955202048</td>\n",
       "      <td>https://pbs.twimg.com/media/C0aXTLqXEAADxBi.jpg</td>\n",
       "      <td>2</td>\n",
       "      <td>loupe</td>\n",
       "      <td>0.546856</td>\n",
       "      <td>False</td>\n",
       "      <td>web_site</td>\n",
       "      <td>0.345298</td>\n",
       "      <td>False</td>\n",
       "      <td>bubble</td>\n",
       "      <td>0.010528</td>\n",
       "      <td>False</td>\n",
       "    </tr>\n",
       "    <tr>\n",
       "      <th>329</th>\n",
       "      <td>672082170312290304</td>\n",
       "      <td>https://pbs.twimg.com/media/CVO3KodXAAAj1de.jpg</td>\n",
       "      <td>1</td>\n",
       "      <td>hamster</td>\n",
       "      <td>0.132440</td>\n",
       "      <td>False</td>\n",
       "      <td>toy_poodle</td>\n",
       "      <td>0.123962</td>\n",
       "      <td>True</td>\n",
       "      <td>bubble</td>\n",
       "      <td>0.056212</td>\n",
       "      <td>False</td>\n",
       "    </tr>\n",
       "    <tr>\n",
       "      <th>1653</th>\n",
       "      <td>809920764300447744</td>\n",
       "      <td>https://pbs.twimg.com/media/Cz1qo05XUAQ4qXp.jpg</td>\n",
       "      <td>1</td>\n",
       "      <td>Norwich_terrier</td>\n",
       "      <td>0.397163</td>\n",
       "      <td>True</td>\n",
       "      <td>toy_poodle</td>\n",
       "      <td>0.274540</td>\n",
       "      <td>True</td>\n",
       "      <td>miniature_poodle</td>\n",
       "      <td>0.134667</td>\n",
       "      <td>True</td>\n",
       "    </tr>\n",
       "    <tr>\n",
       "      <th>489</th>\n",
       "      <td>675522403582218240</td>\n",
       "      <td>https://pbs.twimg.com/media/CV_wCh8W4AEWWZ9.jpg</td>\n",
       "      <td>1</td>\n",
       "      <td>cocker_spaniel</td>\n",
       "      <td>0.299708</td>\n",
       "      <td>True</td>\n",
       "      <td>golden_retriever</td>\n",
       "      <td>0.263665</td>\n",
       "      <td>True</td>\n",
       "      <td>Irish_setter</td>\n",
       "      <td>0.080323</td>\n",
       "      <td>True</td>\n",
       "    </tr>\n",
       "  </tbody>\n",
       "</table>\n",
       "</div>"
      ],
      "text/plain": [
       "                tweet_id                                          jpg_url  \\\n",
       "874   698178924120031232  https://pbs.twimg.com/media/CbBuBhbWwAEGH29.jpg   \n",
       "1665  812503143955202048  https://pbs.twimg.com/media/C0aXTLqXEAADxBi.jpg   \n",
       "329   672082170312290304  https://pbs.twimg.com/media/CVO3KodXAAAj1de.jpg   \n",
       "1653  809920764300447744  https://pbs.twimg.com/media/Cz1qo05XUAQ4qXp.jpg   \n",
       "489   675522403582218240  https://pbs.twimg.com/media/CV_wCh8W4AEWWZ9.jpg   \n",
       "\n",
       "      img_num                        p1   p1_conf  p1_dog                p2  \\\n",
       "874         1  Chesapeake_Bay_retriever  0.351868    True          malinois   \n",
       "1665        2                     loupe  0.546856   False          web_site   \n",
       "329         1                   hamster  0.132440   False        toy_poodle   \n",
       "1653        1           Norwich_terrier  0.397163    True        toy_poodle   \n",
       "489         1            cocker_spaniel  0.299708    True  golden_retriever   \n",
       "\n",
       "       p2_conf  p2_dog                  p3   p3_conf  p3_dog  \n",
       "874   0.207753    True  Labrador_retriever  0.154606    True  \n",
       "1665  0.345298   False              bubble  0.010528   False  \n",
       "329   0.123962    True              bubble  0.056212   False  \n",
       "1653  0.274540    True    miniature_poodle  0.134667    True  \n",
       "489   0.263665    True        Irish_setter  0.080323    True  "
      ]
     },
     "execution_count": 17,
     "metadata": {},
     "output_type": "execute_result"
    }
   ],
   "source": [
    "df_pred.sample(5)"
   ]
  },
  {
   "cell_type": "code",
   "execution_count": 18,
   "metadata": {
    "hide_input": true
   },
   "outputs": [
    {
     "data": {
      "text/plain": [
       "0"
      ]
     },
     "execution_count": 18,
     "metadata": {},
     "output_type": "execute_result"
    }
   ],
   "source": [
    "sum(df_pred['tweet_id'].duplicated())"
   ]
  },
  {
   "cell_type": "code",
   "execution_count": 19,
   "metadata": {
    "hide_input": false
   },
   "outputs": [
    {
     "name": "stdout",
     "output_type": "stream",
     "text": [
      "<class 'pandas.core.frame.DataFrame'>\n",
      "RangeIndex: 2075 entries, 0 to 2074\n",
      "Data columns (total 12 columns):\n",
      " #   Column    Non-Null Count  Dtype  \n",
      "---  ------    --------------  -----  \n",
      " 0   tweet_id  2075 non-null   int64  \n",
      " 1   jpg_url   2075 non-null   object \n",
      " 2   img_num   2075 non-null   int64  \n",
      " 3   p1        2075 non-null   object \n",
      " 4   p1_conf   2075 non-null   float64\n",
      " 5   p1_dog    2075 non-null   bool   \n",
      " 6   p2        2075 non-null   object \n",
      " 7   p2_conf   2075 non-null   float64\n",
      " 8   p2_dog    2075 non-null   bool   \n",
      " 9   p3        2075 non-null   object \n",
      " 10  p3_conf   2075 non-null   float64\n",
      " 11  p3_dog    2075 non-null   bool   \n",
      "dtypes: bool(3), float64(3), int64(2), object(4)\n",
      "memory usage: 152.1+ KB\n"
     ]
    }
   ],
   "source": [
    "df_pred.info()"
   ]
  },
  {
   "cell_type": "code",
   "execution_count": 20,
   "metadata": {
    "hide_input": false,
    "scrolled": true
   },
   "outputs": [
    {
     "data": {
      "text/plain": [
       "1    1780\n",
       "2     198\n",
       "3      66\n",
       "4      31\n",
       "Name: img_num, dtype: int64"
      ]
     },
     "execution_count": 20,
     "metadata": {},
     "output_type": "execute_result"
    }
   ],
   "source": [
    "df_pred['img_num'].value_counts()"
   ]
  },
  {
   "cell_type": "markdown",
   "metadata": {},
   "source": [
    "- prediction levels are separated in different columns while they actually all represent one variable \"prediction_level\" \n",
    "- Even though some tweets have more than one image but no duplicates were found. That means that even though tweets might contain multiple images, we only have one image per tweet for prediction."
   ]
  },
  {
   "cell_type": "markdown",
   "metadata": {},
   "source": [
    "## 2.3 Twitter API"
   ]
  },
  {
   "cell_type": "code",
   "execution_count": 21,
   "metadata": {},
   "outputs": [
    {
     "data": {
      "text/html": [
       "<div>\n",
       "<style scoped>\n",
       "    .dataframe tbody tr th:only-of-type {\n",
       "        vertical-align: middle;\n",
       "    }\n",
       "\n",
       "    .dataframe tbody tr th {\n",
       "        vertical-align: top;\n",
       "    }\n",
       "\n",
       "    .dataframe thead th {\n",
       "        text-align: right;\n",
       "    }\n",
       "</style>\n",
       "<table border=\"1\" class=\"dataframe\">\n",
       "  <thead>\n",
       "    <tr style=\"text-align: right;\">\n",
       "      <th></th>\n",
       "      <th>tweet_id</th>\n",
       "      <th>retweet_count</th>\n",
       "      <th>favorite_count</th>\n",
       "    </tr>\n",
       "  </thead>\n",
       "  <tbody>\n",
       "    <tr>\n",
       "      <th>0</th>\n",
       "      <td>892420643555336193</td>\n",
       "      <td>7461</td>\n",
       "      <td>35352</td>\n",
       "    </tr>\n",
       "    <tr>\n",
       "      <th>1</th>\n",
       "      <td>892177421306343426</td>\n",
       "      <td>5537</td>\n",
       "      <td>30593</td>\n",
       "    </tr>\n",
       "    <tr>\n",
       "      <th>2</th>\n",
       "      <td>891815181378084864</td>\n",
       "      <td>3664</td>\n",
       "      <td>23025</td>\n",
       "    </tr>\n",
       "    <tr>\n",
       "      <th>3</th>\n",
       "      <td>891689557279858688</td>\n",
       "      <td>7637</td>\n",
       "      <td>38647</td>\n",
       "    </tr>\n",
       "    <tr>\n",
       "      <th>4</th>\n",
       "      <td>891327558926688256</td>\n",
       "      <td>8228</td>\n",
       "      <td>36916</td>\n",
       "    </tr>\n",
       "    <tr>\n",
       "      <th>...</th>\n",
       "      <td>...</td>\n",
       "      <td>...</td>\n",
       "      <td>...</td>\n",
       "    </tr>\n",
       "    <tr>\n",
       "      <th>1527</th>\n",
       "      <td>666049248165822465</td>\n",
       "      <td>39</td>\n",
       "      <td>95</td>\n",
       "    </tr>\n",
       "    <tr>\n",
       "      <th>1528</th>\n",
       "      <td>666044226329800704</td>\n",
       "      <td>124</td>\n",
       "      <td>264</td>\n",
       "    </tr>\n",
       "    <tr>\n",
       "      <th>1529</th>\n",
       "      <td>666033412701032449</td>\n",
       "      <td>39</td>\n",
       "      <td>108</td>\n",
       "    </tr>\n",
       "    <tr>\n",
       "      <th>1530</th>\n",
       "      <td>666029285002620928</td>\n",
       "      <td>41</td>\n",
       "      <td>118</td>\n",
       "    </tr>\n",
       "    <tr>\n",
       "      <th>1531</th>\n",
       "      <td>666020888022790149</td>\n",
       "      <td>448</td>\n",
       "      <td>2356</td>\n",
       "    </tr>\n",
       "  </tbody>\n",
       "</table>\n",
       "<p>1532 rows × 3 columns</p>\n",
       "</div>"
      ],
      "text/plain": [
       "                tweet_id retweet_count favorite_count\n",
       "0     892420643555336193          7461          35352\n",
       "1     892177421306343426          5537          30593\n",
       "2     891815181378084864          3664          23025\n",
       "3     891689557279858688          7637          38647\n",
       "4     891327558926688256          8228          36916\n",
       "...                  ...           ...            ...\n",
       "1527  666049248165822465            39             95\n",
       "1528  666044226329800704           124            264\n",
       "1529  666033412701032449            39            108\n",
       "1530  666029285002620928            41            118\n",
       "1531  666020888022790149           448           2356\n",
       "\n",
       "[1532 rows x 3 columns]"
      ]
     },
     "execution_count": 21,
     "metadata": {},
     "output_type": "execute_result"
    }
   ],
   "source": [
    "df_api"
   ]
  },
  {
   "cell_type": "code",
   "execution_count": 22,
   "metadata": {
    "hide_input": true,
    "scrolled": false
   },
   "outputs": [
    {
     "name": "stdout",
     "output_type": "stream",
     "text": [
      "<class 'pandas.core.frame.DataFrame'>\n",
      "RangeIndex: 1532 entries, 0 to 1531\n",
      "Data columns (total 3 columns):\n",
      " #   Column          Non-Null Count  Dtype \n",
      "---  ------          --------------  ----- \n",
      " 0   tweet_id        1532 non-null   object\n",
      " 1   retweet_count   1532 non-null   object\n",
      " 2   favorite_count  1532 non-null   object\n",
      "dtypes: object(3)\n",
      "memory usage: 36.0+ KB\n"
     ]
    }
   ],
   "source": [
    "df_api.info()"
   ]
  },
  {
   "cell_type": "markdown",
   "metadata": {},
   "source": [
    "- The 'retweet_count' and 'favorite_count' columns have the wrong datatype. \n",
    "- The index column here is the same as the `df_archive` DataFrame and they should be merged together."
   ]
  },
  {
   "cell_type": "markdown",
   "metadata": {},
   "source": [
    "## 2.4 Assessing Output\n",
    "\n",
    "After the data was assessed both visually and programmatically, The following issues were concluded:\n",
    "\n",
    "### Quality\n",
    "\n",
    "#### Completeness: \n",
    "do we have all of the records that we should? Do we have missing records or not? Are there specific rows, columns, or cells missing?\n",
    "\n",
    "`df_archive`\n",
    "- 'expanded_urls' have missing values. that means they don't have image information.\n",
    "\n",
    "`df_api`\n",
    "- The API query failed to retrieve data for 25 tweets because they are either no longer available or access is denied.\n",
    "\n",
    "\n",
    "#### Validity: \n",
    "we have the records, but they're not valid, i.e., they don't conform to a defined schema. A schema is a defined set of rules for data. These rules can be real-world constraints (e.g. negative height is impossible) and table-specific constraints (e.g. unique key constraints in tables).\n",
    "\n",
    "`df_archive`\n",
    "\n",
    "- The 'is_reply_status_id' and 'retweeted_status_id' columns have non null values showing that 181 entries are retweets and 78 entries are replies. i.e; not original retweets.\n",
    "- Also 'expanded_urls' have missing values which means they don't contain images.\n",
    "\n",
    "#### Accuracy: \n",
    "inaccurate data is wrong data that is valid. It adheres to the defined schema, but it is still incorrect. Example: a patient's weight that is 5 lbs too heavy because the scale was faulty.\n",
    "\n",
    "`df_archive`\n",
    "\n",
    "- the 'name' column has some values that are not actual name. such as:  \n",
    "'a', 'the', 'an', 'very', 'one', 'quite', 'just', 'mad', 'actually', 'getting', 'not', 'infuriating', 'space', 'unacceptable', 'his', 'old', 'O', 'life', 'this', 'incredibly', 'such', 'light', 'officially', 'all', 'by', 'my'.\n",
    "- 12 entries have both lables 'doggo' and 'pupper'\n",
    "- 1 entry have both labels 'doggo' and 'floofer\n",
    "\n",
    "#### Consistency: \n",
    "inconsistent data is both valid and accurate, but there are multiple correct ways of referring to the same thing. Consistency, i.e., a standard format, in columns that represent the same data across tables and/or within tables is desired.\n",
    "\n",
    "`df_archive`\n",
    "- not all 'rating_denominator' values are 10.\n",
    "- The 'rating_numerator' column has some very low or very large values.\n",
    "- 'timestamp' and 'retweeted_status_timestamp' column is has type of string. should be datetime.\n",
    "- the 'source' column values are the complete 'a' tag. Should be reduced to only be actual source values:  \n",
    "    iPhone, Vine, Web Client and TweetDeck\n",
    "- The 'name' columns missing values are labeled 'None'.\n",
    "\n",
    "`df_api`\n",
    "- the 'tweet_id', 'retweet_count' and 'favorite_count' are of type string. Should be integers.\n",
    "\n",
    "\n",
    "### Tidiness\n",
    "\n",
    "`df_archive`\n",
    "- The dog stages columns ('doggo', 'flooofer', 'pupper', 'puppo') should be one column instead. Because every column should be a variable not values of the same variable.\n",
    "\n",
    "`df_pred`\n",
    "- Multiple predictions exist in the same row. the don't follow the tidiness rule 'every row is an observation'. Each prediction should be its own row instead.\n",
    "\n",
    "`df_api`\n",
    "- The observation row here is the tweet defined by the 'tweet_id' that is the same as in `df_archive`. The two tables should be one table instead. "
   ]
  },
  {
   "cell_type": "markdown",
   "metadata": {},
   "source": [
    "# 3. Cleaning"
   ]
  },
  {
   "cell_type": "markdown",
   "metadata": {},
   "source": [
    "## 3.1 Twitter Archive"
   ]
  },
  {
   "cell_type": "markdown",
   "metadata": {},
   "source": [
    "We first copy the original DataFrame to a new one to be cleaned."
   ]
  },
  {
   "cell_type": "code",
   "execution_count": 23,
   "metadata": {
    "hide_input": true
   },
   "outputs": [],
   "source": [
    "df_archive_clean = df_archive.copy()"
   ]
  },
  {
   "cell_type": "markdown",
   "metadata": {},
   "source": [
    "#### Define\n",
    "* Convert the 'timestamp' and 'retweeted_status_timestamp' columns from string to datetime using the `pd.to_datetime` function.\n",
    "\n",
    "#### Code"
   ]
  },
  {
   "cell_type": "code",
   "execution_count": 24,
   "metadata": {
    "hide_input": false
   },
   "outputs": [],
   "source": [
    "df_archive_clean['timestamp'] = pd.to_datetime(df_archive_clean['timestamp'])\n",
    "df_archive_clean['retweeted_status_timestamp'] = pd.to_datetime(df_archive_clean['retweeted_status_timestamp'])"
   ]
  },
  {
   "cell_type": "markdown",
   "metadata": {
    "hide_input": true
   },
   "source": [
    "#### Test"
   ]
  },
  {
   "cell_type": "code",
   "execution_count": 25,
   "metadata": {
    "hide_input": false,
    "scrolled": false
   },
   "outputs": [
    {
     "data": {
      "text/plain": [
       "timestamp                     datetime64[ns, UTC]\n",
       "retweeted_status_timestamp    datetime64[ns, UTC]\n",
       "dtype: object"
      ]
     },
     "execution_count": 25,
     "metadata": {},
     "output_type": "execute_result"
    }
   ],
   "source": [
    "# check that the 'timestamp' and 'retweeted_status_timestamp' columns are changed to datetime\n",
    "df_archive_clean[['timestamp','retweeted_status_timestamp']].dtypes"
   ]
  },
  {
   "cell_type": "markdown",
   "metadata": {},
   "source": [
    "#### Define\n",
    "\n",
    "* Remove all tweets that are not orignal tweets, i.e; tweets that are retweets or replies. So, the `df_archive_clean` is filtered to only the rows where the columns 'retweeted_status_id' and 'in_reply_to_status_id' are null values.\n",
    "\n",
    "#### Code"
   ]
  },
  {
   "cell_type": "code",
   "execution_count": 26,
   "metadata": {
    "hide_input": false
   },
   "outputs": [],
   "source": [
    "df_archive_clean = df_archive_clean[df_archive_clean['retweeted_status_id'].isnull()]\n",
    "df_archive_clean = df_archive_clean[df_archive_clean['in_reply_to_status_id'].isnull()]"
   ]
  },
  {
   "cell_type": "markdown",
   "metadata": {},
   "source": [
    "#### Test"
   ]
  },
  {
   "cell_type": "code",
   "execution_count": 27,
   "metadata": {
    "hide_input": false,
    "scrolled": false
   },
   "outputs": [
    {
     "name": "stdout",
     "output_type": "stream",
     "text": [
      "<class 'pandas.core.frame.DataFrame'>\n",
      "Int64Index: 2097 entries, 0 to 2355\n",
      "Data columns (total 17 columns):\n",
      " #   Column                      Non-Null Count  Dtype              \n",
      "---  ------                      --------------  -----              \n",
      " 0   tweet_id                    2097 non-null   int64              \n",
      " 1   in_reply_to_status_id       0 non-null      float64            \n",
      " 2   in_reply_to_user_id         0 non-null      float64            \n",
      " 3   timestamp                   2097 non-null   datetime64[ns, UTC]\n",
      " 4   source                      2097 non-null   object             \n",
      " 5   text                        2097 non-null   object             \n",
      " 6   retweeted_status_id         0 non-null      float64            \n",
      " 7   retweeted_status_user_id    0 non-null      float64            \n",
      " 8   retweeted_status_timestamp  0 non-null      datetime64[ns, UTC]\n",
      " 9   expanded_urls               2094 non-null   object             \n",
      " 10  rating_numerator            2097 non-null   int64              \n",
      " 11  rating_denominator          2097 non-null   int64              \n",
      " 12  name                        2097 non-null   object             \n",
      " 13  doggo                       2097 non-null   object             \n",
      " 14  floofer                     2097 non-null   object             \n",
      " 15  pupper                      2097 non-null   object             \n",
      " 16  puppo                       2097 non-null   object             \n",
      "dtypes: datetime64[ns, UTC](2), float64(4), int64(3), object(8)\n",
      "memory usage: 294.9+ KB\n"
     ]
    }
   ],
   "source": [
    "df_archive_clean.info()"
   ]
  },
  {
   "cell_type": "markdown",
   "metadata": {},
   "source": [
    "#### Define\n",
    "\n",
    "* Remove the rows with empty 'expanded_urls'. These are the tweets that don't have image information.\n",
    "\n",
    "#### Code"
   ]
  },
  {
   "cell_type": "code",
   "execution_count": 28,
   "metadata": {
    "hide_input": false
   },
   "outputs": [],
   "source": [
    "df_archive_clean = df_archive_clean[df_archive_clean['expanded_urls'].notna()]"
   ]
  },
  {
   "cell_type": "markdown",
   "metadata": {},
   "source": [
    "#### Test"
   ]
  },
  {
   "cell_type": "code",
   "execution_count": 29,
   "metadata": {
    "hide_input": false,
    "scrolled": true
   },
   "outputs": [
    {
     "data": {
      "text/plain": [
       "0"
      ]
     },
     "execution_count": 29,
     "metadata": {},
     "output_type": "execute_result"
    }
   ],
   "source": [
    "sum(df_archive_clean['expanded_urls'].isnull())"
   ]
  },
  {
   "cell_type": "markdown",
   "metadata": {},
   "source": [
    "#### Define\n",
    "\n",
    "- Remove the columns 'in_reply_to_status_id', 'in_reply_to_user_id', 'retweeted_status_id', 'retweeted_status_user_id', 'retweeted_status_timestamp' as they are no longer relevant\n",
    "\n",
    "#### Code"
   ]
  },
  {
   "cell_type": "code",
   "execution_count": 30,
   "metadata": {
    "hide_input": false
   },
   "outputs": [],
   "source": [
    "cols = ['in_reply_to_status_id', 'in_reply_to_user_id', 'retweeted_status_id', 'retweeted_status_user_id', 'retweeted_status_timestamp',]\n",
    "\n",
    "df_archive_clean.drop(cols, axis=1, inplace=True)"
   ]
  },
  {
   "cell_type": "markdown",
   "metadata": {},
   "source": [
    "#### Test"
   ]
  },
  {
   "cell_type": "code",
   "execution_count": 31,
   "metadata": {
    "hide_input": false
   },
   "outputs": [
    {
     "data": {
      "text/plain": [
       "Index(['tweet_id', 'timestamp', 'source', 'text', 'expanded_urls',\n",
       "       'rating_numerator', 'rating_denominator', 'name', 'doggo', 'floofer',\n",
       "       'pupper', 'puppo'],\n",
       "      dtype='object')"
      ]
     },
     "execution_count": 31,
     "metadata": {},
     "output_type": "execute_result"
    }
   ],
   "source": [
    "df_archive_clean.columns"
   ]
  },
  {
   "cell_type": "markdown",
   "metadata": {},
   "source": [
    "#### Define\n",
    "\n",
    "* Combine the dog stages columns ('doggo', 'flooofer', 'pupper', 'puppo') should be one column 'dog_stage' instead. This was done by appliyng a custom funcion `dog_stage` to the whole DataFrame that returns the interpreted dog_stage and convert the 'None' string to a null value\n",
    "* for cases where 'doggo' and other value exist. 'doggo' will be chosen as 'doggo' is the older dog and dogs can only grow up. So, 'doggo' will definetly be the more valid value.\n",
    "\n",
    "#### Code"
   ]
  },
  {
   "cell_type": "code",
   "execution_count": 32,
   "metadata": {
    "hide_input": false
   },
   "outputs": [],
   "source": [
    "def dog_stage(row):\n",
    "    \"\"\"\n",
    "    Returns the dog stage based on the values of other columns\n",
    "    \"\"\"\n",
    "    stages = ['doggo','floofer','pupper','puppo']\n",
    "    for stage in stages:\n",
    "        if row[stage].lower().strip() == stage:\n",
    "            return stage\n",
    "    return np.NaN\n",
    "\n",
    "df_archive_clean['dog_stage'] = df_archive_clean.apply(lambda x: dog_stage(x), axis=1)"
   ]
  },
  {
   "cell_type": "markdown",
   "metadata": {},
   "source": [
    "#### Test"
   ]
  },
  {
   "cell_type": "code",
   "execution_count": 33,
   "metadata": {
    "hide_input": false,
    "scrolled": false
   },
   "outputs": [
    {
     "data": {
      "text/plain": [
       "NaN        1759\n",
       "pupper      220\n",
       "doggo        83\n",
       "puppo        23\n",
       "floofer       9\n",
       "Name: dog_stage, dtype: int64"
      ]
     },
     "execution_count": 33,
     "metadata": {},
     "output_type": "execute_result"
    }
   ],
   "source": [
    "df_archive_clean['dog_stage'].value_counts(dropna=False)"
   ]
  },
  {
   "cell_type": "markdown",
   "metadata": {},
   "source": [
    "#### Define\n",
    "\n",
    "* Remove the  columns ('doggo', 'floofer', 'pupper', 'puppo') as they are no longer relevant and now combined into one column `dog_stage`\n",
    "\n",
    "#### Code"
   ]
  },
  {
   "cell_type": "code",
   "execution_count": 34,
   "metadata": {
    "hide_input": false
   },
   "outputs": [],
   "source": [
    "cols = ['doggo', 'floofer', 'pupper', 'puppo']\n",
    "\n",
    "df_archive_clean.drop(cols, axis=1, inplace=True)"
   ]
  },
  {
   "cell_type": "markdown",
   "metadata": {},
   "source": [
    "#### Test"
   ]
  },
  {
   "cell_type": "code",
   "execution_count": 35,
   "metadata": {
    "hide_input": false
   },
   "outputs": [
    {
     "data": {
      "text/plain": [
       "Index(['tweet_id', 'timestamp', 'source', 'text', 'expanded_urls',\n",
       "       'rating_numerator', 'rating_denominator', 'name', 'dog_stage'],\n",
       "      dtype='object')"
      ]
     },
     "execution_count": 35,
     "metadata": {},
     "output_type": "execute_result"
    }
   ],
   "source": [
    "df_archive_clean.columns"
   ]
  },
  {
   "cell_type": "markdown",
   "metadata": {},
   "source": [
    "#### Define\n",
    "\n",
    "- Fixing the 'rating_numerator' and 'rating_denominator' columns by addressing the possible error causes:\n",
    "    - for the pack of dogs, the raing denominator is usually a multiple of 10. if that's the case, a factor is calculated to return the rating back to the base of 10.\n",
    "    - for the errors in extractions of data when the text sontains more than one '/' character. The text is searched using regex for a valid rating with a denominator of 10 and then the rating numerator and denominator are extracted as a result.\n",
    "    - if there's only one '/' character in the text, a base rating is assumed of 10/10.\n",
    "    - for the decimal point ratings, the integer value before the decimal point is extracted and considered as the valid rating numerator.\n",
    "    - only two teets were left with exceptional high scores. They were not changes as they were valid ratings. One for a real dog and another for the famous artist \"Snoop Dog\". \n",
    "\n",
    "#### Code"
   ]
  },
  {
   "cell_type": "code",
   "execution_count": 36,
   "metadata": {
    "hide_input": false,
    "scrolled": true
   },
   "outputs": [],
   "source": [
    "def fix_rating(row):\n",
    "    \"\"\"\n",
    "    Returns the dataframe row but with fixed rating numerator and denominator\n",
    "    \"\"\"\n",
    "    if row['rating_denominator'] != 10:\n",
    "        if row['rating_denominator'] % 10 ==0:\n",
    "            num = row['rating_denominator']/10\n",
    "            row['rating_numerator']=int(row['rating_numerator']/num)\n",
    "            row['rating_denominator'] = 10\n",
    "        else:\n",
    "            prog = re.compile('../..')\n",
    "            results = re.findall(prog, row['text'])\n",
    "            for result in results:\n",
    "                if result[-2:] == '10':\n",
    "                    row['rating_numerator']= int(result[:2])\n",
    "                    row['rating_denominator'] = 10\n",
    "                    results.remove(result)\n",
    "            if len(results):\n",
    "                row['rating_numerator']= 10\n",
    "                row['rating_denominator'] = 10\n",
    "                \n",
    "    else:\n",
    "        prog = re.compile('\\d*\\.\\d*/10')\n",
    "        results = re.findall(prog, row['text'])\n",
    "        for result in results:\n",
    "            if result[-2:] == '10':\n",
    "                try:\n",
    "                    row['rating_numerator'] = int(result.split('.')[0].strip())\n",
    "                except:\n",
    "                    row['rating_numerator'] = 10\n",
    "        \n",
    "    \n",
    "    return row\n",
    "\n",
    "    \n",
    "df_archive_clean = df_archive_clean.apply(lambda x: fix_rating(x), axis=1)"
   ]
  },
  {
   "cell_type": "markdown",
   "metadata": {},
   "source": [
    "#### Test"
   ]
  },
  {
   "cell_type": "code",
   "execution_count": 37,
   "metadata": {
    "hide_input": false
   },
   "outputs": [
    {
     "data": {
      "text/plain": [
       "10    2094\n",
       "Name: rating_denominator, dtype: int64"
      ]
     },
     "execution_count": 37,
     "metadata": {},
     "output_type": "execute_result"
    }
   ],
   "source": [
    "df_archive_clean['rating_denominator'].value_counts()"
   ]
  },
  {
   "cell_type": "code",
   "execution_count": 38,
   "metadata": {
    "hide_input": true
   },
   "outputs": [
    {
     "data": {
      "text/plain": [
       "12      487\n",
       "10      451\n",
       "11      416\n",
       "13      287\n",
       "9       151\n",
       "8        97\n",
       "7        51\n",
       "14       38\n",
       "5        33\n",
       "6        32\n",
       "3        19\n",
       "4        15\n",
       "2        10\n",
       "1         4\n",
       "420       1\n",
       "1776      1\n",
       "0         1\n",
       "Name: rating_numerator, dtype: int64"
      ]
     },
     "execution_count": 38,
     "metadata": {},
     "output_type": "execute_result"
    }
   ],
   "source": [
    "df_archive_clean['rating_numerator'].value_counts()"
   ]
  },
  {
   "cell_type": "markdown",
   "metadata": {
    "hide_input": true
   },
   "source": [
    "#### Define\n",
    "\n",
    "- The 'name' column is fixed by applying a custom function `fix_name` that tries to find other possibe names in the tweet's text. If no possible name was found in the text the name value is set to null.\n",
    "\n",
    "#### Code"
   ]
  },
  {
   "cell_type": "code",
   "execution_count": 39,
   "metadata": {
    "hide_input": false
   },
   "outputs": [],
   "source": [
    "not_names = ['a', 'the', 'an', 'very', 'one', 'quite', 'just', 'mad', 'actually', 'getting', 'not', \n",
    "                 'infuriating', 'space', 'unacceptable', 'his', 'old', 'O', 'life', 'this', 'incredibly', \n",
    "                 'such', 'light', 'officially', 'all', 'by', 'my']  \n",
    "\n",
    "def fix_name(row):\n",
    "    \"\"\"\n",
    "    Returns the row withthe corrected name if found and Null if no name was found\n",
    "    \"\"\"\n",
    "    if row['name'] in not_names or row['name'] == 'None':\n",
    "        try:\n",
    "            pattern = re.compile(r'(?:name(?:d)?)\\s{1}(?:is\\s)?([A-Za-z]+)')\n",
    "            new_name = re.findall(pattern, row['text'])[0]\n",
    "            row['name'] = new_name \n",
    "\n",
    "        except IndexError:\n",
    "            row['name'] = np.NaN\n",
    "    return row\n",
    "\n",
    "\n",
    "df_archive_clean = df_archive_clean.apply(lambda x: fix_name(x), axis=1)"
   ]
  },
  {
   "cell_type": "markdown",
   "metadata": {},
   "source": [
    "#### Test"
   ]
  },
  {
   "cell_type": "code",
   "execution_count": 40,
   "metadata": {
    "hide_input": false
   },
   "outputs": [
    {
     "data": {
      "text/html": [
       "<div>\n",
       "<style scoped>\n",
       "    .dataframe tbody tr th:only-of-type {\n",
       "        vertical-align: middle;\n",
       "    }\n",
       "\n",
       "    .dataframe tbody tr th {\n",
       "        vertical-align: top;\n",
       "    }\n",
       "\n",
       "    .dataframe thead th {\n",
       "        text-align: right;\n",
       "    }\n",
       "</style>\n",
       "<table border=\"1\" class=\"dataframe\">\n",
       "  <thead>\n",
       "    <tr style=\"text-align: right;\">\n",
       "      <th></th>\n",
       "      <th>tweet_id</th>\n",
       "      <th>text</th>\n",
       "      <th>name</th>\n",
       "    </tr>\n",
       "  </thead>\n",
       "  <tbody>\n",
       "  </tbody>\n",
       "</table>\n",
       "</div>"
      ],
      "text/plain": [
       "Empty DataFrame\n",
       "Columns: [tweet_id, text, name]\n",
       "Index: []"
      ]
     },
     "execution_count": 40,
     "metadata": {},
     "output_type": "execute_result"
    }
   ],
   "source": [
    "df_archive_clean[['tweet_id','text','name']].query('name in @not_names')"
   ]
  },
  {
   "cell_type": "code",
   "execution_count": 41,
   "metadata": {
    "hide_input": false
   },
   "outputs": [
    {
     "data": {
      "text/plain": [
       "Index([      nan, 'Charlie',    'Lucy',  'Cooper',  'Oliver',  'Tucker',\n",
       "         'Penny',    'Lola',   'Sadie', 'Winston',\n",
       "       ...\n",
       "        'Farfle', 'Strider', 'Eleanor',    'Nico',    'Kial',  'Willow',\n",
       "        'Spanky',    'Kara',  'Vinnie',  'Stuart'],\n",
       "      dtype='object', length=955)"
      ]
     },
     "execution_count": 41,
     "metadata": {},
     "output_type": "execute_result"
    }
   ],
   "source": [
    "df_archive_clean['name'].value_counts(dropna=False).keys()"
   ]
  },
  {
   "cell_type": "markdown",
   "metadata": {},
   "source": [
    "#### Define\n",
    "\n",
    "- The tweet's source is extracted from the 'source' column by extracting the inner text of the html 'a' tag using regex. \n",
    "\n",
    "#### Code"
   ]
  },
  {
   "cell_type": "code",
   "execution_count": 42,
   "metadata": {
    "hide_input": false
   },
   "outputs": [],
   "source": [
    "def fix_source(row):\n",
    "    \"\"\"\n",
    "    Returns the extracted string from the html tag\n",
    "    \"\"\"\n",
    "    pattern = re.compile(r'(?:(?!>).)*?(?=(?:<)|$)')\n",
    "    source = re.findall(pattern, row['source'])[1]\n",
    "    if source:\n",
    "        return source\n",
    "    else:\n",
    "        return row['source']\n",
    "    \n",
    "    \n",
    "df_archive_clean['source'] = df_archive_clean.apply(lambda x: fix_source(x), axis=1)"
   ]
  },
  {
   "cell_type": "markdown",
   "metadata": {},
   "source": [
    "#### Test"
   ]
  },
  {
   "cell_type": "code",
   "execution_count": 43,
   "metadata": {
    "hide_input": false,
    "scrolled": false
   },
   "outputs": [
    {
     "data": {
      "text/plain": [
       "Twitter for iPhone     1962\n",
       "Vine - Make a Scene      91\n",
       "Twitter Web Client       30\n",
       "TweetDeck                11\n",
       "Name: source, dtype: int64"
      ]
     },
     "execution_count": 43,
     "metadata": {},
     "output_type": "execute_result"
    }
   ],
   "source": [
    "df_archive_clean['source'].value_counts()"
   ]
  },
  {
   "cell_type": "code",
   "execution_count": 44,
   "metadata": {
    "hide_input": true
   },
   "outputs": [
    {
     "data": {
      "text/html": [
       "<div>\n",
       "<style scoped>\n",
       "    .dataframe tbody tr th:only-of-type {\n",
       "        vertical-align: middle;\n",
       "    }\n",
       "\n",
       "    .dataframe tbody tr th {\n",
       "        vertical-align: top;\n",
       "    }\n",
       "\n",
       "    .dataframe thead th {\n",
       "        text-align: right;\n",
       "    }\n",
       "</style>\n",
       "<table border=\"1\" class=\"dataframe\">\n",
       "  <thead>\n",
       "    <tr style=\"text-align: right;\">\n",
       "      <th></th>\n",
       "      <th>tweet_id</th>\n",
       "      <th>timestamp</th>\n",
       "      <th>source</th>\n",
       "      <th>text</th>\n",
       "      <th>expanded_urls</th>\n",
       "      <th>rating_numerator</th>\n",
       "      <th>rating_denominator</th>\n",
       "      <th>name</th>\n",
       "      <th>dog_stage</th>\n",
       "    </tr>\n",
       "  </thead>\n",
       "  <tbody>\n",
       "    <tr>\n",
       "      <th>957</th>\n",
       "      <td>751538714308972544</td>\n",
       "      <td>2016-07-08 22:09:27+00:00</td>\n",
       "      <td>Twitter for iPhone</td>\n",
       "      <td>This is Max. She has one ear that's always sli...</td>\n",
       "      <td>https://twitter.com/dog_rates/status/751538714...</td>\n",
       "      <td>10</td>\n",
       "      <td>10</td>\n",
       "      <td>Max</td>\n",
       "      <td>NaN</td>\n",
       "    </tr>\n",
       "    <tr>\n",
       "      <th>2091</th>\n",
       "      <td>670783437142401025</td>\n",
       "      <td>2015-11-29 01:56:48+00:00</td>\n",
       "      <td>Twitter for iPhone</td>\n",
       "      <td>Flamboyant pup here. Probably poisonous. Won't...</td>\n",
       "      <td>https://twitter.com/dog_rates/status/670783437...</td>\n",
       "      <td>1</td>\n",
       "      <td>10</td>\n",
       "      <td>NaN</td>\n",
       "      <td>NaN</td>\n",
       "    </tr>\n",
       "    <tr>\n",
       "      <th>1344</th>\n",
       "      <td>704499785726889984</td>\n",
       "      <td>2016-03-01 02:53:32+00:00</td>\n",
       "      <td>Twitter for iPhone</td>\n",
       "      <td>When you wake up from a long nap and have no i...</td>\n",
       "      <td>https://twitter.com/dog_rates/status/704499785...</td>\n",
       "      <td>12</td>\n",
       "      <td>10</td>\n",
       "      <td>NaN</td>\n",
       "      <td>NaN</td>\n",
       "    </tr>\n",
       "    <tr>\n",
       "      <th>304</th>\n",
       "      <td>836380477523124226</td>\n",
       "      <td>2017-02-28 01:00:19+00:00</td>\n",
       "      <td>Twitter for iPhone</td>\n",
       "      <td>This is Ava. She just blasted off. Streamline ...</td>\n",
       "      <td>https://twitter.com/dog_rates/status/836380477...</td>\n",
       "      <td>12</td>\n",
       "      <td>10</td>\n",
       "      <td>Ava</td>\n",
       "      <td>pupper</td>\n",
       "    </tr>\n",
       "    <tr>\n",
       "      <th>2230</th>\n",
       "      <td>668237644992782336</td>\n",
       "      <td>2015-11-22 01:20:44+00:00</td>\n",
       "      <td>Twitter for iPhone</td>\n",
       "      <td>This is Torque. He served his nickel. Better n...</td>\n",
       "      <td>https://twitter.com/dog_rates/status/668237644...</td>\n",
       "      <td>10</td>\n",
       "      <td>10</td>\n",
       "      <td>Torque</td>\n",
       "      <td>NaN</td>\n",
       "    </tr>\n",
       "  </tbody>\n",
       "</table>\n",
       "</div>"
      ],
      "text/plain": [
       "                tweet_id                 timestamp              source  \\\n",
       "957   751538714308972544 2016-07-08 22:09:27+00:00  Twitter for iPhone   \n",
       "2091  670783437142401025 2015-11-29 01:56:48+00:00  Twitter for iPhone   \n",
       "1344  704499785726889984 2016-03-01 02:53:32+00:00  Twitter for iPhone   \n",
       "304   836380477523124226 2017-02-28 01:00:19+00:00  Twitter for iPhone   \n",
       "2230  668237644992782336 2015-11-22 01:20:44+00:00  Twitter for iPhone   \n",
       "\n",
       "                                                   text  \\\n",
       "957   This is Max. She has one ear that's always sli...   \n",
       "2091  Flamboyant pup here. Probably poisonous. Won't...   \n",
       "1344  When you wake up from a long nap and have no i...   \n",
       "304   This is Ava. She just blasted off. Streamline ...   \n",
       "2230  This is Torque. He served his nickel. Better n...   \n",
       "\n",
       "                                          expanded_urls  rating_numerator  \\\n",
       "957   https://twitter.com/dog_rates/status/751538714...                10   \n",
       "2091  https://twitter.com/dog_rates/status/670783437...                 1   \n",
       "1344  https://twitter.com/dog_rates/status/704499785...                12   \n",
       "304   https://twitter.com/dog_rates/status/836380477...                12   \n",
       "2230  https://twitter.com/dog_rates/status/668237644...                10   \n",
       "\n",
       "      rating_denominator    name dog_stage  \n",
       "957                   10     Max       NaN  \n",
       "2091                  10     NaN       NaN  \n",
       "1344                  10     NaN       NaN  \n",
       "304                   10     Ava    pupper  \n",
       "2230                  10  Torque       NaN  "
      ]
     },
     "execution_count": 44,
     "metadata": {},
     "output_type": "execute_result"
    }
   ],
   "source": [
    "df_archive_clean.sample(5)"
   ]
  },
  {
   "cell_type": "markdown",
   "metadata": {},
   "source": [
    "## 3.2 Tweet Image Predictions"
   ]
  },
  {
   "cell_type": "code",
   "execution_count": 45,
   "metadata": {},
   "outputs": [],
   "source": [
    "# copy into a new DataFrame to be cleaned\n",
    "df_pred_clean = df_pred.copy()"
   ]
  },
  {
   "cell_type": "markdown",
   "metadata": {},
   "source": [
    "#### Define\n",
    "\n",
    "* Convert the dataframe shape such that each row represents a prediction using the panas `wide_to_long` function.\n",
    "\n",
    "#### Code"
   ]
  },
  {
   "cell_type": "code",
   "execution_count": 46,
   "metadata": {
    "hide_input": false
   },
   "outputs": [],
   "source": [
    "# Renaming the dataset columns\n",
    "cols = ['tweet_id', 'jpg_url', 'img_num', \n",
    "       'prediction_1', 'confidence_1', 'breed_1',\n",
    "       'prediction_2', 'confidence_2', 'breed_2',\n",
    "       'prediction_3', 'confidence_3', 'breed_3']\n",
    "\n",
    "df_pred_clean.columns = cols\n",
    "\n",
    "df_pred_clean = pd.wide_to_long(df_pred_clean, stubnames=['prediction', 'confidence', 'breed'], \n",
    "    i=['tweet_id', 'jpg_url', 'img_num'], j='prediction_level', sep=\"_\").reset_index()"
   ]
  },
  {
   "cell_type": "markdown",
   "metadata": {},
   "source": [
    "#### Test"
   ]
  },
  {
   "cell_type": "code",
   "execution_count": 47,
   "metadata": {
    "hide_input": false,
    "scrolled": true
   },
   "outputs": [
    {
     "data": {
      "text/html": [
       "<div>\n",
       "<style scoped>\n",
       "    .dataframe tbody tr th:only-of-type {\n",
       "        vertical-align: middle;\n",
       "    }\n",
       "\n",
       "    .dataframe tbody tr th {\n",
       "        vertical-align: top;\n",
       "    }\n",
       "\n",
       "    .dataframe thead th {\n",
       "        text-align: right;\n",
       "    }\n",
       "</style>\n",
       "<table border=\"1\" class=\"dataframe\">\n",
       "  <thead>\n",
       "    <tr style=\"text-align: right;\">\n",
       "      <th></th>\n",
       "      <th>tweet_id</th>\n",
       "      <th>jpg_url</th>\n",
       "      <th>img_num</th>\n",
       "      <th>prediction_level</th>\n",
       "      <th>prediction</th>\n",
       "      <th>confidence</th>\n",
       "      <th>breed</th>\n",
       "    </tr>\n",
       "  </thead>\n",
       "  <tbody>\n",
       "    <tr>\n",
       "      <th>3958</th>\n",
       "      <td>756275833623502848</td>\n",
       "      <td>https://pbs.twimg.com/media/Cn7U2xlW8AI9Pqp.jpg</td>\n",
       "      <td>1</td>\n",
       "      <td>2</td>\n",
       "      <td>Irish_terrier</td>\n",
       "      <td>0.086981</td>\n",
       "      <td>True</td>\n",
       "    </tr>\n",
       "    <tr>\n",
       "      <th>4963</th>\n",
       "      <td>810254108431155201</td>\n",
       "      <td>https://pbs.twimg.com/media/Cz6Z0DgWIAAfdvp.jpg</td>\n",
       "      <td>1</td>\n",
       "      <td>2</td>\n",
       "      <td>American_Staffordshire_terrier</td>\n",
       "      <td>0.261233</td>\n",
       "      <td>True</td>\n",
       "    </tr>\n",
       "    <tr>\n",
       "      <th>888</th>\n",
       "      <td>671362598324076544</td>\n",
       "      <td>https://pbs.twimg.com/media/CVEouDRXAAEe8mt.jpg</td>\n",
       "      <td>1</td>\n",
       "      <td>1</td>\n",
       "      <td>tub</td>\n",
       "      <td>0.393616</td>\n",
       "      <td>False</td>\n",
       "    </tr>\n",
       "    <tr>\n",
       "      <th>1882</th>\n",
       "      <td>680836378243002368</td>\n",
       "      <td>https://pbs.twimg.com/media/CXLREjOW8AElfk6.jpg</td>\n",
       "      <td>3</td>\n",
       "      <td>2</td>\n",
       "      <td>Shetland_sheepdog</td>\n",
       "      <td>0.160669</td>\n",
       "      <td>True</td>\n",
       "    </tr>\n",
       "    <tr>\n",
       "      <th>482</th>\n",
       "      <td>668902994700836864</td>\n",
       "      <td>https://pbs.twimg.com/media/CUhruUgUAAAa8FQ.jpg</td>\n",
       "      <td>1</td>\n",
       "      <td>3</td>\n",
       "      <td>Blenheim_spaniel</td>\n",
       "      <td>0.028004</td>\n",
       "      <td>True</td>\n",
       "    </tr>\n",
       "  </tbody>\n",
       "</table>\n",
       "</div>"
      ],
      "text/plain": [
       "                tweet_id                                          jpg_url  \\\n",
       "3958  756275833623502848  https://pbs.twimg.com/media/Cn7U2xlW8AI9Pqp.jpg   \n",
       "4963  810254108431155201  https://pbs.twimg.com/media/Cz6Z0DgWIAAfdvp.jpg   \n",
       "888   671362598324076544  https://pbs.twimg.com/media/CVEouDRXAAEe8mt.jpg   \n",
       "1882  680836378243002368  https://pbs.twimg.com/media/CXLREjOW8AElfk6.jpg   \n",
       "482   668902994700836864  https://pbs.twimg.com/media/CUhruUgUAAAa8FQ.jpg   \n",
       "\n",
       "      img_num  prediction_level                      prediction  confidence  \\\n",
       "3958        1                 2                   Irish_terrier    0.086981   \n",
       "4963        1                 2  American_Staffordshire_terrier    0.261233   \n",
       "888         1                 1                             tub    0.393616   \n",
       "1882        3                 2               Shetland_sheepdog    0.160669   \n",
       "482         1                 3                Blenheim_spaniel    0.028004   \n",
       "\n",
       "      breed  \n",
       "3958   True  \n",
       "4963   True  \n",
       "888   False  \n",
       "1882   True  \n",
       "482    True  "
      ]
     },
     "execution_count": 47,
     "metadata": {},
     "output_type": "execute_result"
    }
   ],
   "source": [
    "df_pred_clean.sample(5)"
   ]
  },
  {
   "cell_type": "markdown",
   "metadata": {},
   "source": [
    "## 3.3 Twitter API"
   ]
  },
  {
   "cell_type": "code",
   "execution_count": 48,
   "metadata": {},
   "outputs": [],
   "source": [
    "# copy into a new DataFrame to be cleaned\n",
    "df_api_clean = df_api.copy()"
   ]
  },
  {
   "cell_type": "markdown",
   "metadata": {},
   "source": [
    "#### Define\n",
    "\n",
    "* Convert the 'tweet_id', 'retweet_count' and 'favorite_count' columns to integer instead of string.\n",
    "\n",
    "#### Code"
   ]
  },
  {
   "cell_type": "code",
   "execution_count": 49,
   "metadata": {
    "hide_input": false
   },
   "outputs": [],
   "source": [
    "df_api_clean['tweet_id'] = df_api_clean['tweet_id'].astype(int)\n",
    "df_api_clean['retweet_count'] = df_api_clean['retweet_count'].astype(int)\n",
    "df_api_clean['favorite_count'] = df_api_clean['favorite_count'].astype(int)"
   ]
  },
  {
   "cell_type": "markdown",
   "metadata": {},
   "source": [
    "#### Test"
   ]
  },
  {
   "cell_type": "code",
   "execution_count": 50,
   "metadata": {
    "hide_input": false,
    "scrolled": true
   },
   "outputs": [
    {
     "data": {
      "text/plain": [
       "tweet_id          int64\n",
       "retweet_count     int64\n",
       "favorite_count    int64\n",
       "dtype: object"
      ]
     },
     "execution_count": 50,
     "metadata": {},
     "output_type": "execute_result"
    }
   ],
   "source": [
    "df_api_clean.dtypes"
   ]
  },
  {
   "cell_type": "markdown",
   "metadata": {},
   "source": [
    "## 3.4 Merging Data"
   ]
  },
  {
   "cell_type": "markdown",
   "metadata": {},
   "source": [
    "#### Define\n",
    "\n",
    "* Merge the `df_archive_clean` and the `df_api_clean` based on the 'tweet_id' column.\n",
    "\n",
    "#### Code"
   ]
  },
  {
   "cell_type": "code",
   "execution_count": 51,
   "metadata": {
    "hide_input": false
   },
   "outputs": [],
   "source": [
    "df_merged = pd.merge(df_archive_clean, df_api_clean, on='tweet_id')"
   ]
  },
  {
   "cell_type": "markdown",
   "metadata": {},
   "source": [
    "#### Test"
   ]
  },
  {
   "cell_type": "code",
   "execution_count": 52,
   "metadata": {
    "hide_input": false,
    "scrolled": true
   },
   "outputs": [
    {
     "data": {
      "text/html": [
       "<div>\n",
       "<style scoped>\n",
       "    .dataframe tbody tr th:only-of-type {\n",
       "        vertical-align: middle;\n",
       "    }\n",
       "\n",
       "    .dataframe tbody tr th {\n",
       "        vertical-align: top;\n",
       "    }\n",
       "\n",
       "    .dataframe thead th {\n",
       "        text-align: right;\n",
       "    }\n",
       "</style>\n",
       "<table border=\"1\" class=\"dataframe\">\n",
       "  <thead>\n",
       "    <tr style=\"text-align: right;\">\n",
       "      <th></th>\n",
       "      <th>tweet_id</th>\n",
       "      <th>timestamp</th>\n",
       "      <th>source</th>\n",
       "      <th>text</th>\n",
       "      <th>expanded_urls</th>\n",
       "      <th>rating_numerator</th>\n",
       "      <th>rating_denominator</th>\n",
       "      <th>name</th>\n",
       "      <th>dog_stage</th>\n",
       "      <th>retweet_count</th>\n",
       "      <th>favorite_count</th>\n",
       "    </tr>\n",
       "  </thead>\n",
       "  <tbody>\n",
       "    <tr>\n",
       "      <th>644</th>\n",
       "      <td>766423258543644672</td>\n",
       "      <td>2016-08-18 23:55:18+00:00</td>\n",
       "      <td>Twitter for iPhone</td>\n",
       "      <td>This is Shadoe. Her tongue flies out of her mo...</td>\n",
       "      <td>https://twitter.com/dog_rates/status/766423258...</td>\n",
       "      <td>9</td>\n",
       "      <td>10</td>\n",
       "      <td>Shadoe</td>\n",
       "      <td>NaN</td>\n",
       "      <td>1546</td>\n",
       "      <td>5902</td>\n",
       "    </tr>\n",
       "    <tr>\n",
       "      <th>708</th>\n",
       "      <td>680191257256136705</td>\n",
       "      <td>2015-12-25 01:00:07+00:00</td>\n",
       "      <td>Twitter for iPhone</td>\n",
       "      <td>Here's a sleepy Christmas pupper 11/10 https:/...</td>\n",
       "      <td>https://twitter.com/dog_rates/status/680191257...</td>\n",
       "      <td>11</td>\n",
       "      <td>10</td>\n",
       "      <td>NaN</td>\n",
       "      <td>pupper</td>\n",
       "      <td>479</td>\n",
       "      <td>2080</td>\n",
       "    </tr>\n",
       "    <tr>\n",
       "      <th>868</th>\n",
       "      <td>674790488185167872</td>\n",
       "      <td>2015-12-10 03:19:24+00:00</td>\n",
       "      <td>Twitter for iPhone</td>\n",
       "      <td>ER... MER... GERD 13/10 https://t.co/L1puJISV1a</td>\n",
       "      <td>https://twitter.com/dog_rates/status/674790488...</td>\n",
       "      <td>13</td>\n",
       "      <td>10</td>\n",
       "      <td>NaN</td>\n",
       "      <td>NaN</td>\n",
       "      <td>235</td>\n",
       "      <td>1041</td>\n",
       "    </tr>\n",
       "  </tbody>\n",
       "</table>\n",
       "</div>"
      ],
      "text/plain": [
       "               tweet_id                 timestamp              source  \\\n",
       "644  766423258543644672 2016-08-18 23:55:18+00:00  Twitter for iPhone   \n",
       "708  680191257256136705 2015-12-25 01:00:07+00:00  Twitter for iPhone   \n",
       "868  674790488185167872 2015-12-10 03:19:24+00:00  Twitter for iPhone   \n",
       "\n",
       "                                                  text  \\\n",
       "644  This is Shadoe. Her tongue flies out of her mo...   \n",
       "708  Here's a sleepy Christmas pupper 11/10 https:/...   \n",
       "868    ER... MER... GERD 13/10 https://t.co/L1puJISV1a   \n",
       "\n",
       "                                         expanded_urls  rating_numerator  \\\n",
       "644  https://twitter.com/dog_rates/status/766423258...                 9   \n",
       "708  https://twitter.com/dog_rates/status/680191257...                11   \n",
       "868  https://twitter.com/dog_rates/status/674790488...                13   \n",
       "\n",
       "     rating_denominator    name dog_stage  retweet_count  favorite_count  \n",
       "644                  10  Shadoe       NaN           1546            5902  \n",
       "708                  10     NaN    pupper            479            2080  \n",
       "868                  10     NaN       NaN            235            1041  "
      ]
     },
     "execution_count": 52,
     "metadata": {},
     "output_type": "execute_result"
    }
   ],
   "source": [
    "df_merged.sample(3)"
   ]
  },
  {
   "cell_type": "markdown",
   "metadata": {},
   "source": [
    "## 3.5 Storing Data"
   ]
  },
  {
   "cell_type": "markdown",
   "metadata": {},
   "source": [
    "export the df_merged file to a new file 'twitter_archive_clean.csv'"
   ]
  },
  {
   "cell_type": "code",
   "execution_count": 53,
   "metadata": {
    "hide_input": false
   },
   "outputs": [],
   "source": [
    "df_merged.to_csv('twitter_archive_master.csv',index=False)"
   ]
  },
  {
   "cell_type": "markdown",
   "metadata": {},
   "source": [
    "export the cleaned image predictions DataFrame to 'image_predictions_clean.csv' "
   ]
  },
  {
   "cell_type": "code",
   "execution_count": 54,
   "metadata": {
    "hide_input": false
   },
   "outputs": [],
   "source": [
    "df_pred_clean.to_csv('image_predictions_clean.csv',index=False)"
   ]
  },
  {
   "cell_type": "markdown",
   "metadata": {},
   "source": [
    "The exported files are then analyzed and visualized in a separate file [act_report.html](act_report.html)"
   ]
  },
  {
   "cell_type": "code",
   "execution_count": null,
   "metadata": {},
   "outputs": [],
   "source": []
  }
 ],
 "metadata": {
  "hide_input": false,
  "kernelspec": {
   "display_name": "Python 3",
   "language": "python",
   "name": "python3"
  },
  "language_info": {
   "codemirror_mode": {
    "name": "ipython",
    "version": 3
   },
   "file_extension": ".py",
   "mimetype": "text/x-python",
   "name": "python",
   "nbconvert_exporter": "python",
   "pygments_lexer": "ipython3",
   "version": "3.8.5"
  },
  "toc": {
   "base_numbering": 1,
   "nav_menu": {},
   "number_sections": false,
   "sideBar": true,
   "skip_h1_title": false,
   "title_cell": "Table of Contents",
   "title_sidebar": "Contents",
   "toc_cell": true,
   "toc_position": {
    "height": "calc(100% - 180px)",
    "left": "10px",
    "top": "150px",
    "width": "229.091px"
   },
   "toc_section_display": true,
   "toc_window_display": true
  }
 },
 "nbformat": 4,
 "nbformat_minor": 4
}
